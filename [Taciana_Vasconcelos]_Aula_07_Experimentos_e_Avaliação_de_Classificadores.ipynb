{
  "nbformat": 4,
  "nbformat_minor": 0,
  "metadata": {
    "colab": {
      "provenance": [],
      "include_colab_link": true
    },
    "kernelspec": {
      "name": "python3",
      "display_name": "Python 3"
    },
    "language_info": {
      "name": "python"
    }
  },
  "cells": [
    {
      "cell_type": "markdown",
      "metadata": {
        "id": "view-in-github",
        "colab_type": "text"
      },
      "source": [
        "<a href=\"https://colab.research.google.com/github/Taciana3090/FAST-MachineLearning/blob/Taciana3090%2Fmaster/%5BTaciana_Vasconcelos%5D_Aula_07_Experimentos_e_Avalia%C3%A7%C3%A3o_de_Classificadores.ipynb\" target=\"_parent\"><img src=\"https://colab.research.google.com/assets/colab-badge.svg\" alt=\"Open In Colab\"/></a>"
      ]
    },
    {
      "cell_type": "markdown",
      "source": [
        "# Titanic - Machine Learning from Disaster\n",
        "O naufrágio do Titanic é um dos naufrágios mais famosos da história.\n",
        "\n",
        "Em 15 de abril de 1912, durante sua viagem inaugural, o amplamente considerado \"inafundável\" RMS Titanic afundou após colidir com um iceberg. Infelizmente, não havia botes salva-vidas suficientes para todos a bordo, resultando na morte de 1.502 dos 2.224 passageiros e tripulantes.\n",
        "\n",
        "Embora houvesse algum elemento de sorte envolvido na sobrevivência, parece que alguns grupos de pessoas tinham mais probabilidade de sobreviver do que outros.\n",
        "\n",
        "Neste desafio de kaggle, pedimos que você construa um modelo preditivo que responda à pergunta: \"que tipo de pessoa tem mais probabilidade de sobreviver?\" usando dados de passageiros (ou seja, nome, idade, sexo, classe socioeconômica, etc.).\n",
        "\n",
        "https://www.kaggle.com/c/titanic/overview \n",
        "\n"
      ],
      "metadata": {
        "id": "p21j0FhLMxm-"
      }
    },
    {
      "cell_type": "markdown",
      "source": [
        "## Objetivos de aprendizado:\n",
        "Depois de fazer este Colab, você saberá como:\n",
        "\n",
        "*   Experimentar com diferentes métricas para selecionar seu modelo de classificação\n",
        "*   Avaliar o seu modelo de acordo com as métricas abordadas nas bases de treino e teste: Matriz Confusão, Precisão, Cobertura, Acurácia e F1-Score\n",
        "*   Estimar os melhores parametros para um modelo de clasificação\n",
        "* Criar uma solução para a competição kaggle Titanic\n",
        "\n"
      ],
      "metadata": {
        "id": "OtBJciRQTU0u"
      }
    },
    {
      "cell_type": "markdown",
      "source": [
        "## Datasets\n",
        "\n",
        "Nesta competição, você terá acesso a dois conjuntos de dados semelhantes que incluem informações do passageiro, como nome, idade, sexo, classe socioeconômica, etc. Um conjunto de dados é intitulado `train.csv` e o outro é intitulado` test.csv` .\n",
        "\n",
        "Baixe os dados da competição deste site: [Kaggle: Titanic - Machine Learning from Disaster](https://www.kaggle.com/c/titanic/data)\n"
      ],
      "metadata": {
        "id": "FaOEzlBVRSZf"
      }
    },
    {
      "cell_type": "markdown",
      "source": [
        "## Chame as declarações de importação\n",
        "O seguinte codigo importa os modulos necessários"
      ],
      "metadata": {
        "id": "IefhRy6svuRa"
      }
    },
    {
      "cell_type": "code",
      "source": [
        "#@title Load the imports\n",
        "\n",
        "# This Python 3 environment comes with many helpful analytics libraries installed\n",
        "\n",
        "import os\n",
        "import numpy as np # linear algebra\n",
        "import pandas as pd # data processing, CSV file I/O (e.g. pd.read_csv)\n",
        "\n",
        "import seaborn as sns  # visualization tool\n",
        "import matplotlib\n",
        "import matplotlib.pyplot as plt\n",
        "%matplotlib inline\n",
        "\n",
        "import missingno as msno\n",
        "sns.set()\n",
        "\n",
        "[width, height] = matplotlib.rcParams['figure.figsize']\n",
        "if width < 10:\n",
        "    matplotlib.rcParams['figure.figsize'] = [width * 2.5, height]\n",
        "\n"
      ],
      "metadata": {
        "id": "noCJ_pDFvGuO"
      },
      "execution_count": null,
      "outputs": []
    },
    {
      "cell_type": "markdown",
      "source": [
        "## Analisis e exploração dos dados do dataset titanic\n",
        "*Lembrar: Precisa carregar o titanic.zip na raiz do projeto*"
      ],
      "metadata": {
        "id": "0XMKOxu913vU"
      }
    },
    {
      "cell_type": "code",
      "source": [
        "!unzip -n titanic.zip -d titanic\n",
        "\n",
        "for dirname, _, filenames in os.walk('./titanic'):\n",
        "    for filename in filenames:\n",
        "        print(os.path.join(dirname, filename))\n"
      ],
      "metadata": {
        "id": "cU9SGU9KJx5c",
        "colab": {
          "base_uri": "https://localhost:8080/"
        },
        "outputId": "a6ce73ff-e67d-4603-d2ca-dbd9cfb1f3fe"
      },
      "execution_count": null,
      "outputs": [
        {
          "output_type": "stream",
          "name": "stdout",
          "text": [
            "Archive:  titanic.zip\n",
            "./titanic/gender_submission.csv\n",
            "./titanic/train.csv\n",
            "./titanic/test.csv\n"
          ]
        }
      ]
    },
    {
      "cell_type": "code",
      "source": [
        "# Passo 1\n",
        "# Carrega os dados do dataset titanic empregando pandas (pd)\n",
        "# link: https://pandas.pydata.org/docs/reference/api/pandas.read_csv.html\n",
        "### COMENZAR O CODIGO AQUI ### \n",
        "train_data = pd.read_csv(\"/content/titanic/train.csv\")# ???\n",
        "### TERMINA AQUI ###\n",
        "\n",
        "# Visualize as 15 primeiras linhas da tabela train_data\n",
        "# link: https://pandas.pydata.org/docs/reference/api/pandas.DataFrame.head.html?highlight=head#pandas.DataFrame.head\n",
        "### COMENZAR O CODIGO AQUI ### \n",
        "num_linhas = 15 # ???\n",
        "train_data.head(num_linhas)\n",
        "### TERMINA AQUI ###"
      ],
      "metadata": {
        "colab": {
          "base_uri": "https://localhost:8080/",
          "height": 755
        },
        "id": "ESvt7geizhPh",
        "outputId": "68b905b9-6982-460a-cb20-dbb5352dab33"
      },
      "execution_count": null,
      "outputs": [
        {
          "output_type": "execute_result",
          "data": {
            "text/plain": [
              "    PassengerId  Survived  Pclass  \\\n",
              "0             1         0       3   \n",
              "1             2         1       1   \n",
              "2             3         1       3   \n",
              "3             4         1       1   \n",
              "4             5         0       3   \n",
              "5             6         0       3   \n",
              "6             7         0       1   \n",
              "7             8         0       3   \n",
              "8             9         1       3   \n",
              "9            10         1       2   \n",
              "10           11         1       3   \n",
              "11           12         1       1   \n",
              "12           13         0       3   \n",
              "13           14         0       3   \n",
              "14           15         0       3   \n",
              "\n",
              "                                                 Name     Sex   Age  SibSp  \\\n",
              "0                             Braund, Mr. Owen Harris    male  22.0      1   \n",
              "1   Cumings, Mrs. John Bradley (Florence Briggs Th...  female  38.0      1   \n",
              "2                              Heikkinen, Miss. Laina  female  26.0      0   \n",
              "3        Futrelle, Mrs. Jacques Heath (Lily May Peel)  female  35.0      1   \n",
              "4                            Allen, Mr. William Henry    male  35.0      0   \n",
              "5                                    Moran, Mr. James    male   NaN      0   \n",
              "6                             McCarthy, Mr. Timothy J    male  54.0      0   \n",
              "7                      Palsson, Master. Gosta Leonard    male   2.0      3   \n",
              "8   Johnson, Mrs. Oscar W (Elisabeth Vilhelmina Berg)  female  27.0      0   \n",
              "9                 Nasser, Mrs. Nicholas (Adele Achem)  female  14.0      1   \n",
              "10                    Sandstrom, Miss. Marguerite Rut  female   4.0      1   \n",
              "11                           Bonnell, Miss. Elizabeth  female  58.0      0   \n",
              "12                     Saundercock, Mr. William Henry    male  20.0      0   \n",
              "13                        Andersson, Mr. Anders Johan    male  39.0      1   \n",
              "14               Vestrom, Miss. Hulda Amanda Adolfina  female  14.0      0   \n",
              "\n",
              "    Parch            Ticket     Fare Cabin Embarked  \n",
              "0       0         A/5 21171   7.2500   NaN        S  \n",
              "1       0          PC 17599  71.2833   C85        C  \n",
              "2       0  STON/O2. 3101282   7.9250   NaN        S  \n",
              "3       0            113803  53.1000  C123        S  \n",
              "4       0            373450   8.0500   NaN        S  \n",
              "5       0            330877   8.4583   NaN        Q  \n",
              "6       0             17463  51.8625   E46        S  \n",
              "7       1            349909  21.0750   NaN        S  \n",
              "8       2            347742  11.1333   NaN        S  \n",
              "9       0            237736  30.0708   NaN        C  \n",
              "10      1           PP 9549  16.7000    G6        S  \n",
              "11      0            113783  26.5500  C103        S  \n",
              "12      0         A/5. 2151   8.0500   NaN        S  \n",
              "13      5            347082  31.2750   NaN        S  \n",
              "14      0            350406   7.8542   NaN        S  "
            ],
            "text/html": [
              "\n",
              "  <div id=\"df-4bd4772a-03bc-4a13-b45c-122577dc07b0\">\n",
              "    <div class=\"colab-df-container\">\n",
              "      <div>\n",
              "<style scoped>\n",
              "    .dataframe tbody tr th:only-of-type {\n",
              "        vertical-align: middle;\n",
              "    }\n",
              "\n",
              "    .dataframe tbody tr th {\n",
              "        vertical-align: top;\n",
              "    }\n",
              "\n",
              "    .dataframe thead th {\n",
              "        text-align: right;\n",
              "    }\n",
              "</style>\n",
              "<table border=\"1\" class=\"dataframe\">\n",
              "  <thead>\n",
              "    <tr style=\"text-align: right;\">\n",
              "      <th></th>\n",
              "      <th>PassengerId</th>\n",
              "      <th>Survived</th>\n",
              "      <th>Pclass</th>\n",
              "      <th>Name</th>\n",
              "      <th>Sex</th>\n",
              "      <th>Age</th>\n",
              "      <th>SibSp</th>\n",
              "      <th>Parch</th>\n",
              "      <th>Ticket</th>\n",
              "      <th>Fare</th>\n",
              "      <th>Cabin</th>\n",
              "      <th>Embarked</th>\n",
              "    </tr>\n",
              "  </thead>\n",
              "  <tbody>\n",
              "    <tr>\n",
              "      <th>0</th>\n",
              "      <td>1</td>\n",
              "      <td>0</td>\n",
              "      <td>3</td>\n",
              "      <td>Braund, Mr. Owen Harris</td>\n",
              "      <td>male</td>\n",
              "      <td>22.0</td>\n",
              "      <td>1</td>\n",
              "      <td>0</td>\n",
              "      <td>A/5 21171</td>\n",
              "      <td>7.2500</td>\n",
              "      <td>NaN</td>\n",
              "      <td>S</td>\n",
              "    </tr>\n",
              "    <tr>\n",
              "      <th>1</th>\n",
              "      <td>2</td>\n",
              "      <td>1</td>\n",
              "      <td>1</td>\n",
              "      <td>Cumings, Mrs. John Bradley (Florence Briggs Th...</td>\n",
              "      <td>female</td>\n",
              "      <td>38.0</td>\n",
              "      <td>1</td>\n",
              "      <td>0</td>\n",
              "      <td>PC 17599</td>\n",
              "      <td>71.2833</td>\n",
              "      <td>C85</td>\n",
              "      <td>C</td>\n",
              "    </tr>\n",
              "    <tr>\n",
              "      <th>2</th>\n",
              "      <td>3</td>\n",
              "      <td>1</td>\n",
              "      <td>3</td>\n",
              "      <td>Heikkinen, Miss. Laina</td>\n",
              "      <td>female</td>\n",
              "      <td>26.0</td>\n",
              "      <td>0</td>\n",
              "      <td>0</td>\n",
              "      <td>STON/O2. 3101282</td>\n",
              "      <td>7.9250</td>\n",
              "      <td>NaN</td>\n",
              "      <td>S</td>\n",
              "    </tr>\n",
              "    <tr>\n",
              "      <th>3</th>\n",
              "      <td>4</td>\n",
              "      <td>1</td>\n",
              "      <td>1</td>\n",
              "      <td>Futrelle, Mrs. Jacques Heath (Lily May Peel)</td>\n",
              "      <td>female</td>\n",
              "      <td>35.0</td>\n",
              "      <td>1</td>\n",
              "      <td>0</td>\n",
              "      <td>113803</td>\n",
              "      <td>53.1000</td>\n",
              "      <td>C123</td>\n",
              "      <td>S</td>\n",
              "    </tr>\n",
              "    <tr>\n",
              "      <th>4</th>\n",
              "      <td>5</td>\n",
              "      <td>0</td>\n",
              "      <td>3</td>\n",
              "      <td>Allen, Mr. William Henry</td>\n",
              "      <td>male</td>\n",
              "      <td>35.0</td>\n",
              "      <td>0</td>\n",
              "      <td>0</td>\n",
              "      <td>373450</td>\n",
              "      <td>8.0500</td>\n",
              "      <td>NaN</td>\n",
              "      <td>S</td>\n",
              "    </tr>\n",
              "    <tr>\n",
              "      <th>5</th>\n",
              "      <td>6</td>\n",
              "      <td>0</td>\n",
              "      <td>3</td>\n",
              "      <td>Moran, Mr. James</td>\n",
              "      <td>male</td>\n",
              "      <td>NaN</td>\n",
              "      <td>0</td>\n",
              "      <td>0</td>\n",
              "      <td>330877</td>\n",
              "      <td>8.4583</td>\n",
              "      <td>NaN</td>\n",
              "      <td>Q</td>\n",
              "    </tr>\n",
              "    <tr>\n",
              "      <th>6</th>\n",
              "      <td>7</td>\n",
              "      <td>0</td>\n",
              "      <td>1</td>\n",
              "      <td>McCarthy, Mr. Timothy J</td>\n",
              "      <td>male</td>\n",
              "      <td>54.0</td>\n",
              "      <td>0</td>\n",
              "      <td>0</td>\n",
              "      <td>17463</td>\n",
              "      <td>51.8625</td>\n",
              "      <td>E46</td>\n",
              "      <td>S</td>\n",
              "    </tr>\n",
              "    <tr>\n",
              "      <th>7</th>\n",
              "      <td>8</td>\n",
              "      <td>0</td>\n",
              "      <td>3</td>\n",
              "      <td>Palsson, Master. Gosta Leonard</td>\n",
              "      <td>male</td>\n",
              "      <td>2.0</td>\n",
              "      <td>3</td>\n",
              "      <td>1</td>\n",
              "      <td>349909</td>\n",
              "      <td>21.0750</td>\n",
              "      <td>NaN</td>\n",
              "      <td>S</td>\n",
              "    </tr>\n",
              "    <tr>\n",
              "      <th>8</th>\n",
              "      <td>9</td>\n",
              "      <td>1</td>\n",
              "      <td>3</td>\n",
              "      <td>Johnson, Mrs. Oscar W (Elisabeth Vilhelmina Berg)</td>\n",
              "      <td>female</td>\n",
              "      <td>27.0</td>\n",
              "      <td>0</td>\n",
              "      <td>2</td>\n",
              "      <td>347742</td>\n",
              "      <td>11.1333</td>\n",
              "      <td>NaN</td>\n",
              "      <td>S</td>\n",
              "    </tr>\n",
              "    <tr>\n",
              "      <th>9</th>\n",
              "      <td>10</td>\n",
              "      <td>1</td>\n",
              "      <td>2</td>\n",
              "      <td>Nasser, Mrs. Nicholas (Adele Achem)</td>\n",
              "      <td>female</td>\n",
              "      <td>14.0</td>\n",
              "      <td>1</td>\n",
              "      <td>0</td>\n",
              "      <td>237736</td>\n",
              "      <td>30.0708</td>\n",
              "      <td>NaN</td>\n",
              "      <td>C</td>\n",
              "    </tr>\n",
              "    <tr>\n",
              "      <th>10</th>\n",
              "      <td>11</td>\n",
              "      <td>1</td>\n",
              "      <td>3</td>\n",
              "      <td>Sandstrom, Miss. Marguerite Rut</td>\n",
              "      <td>female</td>\n",
              "      <td>4.0</td>\n",
              "      <td>1</td>\n",
              "      <td>1</td>\n",
              "      <td>PP 9549</td>\n",
              "      <td>16.7000</td>\n",
              "      <td>G6</td>\n",
              "      <td>S</td>\n",
              "    </tr>\n",
              "    <tr>\n",
              "      <th>11</th>\n",
              "      <td>12</td>\n",
              "      <td>1</td>\n",
              "      <td>1</td>\n",
              "      <td>Bonnell, Miss. Elizabeth</td>\n",
              "      <td>female</td>\n",
              "      <td>58.0</td>\n",
              "      <td>0</td>\n",
              "      <td>0</td>\n",
              "      <td>113783</td>\n",
              "      <td>26.5500</td>\n",
              "      <td>C103</td>\n",
              "      <td>S</td>\n",
              "    </tr>\n",
              "    <tr>\n",
              "      <th>12</th>\n",
              "      <td>13</td>\n",
              "      <td>0</td>\n",
              "      <td>3</td>\n",
              "      <td>Saundercock, Mr. William Henry</td>\n",
              "      <td>male</td>\n",
              "      <td>20.0</td>\n",
              "      <td>0</td>\n",
              "      <td>0</td>\n",
              "      <td>A/5. 2151</td>\n",
              "      <td>8.0500</td>\n",
              "      <td>NaN</td>\n",
              "      <td>S</td>\n",
              "    </tr>\n",
              "    <tr>\n",
              "      <th>13</th>\n",
              "      <td>14</td>\n",
              "      <td>0</td>\n",
              "      <td>3</td>\n",
              "      <td>Andersson, Mr. Anders Johan</td>\n",
              "      <td>male</td>\n",
              "      <td>39.0</td>\n",
              "      <td>1</td>\n",
              "      <td>5</td>\n",
              "      <td>347082</td>\n",
              "      <td>31.2750</td>\n",
              "      <td>NaN</td>\n",
              "      <td>S</td>\n",
              "    </tr>\n",
              "    <tr>\n",
              "      <th>14</th>\n",
              "      <td>15</td>\n",
              "      <td>0</td>\n",
              "      <td>3</td>\n",
              "      <td>Vestrom, Miss. Hulda Amanda Adolfina</td>\n",
              "      <td>female</td>\n",
              "      <td>14.0</td>\n",
              "      <td>0</td>\n",
              "      <td>0</td>\n",
              "      <td>350406</td>\n",
              "      <td>7.8542</td>\n",
              "      <td>NaN</td>\n",
              "      <td>S</td>\n",
              "    </tr>\n",
              "  </tbody>\n",
              "</table>\n",
              "</div>\n",
              "      <button class=\"colab-df-convert\" onclick=\"convertToInteractive('df-4bd4772a-03bc-4a13-b45c-122577dc07b0')\"\n",
              "              title=\"Convert this dataframe to an interactive table.\"\n",
              "              style=\"display:none;\">\n",
              "        \n",
              "  <svg xmlns=\"http://www.w3.org/2000/svg\" height=\"24px\"viewBox=\"0 0 24 24\"\n",
              "       width=\"24px\">\n",
              "    <path d=\"M0 0h24v24H0V0z\" fill=\"none\"/>\n",
              "    <path d=\"M18.56 5.44l.94 2.06.94-2.06 2.06-.94-2.06-.94-.94-2.06-.94 2.06-2.06.94zm-11 1L8.5 8.5l.94-2.06 2.06-.94-2.06-.94L8.5 2.5l-.94 2.06-2.06.94zm10 10l.94 2.06.94-2.06 2.06-.94-2.06-.94-.94-2.06-.94 2.06-2.06.94z\"/><path d=\"M17.41 7.96l-1.37-1.37c-.4-.4-.92-.59-1.43-.59-.52 0-1.04.2-1.43.59L10.3 9.45l-7.72 7.72c-.78.78-.78 2.05 0 2.83L4 21.41c.39.39.9.59 1.41.59.51 0 1.02-.2 1.41-.59l7.78-7.78 2.81-2.81c.8-.78.8-2.07 0-2.86zM5.41 20L4 18.59l7.72-7.72 1.47 1.35L5.41 20z\"/>\n",
              "  </svg>\n",
              "      </button>\n",
              "      \n",
              "  <style>\n",
              "    .colab-df-container {\n",
              "      display:flex;\n",
              "      flex-wrap:wrap;\n",
              "      gap: 12px;\n",
              "    }\n",
              "\n",
              "    .colab-df-convert {\n",
              "      background-color: #E8F0FE;\n",
              "      border: none;\n",
              "      border-radius: 50%;\n",
              "      cursor: pointer;\n",
              "      display: none;\n",
              "      fill: #1967D2;\n",
              "      height: 32px;\n",
              "      padding: 0 0 0 0;\n",
              "      width: 32px;\n",
              "    }\n",
              "\n",
              "    .colab-df-convert:hover {\n",
              "      background-color: #E2EBFA;\n",
              "      box-shadow: 0px 1px 2px rgba(60, 64, 67, 0.3), 0px 1px 3px 1px rgba(60, 64, 67, 0.15);\n",
              "      fill: #174EA6;\n",
              "    }\n",
              "\n",
              "    [theme=dark] .colab-df-convert {\n",
              "      background-color: #3B4455;\n",
              "      fill: #D2E3FC;\n",
              "    }\n",
              "\n",
              "    [theme=dark] .colab-df-convert:hover {\n",
              "      background-color: #434B5C;\n",
              "      box-shadow: 0px 1px 3px 1px rgba(0, 0, 0, 0.15);\n",
              "      filter: drop-shadow(0px 1px 2px rgba(0, 0, 0, 0.3));\n",
              "      fill: #FFFFFF;\n",
              "    }\n",
              "  </style>\n",
              "\n",
              "      <script>\n",
              "        const buttonEl =\n",
              "          document.querySelector('#df-4bd4772a-03bc-4a13-b45c-122577dc07b0 button.colab-df-convert');\n",
              "        buttonEl.style.display =\n",
              "          google.colab.kernel.accessAllowed ? 'block' : 'none';\n",
              "\n",
              "        async function convertToInteractive(key) {\n",
              "          const element = document.querySelector('#df-4bd4772a-03bc-4a13-b45c-122577dc07b0');\n",
              "          const dataTable =\n",
              "            await google.colab.kernel.invokeFunction('convertToInteractive',\n",
              "                                                     [key], {});\n",
              "          if (!dataTable) return;\n",
              "\n",
              "          const docLinkHtml = 'Like what you see? Visit the ' +\n",
              "            '<a target=\"_blank\" href=https://colab.research.google.com/notebooks/data_table.ipynb>data table notebook</a>'\n",
              "            + ' to learn more about interactive tables.';\n",
              "          element.innerHTML = '';\n",
              "          dataTable['output_type'] = 'display_data';\n",
              "          await google.colab.output.renderOutput(dataTable, element);\n",
              "          const docLink = document.createElement('div');\n",
              "          docLink.innerHTML = docLinkHtml;\n",
              "          element.appendChild(docLink);\n",
              "        }\n",
              "      </script>\n",
              "    </div>\n",
              "  </div>\n",
              "  "
            ]
          },
          "metadata": {},
          "execution_count": 3
        }
      ]
    },
    {
      "cell_type": "code",
      "source": [
        "# Explorando os dados de teste \n",
        "# Lembrando que os dados de teste de kaggle não possuem o atributo Survival (label para o problema de classificação)\n",
        "test_data = pd.read_csv(\"./titanic/test.csv\")\n",
        "test_data.head()"
      ],
      "metadata": {
        "colab": {
          "base_uri": "https://localhost:8080/",
          "height": 250
        },
        "id": "zq-G4YCB3GCi",
        "outputId": "3909a978-8a69-4867-a9fd-cca124b9d119"
      },
      "execution_count": null,
      "outputs": [
        {
          "output_type": "execute_result",
          "data": {
            "text/plain": [
              "   PassengerId  Pclass                                          Name     Sex  \\\n",
              "0          892       3                              Kelly, Mr. James    male   \n",
              "1          893       3              Wilkes, Mrs. James (Ellen Needs)  female   \n",
              "2          894       2                     Myles, Mr. Thomas Francis    male   \n",
              "3          895       3                              Wirz, Mr. Albert    male   \n",
              "4          896       3  Hirvonen, Mrs. Alexander (Helga E Lindqvist)  female   \n",
              "\n",
              "    Age  SibSp  Parch   Ticket     Fare Cabin Embarked  \n",
              "0  34.5      0      0   330911   7.8292   NaN        Q  \n",
              "1  47.0      1      0   363272   7.0000   NaN        S  \n",
              "2  62.0      0      0   240276   9.6875   NaN        Q  \n",
              "3  27.0      0      0   315154   8.6625   NaN        S  \n",
              "4  22.0      1      1  3101298  12.2875   NaN        S  "
            ],
            "text/html": [
              "\n",
              "  <div id=\"df-40197702-6cef-42a8-a0b5-288456438235\">\n",
              "    <div class=\"colab-df-container\">\n",
              "      <div>\n",
              "<style scoped>\n",
              "    .dataframe tbody tr th:only-of-type {\n",
              "        vertical-align: middle;\n",
              "    }\n",
              "\n",
              "    .dataframe tbody tr th {\n",
              "        vertical-align: top;\n",
              "    }\n",
              "\n",
              "    .dataframe thead th {\n",
              "        text-align: right;\n",
              "    }\n",
              "</style>\n",
              "<table border=\"1\" class=\"dataframe\">\n",
              "  <thead>\n",
              "    <tr style=\"text-align: right;\">\n",
              "      <th></th>\n",
              "      <th>PassengerId</th>\n",
              "      <th>Pclass</th>\n",
              "      <th>Name</th>\n",
              "      <th>Sex</th>\n",
              "      <th>Age</th>\n",
              "      <th>SibSp</th>\n",
              "      <th>Parch</th>\n",
              "      <th>Ticket</th>\n",
              "      <th>Fare</th>\n",
              "      <th>Cabin</th>\n",
              "      <th>Embarked</th>\n",
              "    </tr>\n",
              "  </thead>\n",
              "  <tbody>\n",
              "    <tr>\n",
              "      <th>0</th>\n",
              "      <td>892</td>\n",
              "      <td>3</td>\n",
              "      <td>Kelly, Mr. James</td>\n",
              "      <td>male</td>\n",
              "      <td>34.5</td>\n",
              "      <td>0</td>\n",
              "      <td>0</td>\n",
              "      <td>330911</td>\n",
              "      <td>7.8292</td>\n",
              "      <td>NaN</td>\n",
              "      <td>Q</td>\n",
              "    </tr>\n",
              "    <tr>\n",
              "      <th>1</th>\n",
              "      <td>893</td>\n",
              "      <td>3</td>\n",
              "      <td>Wilkes, Mrs. James (Ellen Needs)</td>\n",
              "      <td>female</td>\n",
              "      <td>47.0</td>\n",
              "      <td>1</td>\n",
              "      <td>0</td>\n",
              "      <td>363272</td>\n",
              "      <td>7.0000</td>\n",
              "      <td>NaN</td>\n",
              "      <td>S</td>\n",
              "    </tr>\n",
              "    <tr>\n",
              "      <th>2</th>\n",
              "      <td>894</td>\n",
              "      <td>2</td>\n",
              "      <td>Myles, Mr. Thomas Francis</td>\n",
              "      <td>male</td>\n",
              "      <td>62.0</td>\n",
              "      <td>0</td>\n",
              "      <td>0</td>\n",
              "      <td>240276</td>\n",
              "      <td>9.6875</td>\n",
              "      <td>NaN</td>\n",
              "      <td>Q</td>\n",
              "    </tr>\n",
              "    <tr>\n",
              "      <th>3</th>\n",
              "      <td>895</td>\n",
              "      <td>3</td>\n",
              "      <td>Wirz, Mr. Albert</td>\n",
              "      <td>male</td>\n",
              "      <td>27.0</td>\n",
              "      <td>0</td>\n",
              "      <td>0</td>\n",
              "      <td>315154</td>\n",
              "      <td>8.6625</td>\n",
              "      <td>NaN</td>\n",
              "      <td>S</td>\n",
              "    </tr>\n",
              "    <tr>\n",
              "      <th>4</th>\n",
              "      <td>896</td>\n",
              "      <td>3</td>\n",
              "      <td>Hirvonen, Mrs. Alexander (Helga E Lindqvist)</td>\n",
              "      <td>female</td>\n",
              "      <td>22.0</td>\n",
              "      <td>1</td>\n",
              "      <td>1</td>\n",
              "      <td>3101298</td>\n",
              "      <td>12.2875</td>\n",
              "      <td>NaN</td>\n",
              "      <td>S</td>\n",
              "    </tr>\n",
              "  </tbody>\n",
              "</table>\n",
              "</div>\n",
              "      <button class=\"colab-df-convert\" onclick=\"convertToInteractive('df-40197702-6cef-42a8-a0b5-288456438235')\"\n",
              "              title=\"Convert this dataframe to an interactive table.\"\n",
              "              style=\"display:none;\">\n",
              "        \n",
              "  <svg xmlns=\"http://www.w3.org/2000/svg\" height=\"24px\"viewBox=\"0 0 24 24\"\n",
              "       width=\"24px\">\n",
              "    <path d=\"M0 0h24v24H0V0z\" fill=\"none\"/>\n",
              "    <path d=\"M18.56 5.44l.94 2.06.94-2.06 2.06-.94-2.06-.94-.94-2.06-.94 2.06-2.06.94zm-11 1L8.5 8.5l.94-2.06 2.06-.94-2.06-.94L8.5 2.5l-.94 2.06-2.06.94zm10 10l.94 2.06.94-2.06 2.06-.94-2.06-.94-.94-2.06-.94 2.06-2.06.94z\"/><path d=\"M17.41 7.96l-1.37-1.37c-.4-.4-.92-.59-1.43-.59-.52 0-1.04.2-1.43.59L10.3 9.45l-7.72 7.72c-.78.78-.78 2.05 0 2.83L4 21.41c.39.39.9.59 1.41.59.51 0 1.02-.2 1.41-.59l7.78-7.78 2.81-2.81c.8-.78.8-2.07 0-2.86zM5.41 20L4 18.59l7.72-7.72 1.47 1.35L5.41 20z\"/>\n",
              "  </svg>\n",
              "      </button>\n",
              "      \n",
              "  <style>\n",
              "    .colab-df-container {\n",
              "      display:flex;\n",
              "      flex-wrap:wrap;\n",
              "      gap: 12px;\n",
              "    }\n",
              "\n",
              "    .colab-df-convert {\n",
              "      background-color: #E8F0FE;\n",
              "      border: none;\n",
              "      border-radius: 50%;\n",
              "      cursor: pointer;\n",
              "      display: none;\n",
              "      fill: #1967D2;\n",
              "      height: 32px;\n",
              "      padding: 0 0 0 0;\n",
              "      width: 32px;\n",
              "    }\n",
              "\n",
              "    .colab-df-convert:hover {\n",
              "      background-color: #E2EBFA;\n",
              "      box-shadow: 0px 1px 2px rgba(60, 64, 67, 0.3), 0px 1px 3px 1px rgba(60, 64, 67, 0.15);\n",
              "      fill: #174EA6;\n",
              "    }\n",
              "\n",
              "    [theme=dark] .colab-df-convert {\n",
              "      background-color: #3B4455;\n",
              "      fill: #D2E3FC;\n",
              "    }\n",
              "\n",
              "    [theme=dark] .colab-df-convert:hover {\n",
              "      background-color: #434B5C;\n",
              "      box-shadow: 0px 1px 3px 1px rgba(0, 0, 0, 0.15);\n",
              "      filter: drop-shadow(0px 1px 2px rgba(0, 0, 0, 0.3));\n",
              "      fill: #FFFFFF;\n",
              "    }\n",
              "  </style>\n",
              "\n",
              "      <script>\n",
              "        const buttonEl =\n",
              "          document.querySelector('#df-40197702-6cef-42a8-a0b5-288456438235 button.colab-df-convert');\n",
              "        buttonEl.style.display =\n",
              "          google.colab.kernel.accessAllowed ? 'block' : 'none';\n",
              "\n",
              "        async function convertToInteractive(key) {\n",
              "          const element = document.querySelector('#df-40197702-6cef-42a8-a0b5-288456438235');\n",
              "          const dataTable =\n",
              "            await google.colab.kernel.invokeFunction('convertToInteractive',\n",
              "                                                     [key], {});\n",
              "          if (!dataTable) return;\n",
              "\n",
              "          const docLinkHtml = 'Like what you see? Visit the ' +\n",
              "            '<a target=\"_blank\" href=https://colab.research.google.com/notebooks/data_table.ipynb>data table notebook</a>'\n",
              "            + ' to learn more about interactive tables.';\n",
              "          element.innerHTML = '';\n",
              "          dataTable['output_type'] = 'display_data';\n",
              "          await google.colab.output.renderOutput(dataTable, element);\n",
              "          const docLink = document.createElement('div');\n",
              "          docLink.innerHTML = docLinkHtml;\n",
              "          element.appendChild(docLink);\n",
              "        }\n",
              "      </script>\n",
              "    </div>\n",
              "  </div>\n",
              "  "
            ]
          },
          "metadata": {},
          "execution_count": 4
        }
      ]
    },
    {
      "cell_type": "code",
      "source": [
        "# Explorano os dados de submisão para kaggle\n",
        "gender_submission = pd.read_csv('./titanic/gender_submission.csv')\n",
        "gender_submission.head()"
      ],
      "metadata": {
        "colab": {
          "base_uri": "https://localhost:8080/",
          "height": 206
        },
        "id": "sQQlQCCl8l7n",
        "outputId": "f8f1020f-17eb-4c7e-d28f-af8b18e76d6b"
      },
      "execution_count": null,
      "outputs": [
        {
          "output_type": "execute_result",
          "data": {
            "text/plain": [
              "   PassengerId  Survived\n",
              "0          892         0\n",
              "1          893         1\n",
              "2          894         0\n",
              "3          895         0\n",
              "4          896         1"
            ],
            "text/html": [
              "\n",
              "  <div id=\"df-e45779bd-adae-47fd-a4e6-01cd866f15a0\">\n",
              "    <div class=\"colab-df-container\">\n",
              "      <div>\n",
              "<style scoped>\n",
              "    .dataframe tbody tr th:only-of-type {\n",
              "        vertical-align: middle;\n",
              "    }\n",
              "\n",
              "    .dataframe tbody tr th {\n",
              "        vertical-align: top;\n",
              "    }\n",
              "\n",
              "    .dataframe thead th {\n",
              "        text-align: right;\n",
              "    }\n",
              "</style>\n",
              "<table border=\"1\" class=\"dataframe\">\n",
              "  <thead>\n",
              "    <tr style=\"text-align: right;\">\n",
              "      <th></th>\n",
              "      <th>PassengerId</th>\n",
              "      <th>Survived</th>\n",
              "    </tr>\n",
              "  </thead>\n",
              "  <tbody>\n",
              "    <tr>\n",
              "      <th>0</th>\n",
              "      <td>892</td>\n",
              "      <td>0</td>\n",
              "    </tr>\n",
              "    <tr>\n",
              "      <th>1</th>\n",
              "      <td>893</td>\n",
              "      <td>1</td>\n",
              "    </tr>\n",
              "    <tr>\n",
              "      <th>2</th>\n",
              "      <td>894</td>\n",
              "      <td>0</td>\n",
              "    </tr>\n",
              "    <tr>\n",
              "      <th>3</th>\n",
              "      <td>895</td>\n",
              "      <td>0</td>\n",
              "    </tr>\n",
              "    <tr>\n",
              "      <th>4</th>\n",
              "      <td>896</td>\n",
              "      <td>1</td>\n",
              "    </tr>\n",
              "  </tbody>\n",
              "</table>\n",
              "</div>\n",
              "      <button class=\"colab-df-convert\" onclick=\"convertToInteractive('df-e45779bd-adae-47fd-a4e6-01cd866f15a0')\"\n",
              "              title=\"Convert this dataframe to an interactive table.\"\n",
              "              style=\"display:none;\">\n",
              "        \n",
              "  <svg xmlns=\"http://www.w3.org/2000/svg\" height=\"24px\"viewBox=\"0 0 24 24\"\n",
              "       width=\"24px\">\n",
              "    <path d=\"M0 0h24v24H0V0z\" fill=\"none\"/>\n",
              "    <path d=\"M18.56 5.44l.94 2.06.94-2.06 2.06-.94-2.06-.94-.94-2.06-.94 2.06-2.06.94zm-11 1L8.5 8.5l.94-2.06 2.06-.94-2.06-.94L8.5 2.5l-.94 2.06-2.06.94zm10 10l.94 2.06.94-2.06 2.06-.94-2.06-.94-.94-2.06-.94 2.06-2.06.94z\"/><path d=\"M17.41 7.96l-1.37-1.37c-.4-.4-.92-.59-1.43-.59-.52 0-1.04.2-1.43.59L10.3 9.45l-7.72 7.72c-.78.78-.78 2.05 0 2.83L4 21.41c.39.39.9.59 1.41.59.51 0 1.02-.2 1.41-.59l7.78-7.78 2.81-2.81c.8-.78.8-2.07 0-2.86zM5.41 20L4 18.59l7.72-7.72 1.47 1.35L5.41 20z\"/>\n",
              "  </svg>\n",
              "      </button>\n",
              "      \n",
              "  <style>\n",
              "    .colab-df-container {\n",
              "      display:flex;\n",
              "      flex-wrap:wrap;\n",
              "      gap: 12px;\n",
              "    }\n",
              "\n",
              "    .colab-df-convert {\n",
              "      background-color: #E8F0FE;\n",
              "      border: none;\n",
              "      border-radius: 50%;\n",
              "      cursor: pointer;\n",
              "      display: none;\n",
              "      fill: #1967D2;\n",
              "      height: 32px;\n",
              "      padding: 0 0 0 0;\n",
              "      width: 32px;\n",
              "    }\n",
              "\n",
              "    .colab-df-convert:hover {\n",
              "      background-color: #E2EBFA;\n",
              "      box-shadow: 0px 1px 2px rgba(60, 64, 67, 0.3), 0px 1px 3px 1px rgba(60, 64, 67, 0.15);\n",
              "      fill: #174EA6;\n",
              "    }\n",
              "\n",
              "    [theme=dark] .colab-df-convert {\n",
              "      background-color: #3B4455;\n",
              "      fill: #D2E3FC;\n",
              "    }\n",
              "\n",
              "    [theme=dark] .colab-df-convert:hover {\n",
              "      background-color: #434B5C;\n",
              "      box-shadow: 0px 1px 3px 1px rgba(0, 0, 0, 0.15);\n",
              "      filter: drop-shadow(0px 1px 2px rgba(0, 0, 0, 0.3));\n",
              "      fill: #FFFFFF;\n",
              "    }\n",
              "  </style>\n",
              "\n",
              "      <script>\n",
              "        const buttonEl =\n",
              "          document.querySelector('#df-e45779bd-adae-47fd-a4e6-01cd866f15a0 button.colab-df-convert');\n",
              "        buttonEl.style.display =\n",
              "          google.colab.kernel.accessAllowed ? 'block' : 'none';\n",
              "\n",
              "        async function convertToInteractive(key) {\n",
              "          const element = document.querySelector('#df-e45779bd-adae-47fd-a4e6-01cd866f15a0');\n",
              "          const dataTable =\n",
              "            await google.colab.kernel.invokeFunction('convertToInteractive',\n",
              "                                                     [key], {});\n",
              "          if (!dataTable) return;\n",
              "\n",
              "          const docLinkHtml = 'Like what you see? Visit the ' +\n",
              "            '<a target=\"_blank\" href=https://colab.research.google.com/notebooks/data_table.ipynb>data table notebook</a>'\n",
              "            + ' to learn more about interactive tables.';\n",
              "          element.innerHTML = '';\n",
              "          dataTable['output_type'] = 'display_data';\n",
              "          await google.colab.output.renderOutput(dataTable, element);\n",
              "          const docLink = document.createElement('div');\n",
              "          docLink.innerHTML = docLinkHtml;\n",
              "          element.appendChild(docLink);\n",
              "        }\n",
              "      </script>\n",
              "    </div>\n",
              "  </div>\n",
              "  "
            ]
          },
          "metadata": {},
          "execution_count": 5
        }
      ]
    },
    {
      "cell_type": "markdown",
      "source": [
        "## Descripção das caracteristicas \n",
        "---\n",
        "\n"
      ],
      "metadata": {
        "id": "MYJWypLq53Ck"
      }
    },
    {
      "cell_type": "code",
      "source": [
        "# Passo 2\n",
        "# Imprime informação das features presentes no conjunto de trenamento\n",
        "# link: https://pandas.pydata.org/docs/reference/api/pandas.DataFrame.info.html?highlight=info#pandas.DataFrame.info \n",
        "### COMENZAR O CODIGO AQUI ### \n",
        "train_data.info() # ???\n",
        "### TERMINA AQUI ###"
      ],
      "metadata": {
        "colab": {
          "base_uri": "https://localhost:8080/"
        },
        "id": "9aE76eta3b1Y",
        "outputId": "339c3f67-db1d-4e49-84eb-96cc2f6581ab"
      },
      "execution_count": null,
      "outputs": [
        {
          "output_type": "stream",
          "name": "stdout",
          "text": [
            "<class 'pandas.core.frame.DataFrame'>\n",
            "RangeIndex: 891 entries, 0 to 890\n",
            "Data columns (total 12 columns):\n",
            " #   Column       Non-Null Count  Dtype  \n",
            "---  ------       --------------  -----  \n",
            " 0   PassengerId  891 non-null    int64  \n",
            " 1   Survived     891 non-null    int64  \n",
            " 2   Pclass       891 non-null    int64  \n",
            " 3   Name         891 non-null    object \n",
            " 4   Sex          891 non-null    object \n",
            " 5   Age          714 non-null    float64\n",
            " 6   SibSp        891 non-null    int64  \n",
            " 7   Parch        891 non-null    int64  \n",
            " 8   Ticket       891 non-null    object \n",
            " 9   Fare         891 non-null    float64\n",
            " 10  Cabin        204 non-null    object \n",
            " 11  Embarked     889 non-null    object \n",
            "dtypes: float64(2), int64(5), object(5)\n",
            "memory usage: 83.7+ KB\n"
          ]
        }
      ]
    },
    {
      "cell_type": "markdown",
      "source": [
        "| Variable | Definition | Key \n",
        "|----------|-----------------------|-----------------------------------|\n",
        "|survival  | Sobrevivência         |0=No, 1=Sim                        |\n",
        "|pclass    | Classe de ingresso\t   |1 = 1st, 2 = 2nd, 3 = 3rd          |\n",
        "|sex       | Sexo                  | |\n",
        "|Age       | Idade em anos         | |\n",
        "|sibsp     | # de irmãos/cônjuges  | |\n",
        "|parch     | # de pais/filhos      | |\n",
        "|ticket    | Número do bilhete     | |\n",
        "|fare      | Tarifa de passageiro\t | |\n",
        "|cabin     | Número da cabine\t     | |\n",
        "|embarked  | Porto de embarcação   |C=Cherbourg, Q=Queenstown, S=Southampton |"
      ],
      "metadata": {
        "id": "ObsW2BvB89Mh"
      }
    },
    {
      "cell_type": "markdown",
      "source": [
        "## Dados faltantes (missing value)\n"
      ],
      "metadata": {
        "id": "tes9m-VXFf3K"
      }
    },
    {
      "cell_type": "code",
      "source": [
        "# Passo 3\n",
        "# Visualize os dados faltantes no conjunto de trenamento\n",
        "# Para visualizar os dados faltantes ou missing value pode empregar a função matrix do pacote python missingno\n",
        "# link: https://github.com/ResidentMario/missingno \n",
        "### COMENZAR O CODIGO AQUI ### \n",
        "msno.matrix(train_data) # ???\n",
        "### COMENZAR O CODIGO AQUI ### \n",
        "plt.show()"
      ],
      "metadata": {
        "colab": {
          "base_uri": "https://localhost:8080/",
          "height": 438
        },
        "id": "IQrdRhbT3b85",
        "outputId": "72be8acc-c181-4b4b-bd73-a7e199cdd502"
      },
      "execution_count": null,
      "outputs": [
        {
          "output_type": "display_data",
          "data": {
            "text/plain": [
              "<Figure size 1800x720 with 2 Axes>"
            ],
            "image/png": "[encoded data removed]"
          },
          "metadata": {
            "needs_background": "light"
          }
        }
      ]
    },
    {
      "cell_type": "markdown",
      "source": [
        "## Mostramos alguns exemplos didacticos do analisis da edad e do sexo\n",
        "Siéntase libre para formular novas hipóteses e validar elas no conjunto de treinamento\n"
      ],
      "metadata": {
        "id": "xFMo8Ts_ZpYi"
      }
    },
    {
      "cell_type": "markdown",
      "source": [
        "### Analisis da edad\n",
        "Para fazer uma análise da idade foi selecionado algumas faixas etárias para entender quais destas faixas foram mais afectadas no acidente \n",
        "\n",
        "Formularam-se as seguintes hipóteses: \n",
        "\n",
        "* Qual foi a média de idade no Titanic?\n",
        "* Qual foi a faixa etária mais afetada? \n",
        "* Os meninos e adolescentes (0-20 anos) tiveram alguma prioridade na hora do resgate?\n"
      ],
      "metadata": {
        "id": "nH10-0WbgWO1"
      }
    },
    {
      "cell_type": "code",
      "source": [
        "# Passo 4\n",
        "# Seleccionar a feature \"Age\" dos dados de treinamento\n",
        "train_age = train_data['Age'].copy()\n",
        "train_age = train_age[~train_data['Age'].isnull()] \n",
        "\n",
        "# Imprimir a estadística descriptiva da idade\n",
        "print(train_age.describe())\n",
        "\n",
        "# Qual foi a média de idade no Titanic?\n",
        "### COMENZAR O CODIGO AQUI ### \n",
        "age_media = train_age.mean()# ???\n",
        "### TERMINA AQUI ###\n",
        "print(\"\\nA idade media do Titanic foi de: {} anos\".format(age_media))"
      ],
      "metadata": {
        "colab": {
          "base_uri": "https://localhost:8080/"
        },
        "id": "_z67hoUn3cCc",
        "outputId": "8747409a-1029-458f-ad72-5d43d1801214"
      },
      "execution_count": null,
      "outputs": [
        {
          "output_type": "stream",
          "name": "stdout",
          "text": [
            "count    714.000000\n",
            "mean      29.699118\n",
            "std       14.526497\n",
            "min        0.420000\n",
            "25%       20.125000\n",
            "50%       28.000000\n",
            "75%       38.000000\n",
            "max       80.000000\n",
            "Name: Age, dtype: float64\n",
            "\n",
            "A idade media do Titanic foi de: 29.69911764705882 anos\n"
          ]
        }
      ]
    },
    {
      "cell_type": "code",
      "source": [
        "# Quantification Xage\n",
        "# Xage = [Xage/q] * q \n",
        "quant = 20\n",
        "train_age = ((train_age/quant).astype(int)) * quant\n",
        "train_age.hist()\n",
        "plt.show()"
      ],
      "metadata": {
        "colab": {
          "base_uri": "https://localhost:8080/",
          "height": 268
        },
        "id": "DuDg3fSCI8Tx",
        "outputId": "2ad7d3e4-a8a2-4aa6-e310-8b26586a1baf"
      },
      "execution_count": null,
      "outputs": [
        {
          "output_type": "display_data",
          "data": {
            "text/plain": [
              "<Figure size 432x288 with 1 Axes>"
            ],
            "image/png": "[encoded data removed]"
          },
          "metadata": {
            "needs_background": "light"
          }
        }
      ]
    },
    {
      "cell_type": "code",
      "source": [
        "train_surv = train_data['Survived'].copy()\n",
        "train_surv = train_surv[~train_data['Age'].isnull()]\n",
        "\n",
        "age_surv = []\n",
        "for age in train_age.sort_values(ascending=True).unique():\n",
        "  age_surv.append(sum(train_surv[train_age==age]))\n",
        "  print('Edad: ', age, '\\t Probabilidade de sobreviver: ', sum(train_surv[train_age==age])/len(train_surv[train_age==age]) )\n",
        "\n",
        "age_surv = pd.DataFrame( data=age_surv )[0]\n"
      ],
      "metadata": {
        "colab": {
          "base_uri": "https://localhost:8080/"
        },
        "id": "UP08Xd4NK0zQ",
        "outputId": "f27277fc-273b-4f0d-b590-b12b0a4e74fd"
      },
      "execution_count": null,
      "outputs": [
        {
          "output_type": "stream",
          "name": "stdout",
          "text": [
            "Edad:  0 \t Probabilidade de sobreviver:  0.4817073170731707\n",
            "Edad:  20 \t Probabilidade de sobreviver:  0.3875968992248062\n",
            "Edad:  40 \t Probabilidade de sobreviver:  0.39416058394160586\n",
            "Edad:  60 \t Probabilidade de sobreviver:  0.24\n",
            "Edad:  80 \t Probabilidade de sobreviver:  1.0\n"
          ]
        }
      ]
    },
    {
      "cell_type": "code",
      "source": [
        "age = train_age.value_counts().sort_index()\n",
        "sns.set_color_codes(\"pastel\")\n",
        "g=sns.barplot(x=age.index.values, y=age.values, order=age.index, color=\"b\", label='Idade')\n",
        "sns.set_color_codes(\"muted\")\n",
        "sns.barplot(x=age.index.values, y=age_surv.values, order=age.index, color=\"r\", label='No. de sobreviventes')\n",
        "plt.legend(loc=1)\n",
        "plt.show()"
      ],
      "metadata": {
        "colab": {
          "base_uri": "https://localhost:8080/",
          "height": 268
        },
        "id": "QvwLYAqKQO3D",
        "outputId": "a43e8d76-92fe-4de7-dd5e-832db7bd7deb"
      },
      "execution_count": null,
      "outputs": [
        {
          "output_type": "display_data",
          "data": {
            "text/plain": [
              "<Figure size 432x288 with 1 Axes>"
            ],
            "image/png": "[encoded data removed]"
          },
          "metadata": {
            "needs_background": "light"
          }
        }
      ]
    },
    {
      "cell_type": "code",
      "source": [
        "# Passo 5\n",
        "# Qual foi a faixa etária mais afetada?\n",
        "# Os meninos e adolescentes (0-20 anos) tiveram alguma prioridade na hora do resgate?\n",
        "\n",
        "### COMENZAR O CODIGO AQUI ### \n",
        "age_afetada = \"60-80\" # ???\n",
        "age_meninos = \"Sim\" # ???\n",
        "### TERMINA AQUI ###\n",
        "print(\"A faixa etária mais afetada foi: {}\".format(age_afetada))\n",
        "print(\"Os meninos e adolescentes (0-20 anos) tiveram alguma prioridade na hora do resgate? {}\".format(age_meninos))\n"
      ],
      "metadata": {
        "colab": {
          "base_uri": "https://localhost:8080/"
        },
        "id": "RXHpAY_sglGH",
        "outputId": "a81de70b-b692-4ad6-cee5-47b9bfcd2730"
      },
      "execution_count": null,
      "outputs": [
        {
          "output_type": "stream",
          "name": "stdout",
          "text": [
            "A faixa etária mais afetada foi: 60-80\n",
            "Os meninos e adolescentes (0-20 anos) tiveram alguma prioridade na hora do resgate? Sim\n"
          ]
        }
      ]
    },
    {
      "cell_type": "markdown",
      "source": [
        "### Analisis do sexo\n",
        "Formulou-se a seguinte hipótese:\n",
        "* Quem sobreviveu mais no acidente, mulheres ou homens?\n"
      ],
      "metadata": {
        "id": "7EB49D6ggwqr"
      }
    },
    {
      "cell_type": "code",
      "source": [
        "women = train_data.loc[train_data.Sex == 'female'][\"Survived\"]\n",
        "rate_women = sum(women)/len(women)\n",
        "\n",
        "print(\"Probabilidade de sobreviver das mulheres:\", rate_women)"
      ],
      "metadata": {
        "colab": {
          "base_uri": "https://localhost:8080/"
        },
        "id": "gRShNdkmQO50",
        "outputId": "6a128690-fc15-427f-85bd-c04bccaac508"
      },
      "execution_count": null,
      "outputs": [
        {
          "output_type": "stream",
          "name": "stdout",
          "text": [
            "Probabilidade de sobreviver das mulheres: 0.7420382165605095\n"
          ]
        }
      ]
    },
    {
      "cell_type": "code",
      "source": [
        "men = train_data.loc[train_data.Sex == 'male'][\"Survived\"]\n",
        "rate_men = sum(men)/len(men)\n",
        "\n",
        "print(\"Probabilidade de sobreviver dos homes:\", rate_men)"
      ],
      "metadata": {
        "colab": {
          "base_uri": "https://localhost:8080/"
        },
        "id": "f85D5L3QQO8D",
        "outputId": "dc0cd98c-9a42-4e19-a2f9-88353753dff3"
      },
      "execution_count": null,
      "outputs": [
        {
          "output_type": "stream",
          "name": "stdout",
          "text": [
            "Probabilidade de sobreviver dos homes: 0.18890814558058924\n"
          ]
        }
      ]
    },
    {
      "cell_type": "code",
      "source": [
        "# Passo 6\n",
        "# Quem sobreviveu mais no acidente, mulheres ou homens?\n",
        "### COMENZAR O CODIGO AQUI ### \n",
        "sex_sobreviveu = \"Mulheres com probabilidade de 74%\" # ???\n",
        "### TERMINA AQUI ###\n",
        "\n",
        "print(\"Quem sobreviveu mais no acidente, mulheres ou homens? {}\".format(sex_sobreviveu))"
      ],
      "metadata": {
        "colab": {
          "base_uri": "https://localhost:8080/"
        },
        "id": "5hJXbH0NnpeK",
        "outputId": "155776a0-0952-4a3f-b60b-65c93f7b7871"
      },
      "execution_count": null,
      "outputs": [
        {
          "output_type": "stream",
          "name": "stdout",
          "text": [
            "Quem sobreviveu mais no acidente, mulheres ou homens? Mulheres com probabilidade de 74%\n"
          ]
        }
      ]
    },
    {
      "cell_type": "markdown",
      "source": [
        "## Experimentos e Avaliação de Classificadores \n",
        "Para começar a praticar a avaliação de classificadores criaremos dois classificadores tolos (dummys).  Iremos avaliar um classificador random vs um classificador que sempre retorna a mesma classe (no caso a classe mais representada no conjunto de treinamento)."
      ],
      "metadata": {
        "id": "_suHYeWDiD6E"
      }
    },
    {
      "cell_type": "code",
      "source": [
        "import random\n",
        "from sklearn.model_selection import train_test_split\n",
        "import sklearn.metrics as metrics"
      ],
      "metadata": {
        "id": "evYAkz2dyP84"
      },
      "execution_count": null,
      "outputs": []
    },
    {
      "cell_type": "code",
      "source": [
        "\n",
        "# Classificador random\n",
        "# Este classificador retorna um numero aleatorio 0 ou 1\n",
        "class RandomModelClassifier():\n",
        "  def __init__(self):\n",
        "    pass\n",
        "  def fit(self, x, y):\n",
        "    # Não precisa ser treinado\n",
        "    pass\n",
        "  def predict(self, x):\n",
        "    # Passo 7 \n",
        "    # Retorna um lista de número aleatório 0 ou 1 do tamanho do len(x)\n",
        "    # link: https://docs.python.org/3/library/random.html \n",
        "    ### COMENZAR O CODIGO AQUI ### \n",
        "    y_hat = [random.randint(0,1) for _ in range(len(x))]# ???\n",
        "    ### TERMINA AQUI ###\n",
        "    return y_hat\n",
        "\n",
        "# Classificador NotSurvived\n",
        "# Este classificador retorna 0 (classe dos que não sobreviveram)\n",
        "class NotSurvivedModelClassifier():\n",
        "  def __init__(self):\n",
        "    pass\n",
        "  def fit(self, x, y):\n",
        "    # Não precisa ser treinado\n",
        "    pass\n",
        "  def predict(self, x):\n",
        "    # Passo 7\n",
        "    # Retorna um lista de 0s do tamanho do len(x)\n",
        "    ### COMENZAR O CODIGO AQUI ###\n",
        "    y_hat =  [0 for _ in range(len(x))]# ???\n",
        "    ### TERMINA AQUI ###\n",
        "    return y_hat\n"
      ],
      "metadata": {
        "id": "nYgiuiNlhx7t"
      },
      "execution_count": null,
      "outputs": []
    },
    {
      "cell_type": "code",
      "source": [
        "\n",
        "# Seleção da feature a ser estimada\n",
        "# Lembrem-se que queremos saber quem sobreviveu \n",
        "y = train_data[\"Survived\"]\n",
        "\n",
        "# Selecção das features\n",
        "# Para este exemplo foram selecionadas 4 features. Sinta-se a bondade de \n",
        "# experimentar com um número maior ou menor. Pode determinar inclusive qual \n",
        "# seriam as melhores features para resolver o problema. \n",
        "features = [\"Pclass\", \"Sex\", \"SibSp\", \"Parch\"]\n",
        "X, X_test = pd.get_dummies(train_data[features]), pd.get_dummies(test_data[features])\n",
        "\n",
        "# Divisão do conjunto em treinamento e validação\n",
        "# Passo 8\n",
        "# Seleccione o procentagem para o conjunto de validação\n",
        "### COMENZAR O CODIGO AQUI ### \n",
        "tamanho_val = 0.33# ???\n",
        "### TERMINA AQUI ###\n",
        "X_train, X_val, y_train, y_val = train_test_split(X,y, test_size=tamanho_val, shuffle=True, random_state=0)\n",
        "\n",
        "\n",
        "# Criação dos modelos de classificação\n",
        "# Passo 9\n",
        "# Cree uma instância da classe RandomModelClassifier e outra da classe \n",
        "# NotSurvivedModelClassifier\n",
        "### COMENZAR O CODIGO AQUI ###\n",
        "model_rand = RandomModelClassifier() # ???\n",
        "model_notsurvived = NotSurvivedModelClassifier()#???\n",
        "### TERMINA AQUI ###\n",
        "\n",
        "# Treinamento dos modelos de classificação\n",
        "# Passo 10\n",
        "# Empregando a função fit treine os modelos de classificação\n",
        "### COMENZAR O CODIGO AQUI ###\n",
        "model_rand.fit(X_train, y_train)\n",
        "model_notsurvived.fit(X_train, y_train)\n",
        "### TERMINA AQUI ###\n",
        "\n",
        "# Predição no conjunto de validação \n",
        "# Passo 11\n",
        "# Empregando a função predict obtenha as estimativas das labels no conjunto \n",
        "# de validação\n",
        "### COMENZAR O CODIGO AQUI ###\n",
        "preditions_rand_val = model_rand.predict(X_val)\n",
        "preditions_notsurvived_val = model_notsurvived.predict(X_val)\n",
        "### TERMINA AQUI ###\n",
        "\n",
        "# Avaliação dos resultados\n",
        "# Passo 12\n",
        "# Calcule o accuracy empregando a função accuracy_score do pacote \n",
        "# sklearn.metrics para os dados de validação\n",
        "# link: https://scikit-learn.org/stable/modules/generated/sklearn.metrics.accuracy_score.html\n",
        "### COMENZAR O CODIGO AQUI ###\n",
        "acc_rand = metrics.accuracy_score(y_val, preditions_rand_val)# ???\n",
        "acc_notsurvived =  metrics.accuracy_score(y_val, preditions_notsurvived_val)# ???\n",
        "### TERMINA AQUI ###\n",
        "\n",
        "print('Accuracy do clasificador RandomModelClassifier é: ', acc_rand)\n",
        "print('Accuracy do clasificador NotSurvivedModelClassifier é: ', acc_notsurvived)\n"
      ],
      "metadata": {
        "colab": {
          "base_uri": "https://localhost:8080/"
        },
        "id": "VpPwqto7xHZK",
        "outputId": "f6557f51-ff30-4943-a39b-dbb13a88b577"
      },
      "execution_count": null,
      "outputs": [
        {
          "output_type": "stream",
          "name": "stdout",
          "text": [
            "Accuracy do clasificador RandomModelClassifier é:  0.5050847457627119\n",
            "Accuracy do clasificador NotSurvivedModelClassifier é:  0.6237288135593221\n"
          ]
        }
      ]
    },
    {
      "cell_type": "code",
      "source": [
        "sns.countplot(x=\"Survived\", data=train_data);"
      ],
      "metadata": {
        "colab": {
          "base_uri": "https://localhost:8080/",
          "height": 285
        },
        "id": "iNW59TTuyFvR",
        "outputId": "a23a51d3-f65b-4d8f-d20e-4df44ec8fcae"
      },
      "execution_count": null,
      "outputs": [
        {
          "output_type": "display_data",
          "data": {
            "text/plain": [
              "<Figure size 432x288 with 1 Axes>"
            ],
            "image/png": "[encoded data removed]"
          },
          "metadata": {
            "needs_background": "light"
          }
        }
      ]
    },
    {
      "cell_type": "markdown",
      "source": [
        "## Avaliação de Classificadores empregando todas as métricas aprendidas na aula de hoje \n",
        "\n",
        "* **Precision** (Precisão): Número de itens corretamente identificados da classe em questão\n",
        "* **Recall / Sensitivity** (Cobertura): Número de itens corretamente identificados considerando apenas a classe em questão\n",
        "* **Accuracy** (Acurácia) : Qual o percentual meu classificador acerta considerando todas as classes do problema?\n",
        "* **F1-Score**:  É uma média harmônica da precisão e recall\n"
      ],
      "metadata": {
        "id": "UH6fm8pi_gJu"
      }
    },
    {
      "cell_type": "code",
      "source": [
        "\n",
        "# Esta função tem como objetivo calcular as métricas que vão ser empregadas para \n",
        "# avaliar os classificadores\n",
        "def evaluation(y, y_hat):\n",
        "\n",
        "  ### COMENZAR O CODIGO AQUI ###\n",
        "  # Passo 13\n",
        "  # Complete as funciones para cálculo das métricas empregando as funções do \n",
        "  # pacote sklearn.metrics\n",
        "  # links:\n",
        "  # https://scikit-learn.org/stable/modules/generated/sklearn.metrics.accuracy_score.html#sklearn.metrics.accuracy_score\n",
        "  # https://scikit-learn.org/stable/modules/generated/sklearn.metrics.precision_score.html\n",
        "  # https://scikit-learn.org/stable/modules/generated/sklearn.metrics.recall_score.html#sklearn.metrics.recall_score\n",
        "  acc = metrics.accuracy_score(y, y_hat)# ???\n",
        "  precision = metrics.precision_score(y, y_hat) # ???\n",
        "  recall = metrics.recall_score(y, y_hat)\n",
        "  f1_score = 2*precision*recall/(precision+recall)\n",
        "  ### TERMINA AQUI ###\n",
        "\n",
        "  return {\n",
        "      'acc': acc,\n",
        "      'precision': precision,\n",
        "      'recall': recall,\n",
        "      'f1_score': f1_score\n",
        "  }\n",
        "\n",
        "\n",
        "# Seleção da feature a ser estimada\n",
        "# Lembrem-se que queremos saber quem sobreviveu \n",
        "y = train_data[\"Survived\"]\n",
        "\n",
        "# Selecção das features\n",
        "# Para este exemplo foram selecionadas 4 features. Sinta-se a bondade de \n",
        "# experimentar com um número maior ou menor. Pode determinar inclusive qual \n",
        "# seriam as melhores features para resolver o problema. \n",
        "features = [\"Pclass\", \"Sex\", \"SibSp\", \"Parch\"]\n",
        "X = pd.get_dummies(train_data[features])\n",
        "X_test = pd.get_dummies(test_data[features])\n",
        "\n",
        "# Divisão do conjunto em treinamento e validação\n",
        "# Passo 14\n",
        "# Seleccione o procentagem para o conjunto de validação\n",
        "### COMENZAR O CODIGO AQUI ### \n",
        "tamanho_val = 0.23# ???\n",
        "### TERMINA AQUI ###\n",
        "X_train, X_val, y_train, y_val = train_test_split(X,y, test_size=tamanho_val, shuffle=True, random_state=0)\n",
        "\n",
        "# Criação dos modelos de classificação\n",
        "# Passo 15\n",
        "# Cree uma instância da classe RandomModelClassifier e outra da classe \n",
        "# NotSurvivedModelClassifier\n",
        "### COMENZAR O CODIGO AQUI ###\n",
        "model_rand = RandomModelClassifier()# ???\n",
        "model_notsurvived = NotSurvivedModelClassifier() #???\n",
        "### TERMINA AQUI ###\n",
        "\n",
        "# Treinamento dos modelos de classificação\n",
        "# Passo 16\n",
        "# Empregando a função fit treine os modelos de classificação\n",
        "### COMENZAR O CODIGO AQUI ###\n",
        "model_rand.fit(X_train, y_train)\n",
        "model_notsurvived.fit(X_train, y_train)\n",
        "### TERMINA AQUI ###\n",
        "\n",
        "# Predição no conjunto de validação \n",
        "# Passo 17\n",
        "# Empregando a função predict obtenha as estimativas das labels no conjunto \n",
        "# de validação\n",
        "### COMENZAR O CODIGO AQUI ###\n",
        "preditions_rand_val = model_rand.predict(X_val)\n",
        "preditions_notsurvived_val = model_notsurvived.predict(X_val)\n",
        "### TERMINA AQUI ###\n",
        "\n",
        "# Avaliação dos resultados\n",
        "# Passo 18\n",
        "# Calcule as métricas empregando a função evaluation para os dados de validação\n",
        "### COMENZAR O CODIGO AQUI ###\n",
        "acc_rand =  evaluation(y_val, preditions_rand_val)['acc']# ???\n",
        "acc_notsurvived = evaluation(y_val, preditions_notsurvived_val)['acc'] # ???\n",
        "### TERMINA AQUI ###\n",
        "\n",
        "print('Accuracy do clasificador RandomModelClassifier é: ', acc_rand)\n",
        "print('Accuracy do clasificador NotSurvivedModelClassifier é: ', acc_notsurvived)"
      ],
      "metadata": {
        "colab": {
          "base_uri": "https://localhost:8080/"
        },
        "id": "uz_ATbKFyGAO",
        "outputId": "d8cecf1b-c275-4a4b-9f7f-907234f69644"
      },
      "execution_count": null,
      "outputs": [
        {
          "output_type": "stream",
          "name": "stdout",
          "text": [
            "Accuracy do clasificador RandomModelClassifier é:  0.5024390243902439\n",
            "Accuracy do clasificador NotSurvivedModelClassifier é:  0.6195121951219512\n"
          ]
        },
        {
          "output_type": "stream",
          "name": "stderr",
          "text": [
            "/usr/local/lib/python3.7/dist-packages/sklearn/metrics/_classification.py:1318: UndefinedMetricWarning: Precision is ill-defined and being set to 0.0 due to no predicted samples. Use `zero_division` parameter to control this behavior.\n",
            "  _warn_prf(average, modifier, msg_start, len(result))\n",
            "/usr/local/lib/python3.7/dist-packages/ipykernel_launcher.py:17: RuntimeWarning: invalid value encountered in double_scalars\n"
          ]
        }
      ]
    },
    {
      "cell_type": "markdown",
      "source": [
        "### Analisis do error do modelo NotSurvivedModelClassifier\n",
        "Para un análisis mais detalhado vamos visualizar a matriz de confusão. Como estudo individual poderia calcular os TP, TN, FP, FN\n"
      ],
      "metadata": {
        "id": "_yvHD0vfIcWi"
      }
    },
    {
      "cell_type": "code",
      "source": [
        "# Passo 19\n",
        "# Para o cálculo da matriz de confusão  empregamos a função confusion_matrix do \n",
        "# pacote sklearn.metrics\n",
        "# link: https://scikit-learn.org/stable/modules/generated/sklearn.metrics.confusion_matrix.html\n",
        "### COMENZAR O CODIGO AQUI ###\n",
        "mc = metrics.confusion_matrix(y_val, preditions_rand_val)\n",
        "### TERMINA AQUI ###\n",
        "print(mc)"
      ],
      "metadata": {
        "colab": {
          "base_uri": "https://localhost:8080/"
        },
        "id": "6jHV4arHGC0N",
        "outputId": "464b5a22-6f7f-4bc5-f76d-c32b51ac038e"
      },
      "execution_count": null,
      "outputs": [
        {
          "output_type": "stream",
          "name": "stdout",
          "text": [
            "[[60 67]\n",
            " [35 43]]\n"
          ]
        }
      ]
    },
    {
      "cell_type": "code",
      "source": [
        "import itertools\n",
        "def plot_confusion_matrix(cm, classes,\n",
        "                          normalize=True,\n",
        "                          title='Confusion matrix',\n",
        "                          cmap=plt.cm.Blues):\n",
        "    \"\"\"\n",
        "    This function prints and plots the confusion matrix.\n",
        "    Normalization can be applied by setting `normalize=True`.\n",
        "    \"\"\"\n",
        "    if normalize:\n",
        "        cm = cm.astype('float') / cm.sum(axis=1)[:, np.newaxis]\n",
        "        print(\"Normalized confusion matrix\")\n",
        "    else:\n",
        "        print('Confusion matrix, without normalization')\n",
        "\n",
        "\n",
        "    plt.imshow(cm, interpolation='nearest', cmap=cmap)\n",
        "    plt.title(title)\n",
        "    plt.colorbar()\n",
        "    tick_marks = np.arange(len(classes))\n",
        "    plt.xticks(tick_marks, classes, rotation=45)\n",
        "    plt.yticks(tick_marks, classes)\n",
        "\n",
        "    fmt = '.2f' if normalize else 'd'\n",
        "    thresh = cm.max() / 2.\n",
        "    for i, j in itertools.product(range(cm.shape[0]), range(cm.shape[1])):\n",
        "        plt.text(j, i, format(cm[i, j], fmt),\n",
        "                 horizontalalignment=\"center\",\n",
        "                 color=\"white\" if cm[i, j] > thresh else \"black\")\n",
        "\n",
        "    plt.tight_layout()\n",
        "    plt.ylabel('True label')\n",
        "    plt.xlabel('Predicted label')\n",
        "\n",
        "\n",
        "#sns.heatmap(mc, cbar=False, annot=True, cmap=\"Blues\", fmt=\"d\")\n",
        "plot_confusion_matrix(mc, classes=['not survived', 'survived'], title='Matriz Confusão', normalize=False)\n",
        "plt.grid(False)\n",
        "plt.show()"
      ],
      "metadata": {
        "colab": {
          "base_uri": "https://localhost:8080/",
          "height": 331
        },
        "id": "f3IpquIYIz8_",
        "outputId": "ea4e3e47-6632-4bd2-e249-9f20c6b2ddc0"
      },
      "execution_count": null,
      "outputs": [
        {
          "output_type": "stream",
          "name": "stdout",
          "text": [
            "Confusion matrix, without normalization\n"
          ]
        },
        {
          "output_type": "display_data",
          "data": {
            "text/plain": [
              "<Figure size 432x288 with 2 Axes>"
            ],
            "image/png": "[encoded data removed]"
          },
          "metadata": {
            "needs_background": "light"
          }
        }
      ]
    },
    {
      "cell_type": "markdown",
      "source": [
        "## Seleção de parametros\n",
        "\n",
        "Da mesma forma que conseguimos comparar dois métodos de classificação, podemos também comparar um várias versões do mesmo métodos obtidas com diferentes parâmetros (diferentes modelos do mesmo método). Poderíamos também selecionar os melhores subconjuntos de features e métodos de pré-processamento. \n",
        "\n",
        "Neste exercicios vamos a seleccionar o melhor k para o método k-NN \n"
      ],
      "metadata": {
        "id": "w2qzDXTBd60G"
      }
    },
    {
      "cell_type": "code",
      "source": [
        "import random\n",
        "from sklearn.model_selection import train_test_split\n",
        "import sklearn.metrics as metrics\n",
        "from sklearn.neighbors import KNeighborsClassifier\n",
        "\n",
        "# Esta função tem como objetivo calcular as métricas que vão ser empregadas para \n",
        "# avaliar os classificadores\n",
        "def evaluation(y, y_hat):\n",
        "\n",
        "  ### COMENZAR O CODIGO AQUI ###\n",
        "  # Passo 20\n",
        "  # Complete as funciones para cálculo das métricas empregando as funções do \n",
        "  # pacote sklearn.metrics\n",
        "  # links:\n",
        "  # https://scikit-learn.org/stable/modules/generated/sklearn.metrics.accuracy_score.html#sklearn.metrics.accuracy_score\n",
        "  # https://scikit-learn.org/stable/modules/generated/sklearn.metrics.precision_score.html\n",
        "  # https://scikit-learn.org/stable/modules/generated/sklearn.metrics.recall_score.html#sklearn.metrics.recall_score\n",
        "  acc =  metrics.accuracy_score(y, y_hat)# ???\n",
        "  precision =  metrics.precision_score(y, y_hat)# ???\n",
        "  recall =  metrics.recall_score(y, y_hat)# ???\n",
        "  f1_score = 2*precision*recall/(precision+recall) # ???\n",
        "  ### TERMINA AQUI ###\n",
        "\n",
        "  return {\n",
        "      'acc': acc,\n",
        "      'precision': precision,\n",
        "      'recall': recall,\n",
        "      'f1_score': f1_score\n",
        "  }\n",
        "\n",
        "\n",
        "# Seleção da feature a ser estimada\n",
        "# Lembrem-se que queremos saber quem sobreviveu \n",
        "y = train_data[\"Survived\"]\n",
        "\n",
        "# Selecção das features\n",
        "# Para este exemplo foram selecionadas 4 features. Sinta-se a bondade de \n",
        "# experimentar com um número maior ou menor. Pode determinar inclusive qual \n",
        "# seriam as melhores features para resolver o problema. \n",
        "features = [\"Pclass\", \"Sex\", \"SibSp\", \"Parch\"]\n",
        "X = pd.get_dummies(train_data[features])\n",
        "X_test = pd.get_dummies(test_data[features])\n",
        "\n",
        "# Divisão do conjunto em treinamento e validação\n",
        "# Passo 21\n",
        "# Seleccione o procentagem para o conjunto de validação\n",
        "### COMENZAR O CODIGO AQUI ### \n",
        "tamanho_val = 0.23# ???\n",
        "### TERMINA AQUI ###\n",
        "X_train, X_val, y_train, y_val = train_test_split(X,y, test_size=tamanho_val, shuffle=True, random_state=0)\n",
        "\n",
        "# Selecção de parâmetros\n",
        "# Passo 22\n",
        "# Seleciona um subconjunto de parâmetros k para avaliar o classificador KNN\n",
        "# Para este exercício recomendamos k \\in [1,3,5,7,9]\n",
        "### COMENZAR O CODIGO AQUI ### \n",
        "neighbors = [1,3,5,7,9]# ???\n",
        "### TERMINA AQUI ###\n",
        "\n",
        "evaluations = []\n",
        "for k in neighbors:\n",
        "\n",
        "  # Estimação dos modelos\n",
        "  model_knn = KNeighborsClassifier(n_neighbors = k)\n",
        "\n",
        "  # Treinamento\n",
        "  model_knn.fit(X_train, y_train)\n",
        "\n",
        "  # Predição\n",
        "  preditions_knn_val = model_knn.predict(X_val)\n",
        "\n",
        "  # Avaliação\n",
        "  eval_knn = evaluation(y_val, preditions_knn_val)\n",
        "\n",
        "  # Save\n",
        "  evaluations.append(eval_knn)\n",
        "\n",
        "  print('Knn metrics: k=',k, 'values: ', eval_knn)\n",
        "\n",
        "  "
      ],
      "metadata": {
        "colab": {
          "base_uri": "https://localhost:8080/"
        },
        "id": "RVznyiflL74l",
        "outputId": "01545b20-8a34-4a4a-e593-e369199f6d71"
      },
      "execution_count": null,
      "outputs": [
        {
          "output_type": "stream",
          "name": "stdout",
          "text": [
            "Knn metrics: k= 1 values:  {'acc': 0.5365853658536586, 'precision': 0.4260869565217391, 'recall': 0.6282051282051282, 'f1_score': 0.5077720207253885}\n",
            "Knn metrics: k= 3 values:  {'acc': 0.7804878048780488, 'precision': 0.746268656716418, 'recall': 0.6410256410256411, 'f1_score': 0.6896551724137931}\n",
            "Knn metrics: k= 5 values:  {'acc': 0.7902439024390244, 'precision': 0.7777777777777778, 'recall': 0.6282051282051282, 'f1_score': 0.6950354609929079}\n",
            "Knn metrics: k= 7 values:  {'acc': 0.7902439024390244, 'precision': 0.8723404255319149, 'recall': 0.5256410256410257, 'f1_score': 0.6560000000000001}\n",
            "Knn metrics: k= 9 values:  {'acc': 0.7902439024390244, 'precision': 0.8888888888888888, 'recall': 0.5128205128205128, 'f1_score': 0.6504065040650406}\n"
          ]
        }
      ]
    },
    {
      "cell_type": "code",
      "source": [
        "df = pd.DataFrame(evaluations, index=neighbors)\n",
        "df"
      ],
      "metadata": {
        "colab": {
          "base_uri": "https://localhost:8080/",
          "height": 206
        },
        "id": "D5ftJ_GChXuR",
        "outputId": "00562401-e40e-4dd6-b0fd-4cffacab4fa3"
      },
      "execution_count": null,
      "outputs": [
        {
          "output_type": "execute_result",
          "data": {
            "text/plain": [
              "        acc  precision    recall  f1_score\n",
              "1  0.536585   0.426087  0.628205  0.507772\n",
              "3  0.780488   0.746269  0.641026  0.689655\n",
              "5  0.790244   0.777778  0.628205  0.695035\n",
              "7  0.790244   0.872340  0.525641  0.656000\n",
              "9  0.790244   0.888889  0.512821  0.650407"
            ],
            "text/html": [
              "\n",
              "  <div id=\"df-915db561-c776-474c-812b-d41975868393\">\n",
              "    <div class=\"colab-df-container\">\n",
              "      <div>\n",
              "<style scoped>\n",
              "    .dataframe tbody tr th:only-of-type {\n",
              "        vertical-align: middle;\n",
              "    }\n",
              "\n",
              "    .dataframe tbody tr th {\n",
              "        vertical-align: top;\n",
              "    }\n",
              "\n",
              "    .dataframe thead th {\n",
              "        text-align: right;\n",
              "    }\n",
              "</style>\n",
              "<table border=\"1\" class=\"dataframe\">\n",
              "  <thead>\n",
              "    <tr style=\"text-align: right;\">\n",
              "      <th></th>\n",
              "      <th>acc</th>\n",
              "      <th>precision</th>\n",
              "      <th>recall</th>\n",
              "      <th>f1_score</th>\n",
              "    </tr>\n",
              "  </thead>\n",
              "  <tbody>\n",
              "    <tr>\n",
              "      <th>1</th>\n",
              "      <td>0.536585</td>\n",
              "      <td>0.426087</td>\n",
              "      <td>0.628205</td>\n",
              "      <td>0.507772</td>\n",
              "    </tr>\n",
              "    <tr>\n",
              "      <th>3</th>\n",
              "      <td>0.780488</td>\n",
              "      <td>0.746269</td>\n",
              "      <td>0.641026</td>\n",
              "      <td>0.689655</td>\n",
              "    </tr>\n",
              "    <tr>\n",
              "      <th>5</th>\n",
              "      <td>0.790244</td>\n",
              "      <td>0.777778</td>\n",
              "      <td>0.628205</td>\n",
              "      <td>0.695035</td>\n",
              "    </tr>\n",
              "    <tr>\n",
              "      <th>7</th>\n",
              "      <td>0.790244</td>\n",
              "      <td>0.872340</td>\n",
              "      <td>0.525641</td>\n",
              "      <td>0.656000</td>\n",
              "    </tr>\n",
              "    <tr>\n",
              "      <th>9</th>\n",
              "      <td>0.790244</td>\n",
              "      <td>0.888889</td>\n",
              "      <td>0.512821</td>\n",
              "      <td>0.650407</td>\n",
              "    </tr>\n",
              "  </tbody>\n",
              "</table>\n",
              "</div>\n",
              "      <button class=\"colab-df-convert\" onclick=\"convertToInteractive('df-915db561-c776-474c-812b-d41975868393')\"\n",
              "              title=\"Convert this dataframe to an interactive table.\"\n",
              "              style=\"display:none;\">\n",
              "        \n",
              "  <svg xmlns=\"http://www.w3.org/2000/svg\" height=\"24px\"viewBox=\"0 0 24 24\"\n",
              "       width=\"24px\">\n",
              "    <path d=\"M0 0h24v24H0V0z\" fill=\"none\"/>\n",
              "    <path d=\"M18.56 5.44l.94 2.06.94-2.06 2.06-.94-2.06-.94-.94-2.06-.94 2.06-2.06.94zm-11 1L8.5 8.5l.94-2.06 2.06-.94-2.06-.94L8.5 2.5l-.94 2.06-2.06.94zm10 10l.94 2.06.94-2.06 2.06-.94-2.06-.94-.94-2.06-.94 2.06-2.06.94z\"/><path d=\"M17.41 7.96l-1.37-1.37c-.4-.4-.92-.59-1.43-.59-.52 0-1.04.2-1.43.59L10.3 9.45l-7.72 7.72c-.78.78-.78 2.05 0 2.83L4 21.41c.39.39.9.59 1.41.59.51 0 1.02-.2 1.41-.59l7.78-7.78 2.81-2.81c.8-.78.8-2.07 0-2.86zM5.41 20L4 18.59l7.72-7.72 1.47 1.35L5.41 20z\"/>\n",
              "  </svg>\n",
              "      </button>\n",
              "      \n",
              "  <style>\n",
              "    .colab-df-container {\n",
              "      display:flex;\n",
              "      flex-wrap:wrap;\n",
              "      gap: 12px;\n",
              "    }\n",
              "\n",
              "    .colab-df-convert {\n",
              "      background-color: #E8F0FE;\n",
              "      border: none;\n",
              "      border-radius: 50%;\n",
              "      cursor: pointer;\n",
              "      display: none;\n",
              "      fill: #1967D2;\n",
              "      height: 32px;\n",
              "      padding: 0 0 0 0;\n",
              "      width: 32px;\n",
              "    }\n",
              "\n",
              "    .colab-df-convert:hover {\n",
              "      background-color: #E2EBFA;\n",
              "      box-shadow: 0px 1px 2px rgba(60, 64, 67, 0.3), 0px 1px 3px 1px rgba(60, 64, 67, 0.15);\n",
              "      fill: #174EA6;\n",
              "    }\n",
              "\n",
              "    [theme=dark] .colab-df-convert {\n",
              "      background-color: #3B4455;\n",
              "      fill: #D2E3FC;\n",
              "    }\n",
              "\n",
              "    [theme=dark] .colab-df-convert:hover {\n",
              "      background-color: #434B5C;\n",
              "      box-shadow: 0px 1px 3px 1px rgba(0, 0, 0, 0.15);\n",
              "      filter: drop-shadow(0px 1px 2px rgba(0, 0, 0, 0.3));\n",
              "      fill: #FFFFFF;\n",
              "    }\n",
              "  </style>\n",
              "\n",
              "      <script>\n",
              "        const buttonEl =\n",
              "          document.querySelector('#df-915db561-c776-474c-812b-d41975868393 button.colab-df-convert');\n",
              "        buttonEl.style.display =\n",
              "          google.colab.kernel.accessAllowed ? 'block' : 'none';\n",
              "\n",
              "        async function convertToInteractive(key) {\n",
              "          const element = document.querySelector('#df-915db561-c776-474c-812b-d41975868393');\n",
              "          const dataTable =\n",
              "            await google.colab.kernel.invokeFunction('convertToInteractive',\n",
              "                                                     [key], {});\n",
              "          if (!dataTable) return;\n",
              "\n",
              "          const docLinkHtml = 'Like what you see? Visit the ' +\n",
              "            '<a target=\"_blank\" href=https://colab.research.google.com/notebooks/data_table.ipynb>data table notebook</a>'\n",
              "            + ' to learn more about interactive tables.';\n",
              "          element.innerHTML = '';\n",
              "          dataTable['output_type'] = 'display_data';\n",
              "          await google.colab.output.renderOutput(dataTable, element);\n",
              "          const docLink = document.createElement('div');\n",
              "          docLink.innerHTML = docLinkHtml;\n",
              "          element.appendChild(docLink);\n",
              "        }\n",
              "      </script>\n",
              "    </div>\n",
              "  </div>\n",
              "  "
            ]
          },
          "metadata": {},
          "execution_count": 24
        }
      ]
    },
    {
      "cell_type": "markdown",
      "source": [
        "### Escolhe o melhor parâmetro e gera um modelo"
      ],
      "metadata": {
        "id": "0-ltUjSll4Cp"
      }
    },
    {
      "cell_type": "code",
      "source": [
        "# Escolhe o melhor parâmetro\n",
        "### COMENZAR O CODIGO AQUI ###  \n",
        "k= 7# ???\n",
        "### TERMINA AQUI ###\n",
        "\n",
        "model_knn = KNeighborsClassifier(n_neighbors = k)\n",
        "model_knn.fit(X_train, y_train)"
      ],
      "metadata": {
        "colab": {
          "base_uri": "https://localhost:8080/"
        },
        "id": "1CWYhpj7icCt",
        "outputId": "881fae16-608b-4561-ca05-65a76b917458"
      },
      "execution_count": null,
      "outputs": [
        {
          "output_type": "execute_result",
          "data": {
            "text/plain": [
              "KNeighborsClassifier(n_neighbors=7)"
            ]
          },
          "metadata": {},
          "execution_count": 25
        }
      ]
    },
    {
      "cell_type": "markdown",
      "source": [
        "### Submeter teu melhor resultado\n",
        "Apresentar seu resultado na plataforma kaggle é muito fácil, você pode gerar um arquivo .csv e submeter no kaggle. Esperamos que você continue trabalhando para melhorar seu resultado no leaderboard e compartilhe com todos nós. Ficaremos muito feliz :D!!! "
      ],
      "metadata": {
        "id": "Zioi08EM2qjY"
      }
    },
    {
      "cell_type": "code",
      "source": [
        "# Predição no conjunto de test\n",
        "predictions = model_knn.predict(X_test)\n",
        "\n",
        "# Submission\n",
        "output = pd.DataFrame({'PassengerId': test_data.PassengerId, 'Survived': predictions})\n",
        "output.to_csv('submission.csv', index=False)\n",
        "print(\"Your submission was successfully saved!\")"
      ],
      "metadata": {
        "id": "jpptyeG9nGWL",
        "colab": {
          "base_uri": "https://localhost:8080/"
        },
        "outputId": "76a56048-1143-4466-ad99-4f8992794703"
      },
      "execution_count": null,
      "outputs": [
        {
          "output_type": "stream",
          "name": "stdout",
          "text": [
            "Your submission was successfully saved!\n"
          ]
        }
      ]
    }
  ]
}