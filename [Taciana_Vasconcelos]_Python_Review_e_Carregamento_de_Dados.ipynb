{
  "nbformat": 4,
  "nbformat_minor": 0,
  "metadata": {
    "colab": {
      "provenance": [],
      "collapsed_sections": [
        "2G67LJyyAB5e",
        "kk7mirpV_IVK",
        "_V5ekQ4KD14L",
        "KiAE7-HXD6D8",
        "KGR-5ivyFLl8",
        "Bp91gx9FFuC4",
        "plYsQecLFN3_",
        "istghboFFeXm",
        "03J5HiMJFfyt",
        "4rL8hgbbQBTc",
        "K5QWHVs5-JO3",
        "FssGOC3gVwIp",
        "MvBcZFJFTKZX",
        "4xnGkIbj-O6C"
      ]
    },
    "kernelspec": {
      "name": "python3",
      "display_name": "Python 3"
    },
    "language_info": {
      "name": "python"
    }
  },
  "cells": [
    {
      "cell_type": "markdown",
      "source": [
        "# Revisão Python"
      ],
      "metadata": {
        "id": "w0kLdDb598Cm"
      }
    },
    {
      "cell_type": "markdown",
      "source": [
        "## Versão do Pythton"
      ],
      "metadata": {
        "id": "2G67LJyyAB5e"
      }
    },
    {
      "cell_type": "code",
      "source": [
        "!python --version"
      ],
      "metadata": {
        "id": "XBrPpqNn_RUb",
        "outputId": "ef2a84d3-8a07-484e-898e-1d4db1ab0dab",
        "colab": {
          "base_uri": "https://localhost:8080/"
        }
      },
      "execution_count": null,
      "outputs": [
        {
          "output_type": "stream",
          "name": "stdout",
          "text": [
            "Python 3.7.13\n"
          ]
        }
      ]
    },
    {
      "cell_type": "markdown",
      "source": [
        "## Impressão"
      ],
      "metadata": {
        "id": "kk7mirpV_IVK"
      }
    },
    {
      "cell_type": "code",
      "source": [
        "# impressão simples\n",
        "print('Olá mundo!')\n",
        "\n",
        "# impressão concatenada\n",
        "print('Olá'+ ' '+ 'mundo!')\n",
        "\n",
        "# impressão de variável\n",
        "nome = 'Jane Doe'\n",
        "print(nome)\n",
        "\n",
        "# impressão combinada de variável\n",
        "print('Olá, '+nome)\n",
        "\n",
        "# impressão string formatada \n",
        "print('Olá, {}! Como vai?'.format(nome))\n",
        "\n",
        "# impressão de variável exclusiva do colab (colocar variável (uma ou mais) na ultima linha de um container de código)\n",
        "nome, type(nome)"
      ],
      "metadata": {
        "id": "MMK--4eQ_CWJ",
        "outputId": "d862d0d4-2f69-4ef3-8acc-dc558275ebfd",
        "colab": {
          "base_uri": "https://localhost:8080/"
        }
      },
      "execution_count": null,
      "outputs": [
        {
          "output_type": "stream",
          "name": "stdout",
          "text": [
            "Olá mundo!\n",
            "Olá mundo!\n",
            "Jane Doe\n",
            "Olá, Jane Doe\n",
            "Olá, Jane Doe! Como vai?\n"
          ]
        },
        {
          "output_type": "execute_result",
          "data": {
            "text/plain": [
              "('Jane Doe', str)"
            ]
          },
          "metadata": {},
          "execution_count": 21
        }
      ]
    },
    {
      "cell_type": "markdown",
      "source": [
        "## Tipos Básicos"
      ],
      "metadata": {
        "id": "MCEjlkQZBILh"
      }
    },
    {
      "cell_type": "markdown",
      "source": [
        "### Números"
      ],
      "metadata": {
        "id": "_V5ekQ4KD14L"
      }
    },
    {
      "cell_type": "code",
      "execution_count": null,
      "metadata": {
        "id": "ooDNfLEL8siS",
        "outputId": "1ece5283-0463-4841-8fdc-950c831ded1b",
        "colab": {
          "base_uri": "https://localhost:8080/"
        }
      },
      "outputs": [
        {
          "output_type": "stream",
          "name": "stdout",
          "text": [
            "variavel_um: 5 <class 'int'>\n"
          ]
        }
      ],
      "source": [
        "variavel_um = 5\n",
        "print('variavel_um:', variavel_um, type(variavel_um))"
      ]
    },
    {
      "cell_type": "code",
      "source": [
        "print('adição\\n', variavel_um + 1)   # adição \n",
        "print('subtração\\n', variavel_um - 1)   # subtração\n",
        "print('multiplicação\\n', variavel_um * 2)   # multiplicação\n",
        "print('exponenciação\\n', variavel_um ** 2)  # exponenciação\n",
        "print('divisão\\n', variavel_um / 2)   # divisão\n",
        "print('resto\\n', variavel_um % 2)   # resto"
      ],
      "metadata": {
        "id": "yqXbH5UBCEsI",
        "outputId": "f84cba21-7610-4f15-f8ee-75378d2d42f5",
        "colab": {
          "base_uri": "https://localhost:8080/"
        }
      },
      "execution_count": null,
      "outputs": [
        {
          "output_type": "stream",
          "name": "stdout",
          "text": [
            "adição\n",
            " 6\n",
            "subtração\n",
            " 4\n",
            "multiplicação\n",
            " 10\n",
            "exponenciação\n",
            " 25\n",
            "divisão\n",
            " 2.5\n",
            "resto\n",
            " 1\n"
          ]
        }
      ]
    },
    {
      "cell_type": "code",
      "source": [
        "# alteração de variável\n",
        "variavel_dois = variavel_um\n",
        "variavel_um = variavel_um + 1\n",
        "variavel_dois += 1\n",
        "print('adição:\\t\\t', variavel_um, variavel_dois)\n",
        "\n",
        "variavel_um = variavel_um * 10\n",
        "variavel_dois *= 10\n",
        "print('multiplicação:\\t', variavel_um, variavel_dois)\n",
        "\n",
        "variavel_um = variavel_um / 5\n",
        "variavel_dois /= 5\n",
        "print('divisão:\\t', variavel_um, variavel_dois)"
      ],
      "metadata": {
        "id": "RIriw4yHCxpL",
        "outputId": "e1ec8ae1-843a-47f3-d6af-1e7f6befcd05",
        "colab": {
          "base_uri": "https://localhost:8080/"
        }
      },
      "execution_count": null,
      "outputs": [
        {
          "output_type": "stream",
          "name": "stdout",
          "text": [
            "adição:\t\t 6 6\n",
            "multiplicação:\t 60 60\n",
            "divisão:\t 12.0 12.0\n"
          ]
        }
      ]
    },
    {
      "cell_type": "code",
      "source": [
        "variavel_tres = 2.5\n",
        "print(type(variavel_tres))\n",
        "print('variavel_tres', variavel_tres, variavel_tres + 1, variavel_tres * 2, variavel_tres ** 2, variavel_tres / 3)"
      ],
      "metadata": {
        "id": "vw3BxkkmDn1m",
        "outputId": "8d0ac2ad-2a20-466e-fe80-997fd7308ec8",
        "colab": {
          "base_uri": "https://localhost:8080/"
        }
      },
      "execution_count": null,
      "outputs": [
        {
          "output_type": "stream",
          "name": "stdout",
          "text": [
            "<class 'float'>\n",
            "variavel_tres 2.5 3.5 5.0 6.25 0.8333333333333334\n"
          ]
        }
      ]
    },
    {
      "cell_type": "markdown",
      "source": [
        "### Lógico"
      ],
      "metadata": {
        "id": "KiAE7-HXD6D8"
      }
    },
    {
      "cell_type": "code",
      "source": [
        "t, f = True, False\n",
        "print(t, f)\n",
        "print(type(t), type(f))"
      ],
      "metadata": {
        "id": "C6_U61FyETkQ",
        "outputId": "f32325f2-1662-457b-b00e-458cd603dcb6",
        "colab": {
          "base_uri": "https://localhost:8080/"
        }
      },
      "execution_count": null,
      "outputs": [
        {
          "output_type": "stream",
          "name": "stdout",
          "text": [
            "True False\n",
            "<class 'bool'> <class 'bool'>\n"
          ]
        }
      ]
    },
    {
      "cell_type": "markdown",
      "source": [
        "Operações..."
      ],
      "metadata": {
        "id": "hg4HsiVNE5y2"
      }
    },
    {
      "cell_type": "code",
      "source": [
        "print(t and f) # E / && / AND;\n",
        "print(t or f)  # OU / || / OR;\n",
        "print(not t)   # NÃO / NOT;\n",
        "print(t != f)  # XOR;"
      ],
      "metadata": {
        "id": "tTfYXWT9EpvX",
        "outputId": "9bb194e9-4dc5-43cd-e4d2-5c882c6668ea",
        "colab": {
          "base_uri": "https://localhost:8080/"
        }
      },
      "execution_count": null,
      "outputs": [
        {
          "output_type": "stream",
          "name": "stdout",
          "text": [
            "False\n",
            "True\n",
            "False\n",
            "True\n"
          ]
        }
      ]
    },
    {
      "cell_type": "markdown",
      "source": [
        "### Containers"
      ],
      "metadata": {
        "id": "XZfWrEjsEK_n"
      }
    },
    {
      "cell_type": "markdown",
      "source": [
        "#### Listas"
      ],
      "metadata": {
        "id": "KGR-5ivyFLl8"
      }
    },
    {
      "cell_type": "code",
      "source": [
        "# Cria uma lista de 3 elementos\n",
        "lista = [3, 1, 2]\n",
        "print(lista, lista[2])\n",
        "\n",
        "# imprime ultima posição; prints \"2\"\n",
        "print(lista[-1])     \n",
        "\n",
        "# imprime penultima posição; prints \"1\"\n",
        "print(lista[-2])     "
      ],
      "metadata": {
        "id": "dhLN-ds9F3so",
        "outputId": "bf1b2206-a750-44fb-90ee-4ed3262960ef",
        "colab": {
          "base_uri": "https://localhost:8080/"
        }
      },
      "execution_count": null,
      "outputs": [
        {
          "output_type": "stream",
          "name": "stdout",
          "text": [
            "[3, 1, 2] 2\n",
            "2\n",
            "1\n"
          ]
        }
      ]
    },
    {
      "cell_type": "code",
      "source": [
        "# Listas podem receber elementos de tipos diferentes\n",
        "lista[2] = 'foo'\n",
        "print(lista)"
      ],
      "metadata": {
        "id": "y_oFSBJaGDme",
        "outputId": "ab62e76e-dfb2-45a7-a4aa-9d38202ecf76",
        "colab": {
          "base_uri": "https://localhost:8080/"
        }
      },
      "execution_count": null,
      "outputs": [
        {
          "output_type": "stream",
          "name": "stdout",
          "text": [
            "[3, 1, 'foo']\n"
          ]
        }
      ]
    },
    {
      "cell_type": "code",
      "source": [
        "# inclusao de elemento no fim da lista\n",
        "lista.append('bar')\n",
        "print(lista)  "
      ],
      "metadata": {
        "id": "fi_so8tSGS8U",
        "outputId": "04a12783-fb82-4427-8c76-b01a330bb2dd",
        "colab": {
          "base_uri": "https://localhost:8080/"
        }
      },
      "execution_count": null,
      "outputs": [
        {
          "output_type": "stream",
          "name": "stdout",
          "text": [
            "[3, 1, 'foo', 'bar']\n"
          ]
        }
      ]
    },
    {
      "cell_type": "code",
      "source": [
        "# remove e retorna o ultimo elemento da lista\n",
        "elemento_removido = lista.pop()     # Remove and return the last element of the list\n",
        "print(elemento_removido, lista)"
      ],
      "metadata": {
        "id": "6JN067cTGpW6",
        "outputId": "80888acc-2c38-4ba8-a180-7c89299e45eb",
        "colab": {
          "base_uri": "https://localhost:8080/"
        }
      },
      "execution_count": null,
      "outputs": [
        {
          "output_type": "stream",
          "name": "stdout",
          "text": [
            "bar [3, 1, 'foo']\n"
          ]
        }
      ]
    },
    {
      "cell_type": "markdown",
      "source": [
        "##### Manipulação e transformação em Listas"
      ],
      "metadata": {
        "id": "Bp91gx9FFuC4"
      }
    },
    {
      "cell_type": "code",
      "source": [
        "# slicing/fatia\n",
        "# cria uma lista com a funcao range\n",
        "numeros = list(range(5))    # range is a built-in function that creates a list of integers\n",
        "\n",
        "# \"[0, 1, 2, 3, 4]\"\n",
        "print(numeros)         \n",
        "\n",
        "# pega uma fatia a lista do índice 2 to 4 (limite, nao inclui essa posicao): \"[2, 3]\"\n",
        "print(numeros[2:4])    \n",
        "\n",
        "# # pega todos os elementos da lista a partir da posicao 2: \"[2, 3, 4]\"\n",
        "print(numeros[2:])     \n",
        "\n",
        "# pega uma fatia da lista contendo as duas primeiras posições \"[0, 1]\"\n",
        "print(numeros[:2])\n",
        "\n",
        "# pega uma fatia da lista contendo todos os elementos\n",
        "print(numeros[:])\n",
        "\n",
        "# imprime todos os elmentos, menos a última posição [\"0, 1, 2, 3]\"\n",
        "print(numeros[:-1])\n",
        "\n",
        "# atribui 8 e 9 no intervalo 2-4 (posições 2 e 3)\n",
        "numeros[2:4] = [8, 9]  # Assign a new sublist to a slice\n",
        "\n",
        "# imprime \"[0, 1, 8, 9, 4]\"\n",
        "print(numeros)"
      ],
      "metadata": {
        "id": "niCWqoOCG6nF",
        "outputId": "f5a1f37f-5fdb-4c57-92c6-2466d844b7a8",
        "colab": {
          "base_uri": "https://localhost:8080/"
        }
      },
      "execution_count": null,
      "outputs": [
        {
          "output_type": "stream",
          "name": "stdout",
          "text": [
            "[0, 1, 2, 3, 4]\n",
            "[2, 3]\n",
            "[2, 3, 4]\n",
            "[0, 1]\n",
            "[0, 1, 2, 3, 4]\n",
            "[0, 1, 2, 3]\n",
            "[0, 1, 8, 9, 4]\n"
          ]
        }
      ]
    },
    {
      "cell_type": "markdown",
      "source": [
        "Percorrendo itens de listas"
      ],
      "metadata": {
        "id": "kx-d2iKGKZpt"
      }
    },
    {
      "cell_type": "code",
      "source": [
        "animais = ['cat', 'dog', 'monkey']\n",
        "animais"
      ],
      "metadata": {
        "id": "ye1CdOzSLCBl",
        "outputId": "3fa499c1-8ebe-4500-a42e-32906e367b39",
        "colab": {
          "base_uri": "https://localhost:8080/"
        }
      },
      "execution_count": null,
      "outputs": [
        {
          "output_type": "execute_result",
          "data": {
            "text/plain": [
              "['cat', 'dog', 'monkey']"
            ]
          },
          "metadata": {},
          "execution_count": 33
        }
      ]
    },
    {
      "cell_type": "code",
      "source": [
        "# percorrendo listas\n",
        "\n",
        "#  loop em lista - percorrendo itens\n",
        "print('loop em lista - percorrendo itens')\n",
        "for animal in animais:\n",
        "    print('loop1:', animal)\n",
        "\n",
        "\n",
        "#  loop em lista - percorrendo itens\n",
        "print('loop em lista - percorrendo índices')\n",
        "for i in range(len(animais)):\n",
        "  print('loop2', animais[i])\n",
        "\n",
        "\n",
        "#  loop em lista - percorrendo itens e posicoes\n",
        "print('loop em lista - percorrendo índices e posicoes')\n",
        "for idx, animal in enumerate(animais):\n",
        "    print('loop3: #{}: {}'.format(idx + 1, animal))"
      ],
      "metadata": {
        "id": "bQ7EmjafJNuz",
        "outputId": "55c68da9-92a2-4ff6-a30c-46d3eb8fb122",
        "colab": {
          "base_uri": "https://localhost:8080/"
        }
      },
      "execution_count": null,
      "outputs": [
        {
          "output_type": "stream",
          "name": "stdout",
          "text": [
            "loop em lista - percorrendo itens\n",
            "loop1: cat\n",
            "loop1: dog\n",
            "loop1: monkey\n",
            "loop em lista - percorrendo índices\n",
            "loop2 cat\n",
            "loop2 dog\n",
            "loop2 monkey\n",
            "loop em lista - percorrendo índices e posicoes\n",
            "loop3: #1: cat\n",
            "loop3: #2: dog\n",
            "loop3: #3: monkey\n"
          ]
        }
      ]
    },
    {
      "cell_type": "markdown",
      "source": [
        "Alteração e transferencia de dados de listas...\n",
        "\n",
        "\n"
      ],
      "metadata": {
        "id": "zqwWFheBKev4"
      }
    },
    {
      "cell_type": "code",
      "source": [
        "numeros = [0, 1, 2, 3, 4]\n",
        "numeros"
      ],
      "metadata": {
        "id": "53vVsb-CK-ie",
        "outputId": "15c35604-d656-40d7-a8e5-596df08044b0",
        "colab": {
          "base_uri": "https://localhost:8080/"
        }
      },
      "execution_count": null,
      "outputs": [
        {
          "output_type": "execute_result",
          "data": {
            "text/plain": [
              "[0, 1, 2, 3, 4]"
            ]
          },
          "metadata": {},
          "execution_count": 35
        }
      ]
    },
    {
      "cell_type": "code",
      "source": [
        "# forma mais verbosa\n",
        "potencias2 = []\n",
        "for x in numeros:\n",
        "    potencias2.append(x ** 2)\n",
        "print(potencias2)"
      ],
      "metadata": {
        "id": "kak0OgHYKYzN",
        "outputId": "f6733f54-ab83-425b-8b0e-a524c21fcfef",
        "colab": {
          "base_uri": "https://localhost:8080/"
        }
      },
      "execution_count": null,
      "outputs": [
        {
          "output_type": "stream",
          "name": "stdout",
          "text": [
            "[0, 1, 4, 9, 16]\n"
          ]
        }
      ]
    },
    {
      "cell_type": "code",
      "source": [
        "# forma menos verbosa\n",
        "potencias2 = [x ** 2 for x in numeros]\n",
        "print(potencias2)"
      ],
      "metadata": {
        "id": "GZfAyOELK7TC",
        "outputId": "39975026-1acc-4028-dfa6-772b4c6b1ed9",
        "colab": {
          "base_uri": "https://localhost:8080/"
        }
      },
      "execution_count": null,
      "outputs": [
        {
          "output_type": "stream",
          "name": "stdout",
          "text": [
            "[0, 1, 4, 9, 16]\n"
          ]
        }
      ]
    },
    {
      "cell_type": "markdown",
      "source": [
        "#### Dicionários"
      ],
      "metadata": {
        "id": "plYsQecLFN3_"
      }
    },
    {
      "cell_type": "code",
      "source": [
        "dicionario = {'cat': 'cute', 'dog': 'furry'}  # Create a new dictionary with some data\n",
        "dicionario, type(dicionario)"
      ],
      "metadata": {
        "id": "e38Xt8X8LWYZ",
        "outputId": "fbec5022-d1b5-4562-ddac-f562a8b6912a",
        "colab": {
          "base_uri": "https://localhost:8080/"
        }
      },
      "execution_count": null,
      "outputs": [
        {
          "output_type": "execute_result",
          "data": {
            "text/plain": [
              "({'cat': 'cute', 'dog': 'furry'}, dict)"
            ]
          },
          "metadata": {},
          "execution_count": 39
        }
      ]
    },
    {
      "cell_type": "code",
      "source": [
        "# valor do dicionario, na chave 'cat'\n",
        "print(dicionario['cat'])\n",
        "# verifica se campo 'cat' existe no dicionario\n",
        "print('cat' in dicionario)"
      ],
      "metadata": {
        "id": "eJxn3CFZLYp8",
        "colab": {
          "base_uri": "https://localhost:8080/"
        },
        "outputId": "009f7169-f6b4-4a6d-faab-71b2f5f19cfb"
      },
      "execution_count": null,
      "outputs": [
        {
          "output_type": "stream",
          "name": "stdout",
          "text": [
            "cute\n",
            "True\n"
          ]
        }
      ]
    },
    {
      "cell_type": "code",
      "source": [
        "# altera valor de dicionario, na chave 'cat'\n",
        "dicionario['cat'] = 'really cute'\n",
        "dicionario"
      ],
      "metadata": {
        "id": "cWOnEYvILurh",
        "colab": {
          "base_uri": "https://localhost:8080/"
        },
        "outputId": "e470711a-b2b7-4f68-fcae-af8c18f9319d"
      },
      "execution_count": null,
      "outputs": [
        {
          "output_type": "execute_result",
          "data": {
            "text/plain": [
              "{'cat': 'really cute', 'dog': 'furry'}"
            ]
          },
          "metadata": {},
          "execution_count": 41
        }
      ]
    },
    {
      "cell_type": "code",
      "source": [
        "# recupera o valor do dicionado na chave 'cat', retorna 'N/A' como valor padrao caso nao hava valor\n",
        "print(dicionario.get('cat', 'N/A'))\n",
        "print(dicionario.get('cat_dog', 'N/A'))"
      ],
      "metadata": {
        "id": "oQ-5Ujs-MKKn",
        "colab": {
          "base_uri": "https://localhost:8080/"
        },
        "outputId": "900112ad-8d3b-47db-fce3-0ca19a3911c5"
      },
      "execution_count": null,
      "outputs": [
        {
          "output_type": "stream",
          "name": "stdout",
          "text": [
            "really cute\n",
            "N/A\n"
          ]
        }
      ]
    },
    {
      "cell_type": "markdown",
      "source": [
        "percorrendo dicionarios"
      ],
      "metadata": {
        "id": "TUWWsNo8MliH"
      }
    },
    {
      "cell_type": "code",
      "source": [
        "dicionarios = {'person': 2, 'cat': 4, 'spider': 8}\n",
        "dicionarios, type(dicionarios)"
      ],
      "metadata": {
        "id": "w_29ueTdMqWG",
        "colab": {
          "base_uri": "https://localhost:8080/"
        },
        "outputId": "720d7e7d-5924-4aa3-f73c-db175f01fdb2"
      },
      "execution_count": null,
      "outputs": [
        {
          "output_type": "execute_result",
          "data": {
            "text/plain": [
              "({'cat': 4, 'person': 2, 'spider': 8}, dict)"
            ]
          },
          "metadata": {},
          "execution_count": 43
        }
      ]
    },
    {
      "cell_type": "code",
      "source": [
        "for animal, pernas in dicionario.items():\n",
        "    print('Animal {} tem {} legs'.format(animal, pernas))"
      ],
      "metadata": {
        "id": "9QTWfbRgLXn-",
        "colab": {
          "base_uri": "https://localhost:8080/"
        },
        "outputId": "09a7c370-45e3-430e-dfcf-d6a38b1a3fbe"
      },
      "execution_count": null,
      "outputs": [
        {
          "output_type": "stream",
          "name": "stdout",
          "text": [
            "Animal cat tem really cute legs\n",
            "Animal dog tem furry legs\n"
          ]
        }
      ]
    },
    {
      "cell_type": "markdown",
      "source": [
        "transferencia de dados em dicionarios"
      ],
      "metadata": {
        "id": "s_iBD6m4NBlX"
      }
    },
    {
      "cell_type": "code",
      "source": [
        "numero_par_ao_quadrado = {x: x ** 2 for x in numeros if x % 2 == 0}\n",
        "print(numeros)\n",
        "print(numero_par_ao_quadrado)"
      ],
      "metadata": {
        "id": "lhIPH0lRNFSm",
        "colab": {
          "base_uri": "https://localhost:8080/"
        },
        "outputId": "f7fa9417-2f03-4b18-db9f-41b51e374346"
      },
      "execution_count": null,
      "outputs": [
        {
          "output_type": "stream",
          "name": "stdout",
          "text": [
            "[0, 1, 2, 3, 4]\n",
            "{0: 0, 2: 4, 4: 16}\n"
          ]
        }
      ]
    },
    {
      "cell_type": "markdown",
      "source": [
        "#### Sets"
      ],
      "metadata": {
        "id": "istghboFFeXm"
      }
    },
    {
      "cell_type": "markdown",
      "source": [
        "coleção não ordenada"
      ],
      "metadata": {
        "id": "1GVL9d6sNang"
      }
    },
    {
      "cell_type": "code",
      "source": [
        "animais = {'cat', 'beaver', 'dog', 'bee'}\n",
        "animais, type(animais)"
      ],
      "metadata": {
        "id": "yVCOQcvuNcY8"
      },
      "execution_count": null,
      "outputs": []
    },
    {
      "cell_type": "code",
      "source": [
        "# verifica se 'cat' e 'fish' estão em set\n",
        "print('cat' in animais)\n",
        "print('fish' in animais)"
      ],
      "metadata": {
        "id": "iAzJiidQOCb7"
      },
      "execution_count": null,
      "outputs": []
    },
    {
      "cell_type": "code",
      "source": [
        "animais.add('fish')      # Add an element to a set\n",
        "print('fish' in animais)\n",
        "print(len(animais))\n",
        "animais"
      ],
      "metadata": {
        "id": "IApU0Z3oOOch"
      },
      "execution_count": null,
      "outputs": []
    },
    {
      "cell_type": "code",
      "source": [
        "# adicionar item que ja existe, nao interfere em nada e o item nao é adicionado\n",
        "animais.add('cat')       \n",
        "print(animais, len(animais))      \n",
        "#  remove item do set \n",
        "animais.remove('cat')\n",
        "print(animais, len(animais))  "
      ],
      "metadata": {
        "id": "g13ERz-4Oehw"
      },
      "execution_count": null,
      "outputs": []
    },
    {
      "cell_type": "markdown",
      "source": [
        "percorrendo um set"
      ],
      "metadata": {
        "id": "NP04bceBO3QM"
      }
    },
    {
      "cell_type": "code",
      "source": [
        "for idx, animal in enumerate(animais):\n",
        "    print('#{}: {}'.format(idx + 1, animal))"
      ],
      "metadata": {
        "id": "F5-IsS75O5m1"
      },
      "execution_count": null,
      "outputs": []
    },
    {
      "cell_type": "markdown",
      "source": [
        "criando um set de forma menos verbosa"
      ],
      "metadata": {
        "id": "HX0DJn6sO8au"
      }
    },
    {
      "cell_type": "code",
      "source": [
        "# raiz quadrada\n",
        "from math import sqrt\n",
        "\n",
        "\n",
        "print({int(sqrt(x)) for x in range(30)})"
      ],
      "metadata": {
        "id": "x5zeQDhePA-6"
      },
      "execution_count": null,
      "outputs": []
    },
    {
      "cell_type": "markdown",
      "source": [
        "#### Tuplas\n",
        "\n",
        "Lista de valores imutaveis"
      ],
      "metadata": {
        "id": "03J5HiMJFfyt"
      }
    },
    {
      "cell_type": "code",
      "source": [
        "dicionario_tuplas = {(x, x + 1): x for x in range(10)}  # Create a dictionary with tuple keys\n",
        "print(dicionario_tuplas)\n",
        "print(type(dicionario_tuplas))\n",
        "tupla = (5, 6)       # Create a tuple\n",
        "print(type(tupla))\n",
        "print(dicionario_tuplas[tupla])       \n",
        "print(dicionario_tuplas[(1, 2)])"
      ],
      "metadata": {
        "id": "z9WNIytEO7_x"
      },
      "execution_count": null,
      "outputs": []
    },
    {
      "cell_type": "markdown",
      "source": [
        "### Funções"
      ],
      "metadata": {
        "id": "4rL8hgbbQBTc"
      }
    },
    {
      "cell_type": "code",
      "source": [
        "def sinal(x):\n",
        "    if x > 0:\n",
        "        return 'positivo'\n",
        "    elif x < 0:\n",
        "        return 'negativo'\n",
        "    else:\n",
        "        return 'zero'\n",
        "\n",
        "for x in [-1, 0, 1]:\n",
        "    print(sinal(x))"
      ],
      "metadata": {
        "id": "eKXsGYq1QH4r"
      },
      "execution_count": null,
      "outputs": []
    },
    {
      "cell_type": "markdown",
      "source": [
        "função com valor opcional é aquele tem tem um valor padrão definido"
      ],
      "metadata": {
        "id": "1MVhsJpVQVEP"
      }
    },
    {
      "cell_type": "code",
      "source": [
        "def saudacao(name, loud=False):\n",
        "    if loud:\n",
        "        print('HELLO, {}'.format(name.upper()))\n",
        "    else:\n",
        "        print('Hello, {}!'.format(name))\n",
        "\n",
        "saudacao('Bob')\n",
        "saudacao('Fred', loud=True)"
      ],
      "metadata": {
        "id": "ZKJXlJg8D5eu"
      },
      "execution_count": null,
      "outputs": []
    },
    {
      "cell_type": "markdown",
      "source": [
        "# Introdução ao Pandas\n",
        "\n",
        "https://pandas.pydata.org/docs/reference/index.html#api"
      ],
      "metadata": {
        "id": "K5QWHVs5-JO3"
      }
    },
    {
      "cell_type": "code",
      "source": [
        "import pandas as pd"
      ],
      "metadata": {
        "id": "QI5LBffaQALe"
      },
      "execution_count": null,
      "outputs": []
    },
    {
      "cell_type": "markdown",
      "source": [
        "dicionário"
      ],
      "metadata": {
        "id": "7_dIOpLgRV3W"
      }
    },
    {
      "cell_type": "code",
      "source": [
        "dicionario = {'a': 1, 'b': 2, 'c': 3}\n",
        "dicionario, type(dicionario)"
      ],
      "metadata": {
        "id": "Z1ZJo9_QRXog",
        "colab": {
          "base_uri": "https://localhost:8080/"
        },
        "outputId": "be135680-3a1e-467c-ee2e-a63771346bf4"
      },
      "execution_count": null,
      "outputs": [
        {
          "output_type": "execute_result",
          "data": {
            "text/plain": [
              "({'a': 1, 'b': 2, 'c': 3}, dict)"
            ]
          },
          "metadata": {},
          "execution_count": 3
        }
      ]
    },
    {
      "cell_type": "code",
      "source": [
        "from google.colab import drive\n",
        "drive.mount('/content/drive')"
      ],
      "metadata": {
        "id": "mXA4vFxYWEUo",
        "colab": {
          "base_uri": "https://localhost:8080/"
        },
        "outputId": "a8e29340-ed4a-430f-db4e-e22b2c9d2ac2"
      },
      "execution_count": null,
      "outputs": [
        {
          "output_type": "stream",
          "name": "stdout",
          "text": [
            "Mounted at /content/drive\n"
          ]
        }
      ]
    },
    {
      "cell_type": "markdown",
      "source": [
        "### Série\n",
        "https://pandas.pydata.org/docs/reference/api/pandas.Series.html#pandas.Series"
      ],
      "metadata": {
        "id": "FssGOC3gVwIp"
      }
    },
    {
      "cell_type": "markdown",
      "source": [
        "\n",
        "\n",
        "![Screenshot from 2022-02-06 19-04-58.png](data:image/png;base64,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)"
      ],
      "metadata": {
        "id": "bEppE_24Q-mo"
      }
    },
    {
      "cell_type": "code",
      "source": [
        "# com índices conhecidos\n",
        "serie = pd.Series(data=dicionario, name='exemplo1', index=['a', 'b', 'c'])\n",
        "serie"
      ],
      "metadata": {
        "id": "W9kn1jBgQ45e"
      },
      "execution_count": null,
      "outputs": []
    },
    {
      "cell_type": "code",
      "source": [
        "# com índides desconhecidos\n",
        "serie = pd.Series(data=dicionario, name='exemplo2', index=['x', 'y', 'z'])\n",
        "serie"
      ],
      "metadata": {
        "id": "-0W737KBRYse"
      },
      "execution_count": null,
      "outputs": []
    },
    {
      "cell_type": "markdown",
      "source": [
        "### Dataframe\n",
        "\n",
        "https://pandas.pydata.org/docs/reference/api/pandas.DataFrame.html#pandas.DataFrame"
      ],
      "metadata": {
        "id": "MvBcZFJFTKZX"
      }
    },
    {
      "cell_type": "code",
      "source": [
        "dicionario = {'col1': [1, 2], 'col2': [3, 4]}\n",
        "dicionario, type(dicionario)"
      ],
      "metadata": {
        "id": "RdZtpMd3Tqgy"
      },
      "execution_count": null,
      "outputs": []
    },
    {
      "cell_type": "code",
      "source": [
        "data_frame = pd.DataFrame(data=dicionario)\n",
        "print(type(data_frame))\n",
        "data_frame"
      ],
      "metadata": {
        "id": "uRn6TsJcTor8"
      },
      "execution_count": null,
      "outputs": []
    },
    {
      "cell_type": "markdown",
      "source": [
        "# Carregamento de Dados com Pandas\n",
        "\n",
        "documentação: https://pandas.pydata.org/docs/reference/api/pandas.read_csv.html"
      ],
      "metadata": {
        "id": "4xnGkIbj-O6C"
      }
    },
    {
      "cell_type": "markdown",
      "source": [
        "exemplo dos slides...\n",
        "\n",
        "\n",
        "\n",
        "```\n",
        "import pandas as pd \n",
        "\n",
        "df = pd.read_csv('file_name.csv')# Carrega um CSV que está no mesmo diretório\n",
        "df\t\t\t\t\t\t\t# retorna todas as linhas e colunas do dataframe\n",
        "```\n",
        "\n",
        "O colab já traz uns CSVs por padrão"
      ],
      "metadata": {
        "id": "rHcZylMJUs8L"
      }
    },
    {
      "cell_type": "markdown",
      "source": [
        "![Screenshot from 2022-02-06 19-15-53.png](data:image/png;base64,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)"
      ],
      "metadata": {
        "id": "BZJNtGfWUele"
      }
    },
    {
      "cell_type": "code",
      "source": [
        "data_frame = pd.read_csv('sample_data/california_housing_train.csv')\n",
        "\n",
        "data_frame"
      ],
      "metadata": {
        "id": "n4VhLUZoUcpb"
      },
      "execution_count": null,
      "outputs": []
    },
    {
      "cell_type": "markdown",
      "source": [
        "# **EXERCÍCIOS DA AULA**"
      ],
      "metadata": {
        "id": "qRf_e6Hh-WYQ"
      }
    },
    {
      "cell_type": "markdown",
      "source": [
        "## Python Básico"
      ],
      "metadata": {
        "id": "pukxFV_2-l73"
      }
    },
    {
      "cell_type": "markdown",
      "source": [
        "1. Crie um dicionário cujas chaves representam os 10 primeiros itens da sequencia de fibonacci e os valores representem a raiz quadrada da sua respectiva chave.\n",
        " - **utilize o conhecimento de função e impressão de chave e valor de um dicionário**"
      ],
      "metadata": {
        "id": "HO7aLNiJWVkn"
      }
    },
    {
      "cell_type": "code",
      "source": [
        "import sys\n",
        "import math\n",
        "\n",
        "\n",
        "\n",
        "def fibonacci(dic,fib):\n",
        "    return round((((1 + math.sqrt(5)) / 2)**fib) / math.sqrt(5))\n",
        "\n",
        "if __name__ == \"__main__\":\n",
        "\n",
        "    fib = lambda fib: round((((1 + math.sqrt(5)) / 2)**fib) / math.sqrt(5))\n",
        "    for i in range(10):\n",
        "        print(fib(i+1))\n",
        "    \n",
        "\n"
      ],
      "metadata": {
        "id": "p-baOi2z-xJ3",
        "outputId": "b46cf5a3-0e0b-4da2-aa1b-01f38939ebfc",
        "colab": {
          "base_uri": "https://localhost:8080/"
        }
      },
      "execution_count": null,
      "outputs": [
        {
          "output_type": "stream",
          "name": "stdout",
          "text": [
            "1\n",
            "1\n",
            "2\n",
            "3\n",
            "5\n",
            "8\n",
            "13\n",
            "21\n",
            "34\n",
            "55\n"
          ]
        }
      ]
    },
    {
      "cell_type": "markdown",
      "source": [
        "## Pandas - Carregamento de Dados"
      ],
      "metadata": {
        "id": "7Bme4wYF-0wy"
      }
    },
    {
      "cell_type": "markdown",
      "source": [
        "2. Ler, separadamente, todos os CSVs presentes na pasta `sample` do colab como dataframe, utilizando a função read_csv do pandas"
      ],
      "metadata": {
        "id": "0ykYheuIX29c"
      }
    },
    {
      "cell_type": "code",
      "source": [
        "import pandas as pd\n",
        "\n",
        "df_teste = pd.read_csv('/content/sample_data/california_housing_test.csv')\n",
        "df_teste\n",
        "\n"
      ],
      "metadata": {
        "id": "LU5WQmw0YvoG",
        "colab": {
          "base_uri": "https://localhost:8080/",
          "height": 488
        },
        "outputId": "e1c01e37-031c-41e7-a73b-13d867aadc4f"
      },
      "execution_count": null,
      "outputs": [
        {
          "output_type": "execute_result",
          "data": {
            "text/plain": [
              "      longitude  latitude  housing_median_age  total_rooms  total_bedrooms  \\\n",
              "0       -122.05     37.37                27.0       3885.0           661.0   \n",
              "1       -118.30     34.26                43.0       1510.0           310.0   \n",
              "2       -117.81     33.78                27.0       3589.0           507.0   \n",
              "3       -118.36     33.82                28.0         67.0            15.0   \n",
              "4       -119.67     36.33                19.0       1241.0           244.0   \n",
              "...         ...       ...                 ...          ...             ...   \n",
              "2995    -119.86     34.42                23.0       1450.0           642.0   \n",
              "2996    -118.14     34.06                27.0       5257.0          1082.0   \n",
              "2997    -119.70     36.30                10.0        956.0           201.0   \n",
              "2998    -117.12     34.10                40.0         96.0            14.0   \n",
              "2999    -119.63     34.42                42.0       1765.0           263.0   \n",
              "\n",
              "      population  households  median_income  median_house_value  \n",
              "0         1537.0       606.0         6.6085            344700.0  \n",
              "1          809.0       277.0         3.5990            176500.0  \n",
              "2         1484.0       495.0         5.7934            270500.0  \n",
              "3           49.0        11.0         6.1359            330000.0  \n",
              "4          850.0       237.0         2.9375             81700.0  \n",
              "...          ...         ...            ...                 ...  \n",
              "2995      1258.0       607.0         1.1790            225000.0  \n",
              "2996      3496.0      1036.0         3.3906            237200.0  \n",
              "2997       693.0       220.0         2.2895             62000.0  \n",
              "2998        46.0        14.0         3.2708            162500.0  \n",
              "2999       753.0       260.0         8.5608            500001.0  \n",
              "\n",
              "[3000 rows x 9 columns]"
            ],
            "text/html": [
              "\n",
              "  <div id=\"df-7f782aac-e91f-41ea-aa53-e846abff8bd9\">\n",
              "    <div class=\"colab-df-container\">\n",
              "      <div>\n",
              "<style scoped>\n",
              "    .dataframe tbody tr th:only-of-type {\n",
              "        vertical-align: middle;\n",
              "    }\n",
              "\n",
              "    .dataframe tbody tr th {\n",
              "        vertical-align: top;\n",
              "    }\n",
              "\n",
              "    .dataframe thead th {\n",
              "        text-align: right;\n",
              "    }\n",
              "</style>\n",
              "<table border=\"1\" class=\"dataframe\">\n",
              "  <thead>\n",
              "    <tr style=\"text-align: right;\">\n",
              "      <th></th>\n",
              "      <th>longitude</th>\n",
              "      <th>latitude</th>\n",
              "      <th>housing_median_age</th>\n",
              "      <th>total_rooms</th>\n",
              "      <th>total_bedrooms</th>\n",
              "      <th>population</th>\n",
              "      <th>households</th>\n",
              "      <th>median_income</th>\n",
              "      <th>median_house_value</th>\n",
              "    </tr>\n",
              "  </thead>\n",
              "  <tbody>\n",
              "    <tr>\n",
              "      <th>0</th>\n",
              "      <td>-122.05</td>\n",
              "      <td>37.37</td>\n",
              "      <td>27.0</td>\n",
              "      <td>3885.0</td>\n",
              "      <td>661.0</td>\n",
              "      <td>1537.0</td>\n",
              "      <td>606.0</td>\n",
              "      <td>6.6085</td>\n",
              "      <td>344700.0</td>\n",
              "    </tr>\n",
              "    <tr>\n",
              "      <th>1</th>\n",
              "      <td>-118.30</td>\n",
              "      <td>34.26</td>\n",
              "      <td>43.0</td>\n",
              "      <td>1510.0</td>\n",
              "      <td>310.0</td>\n",
              "      <td>809.0</td>\n",
              "      <td>277.0</td>\n",
              "      <td>3.5990</td>\n",
              "      <td>176500.0</td>\n",
              "    </tr>\n",
              "    <tr>\n",
              "      <th>2</th>\n",
              "      <td>-117.81</td>\n",
              "      <td>33.78</td>\n",
              "      <td>27.0</td>\n",
              "      <td>3589.0</td>\n",
              "      <td>507.0</td>\n",
              "      <td>1484.0</td>\n",
              "      <td>495.0</td>\n",
              "      <td>5.7934</td>\n",
              "      <td>270500.0</td>\n",
              "    </tr>\n",
              "    <tr>\n",
              "      <th>3</th>\n",
              "      <td>-118.36</td>\n",
              "      <td>33.82</td>\n",
              "      <td>28.0</td>\n",
              "      <td>67.0</td>\n",
              "      <td>15.0</td>\n",
              "      <td>49.0</td>\n",
              "      <td>11.0</td>\n",
              "      <td>6.1359</td>\n",
              "      <td>330000.0</td>\n",
              "    </tr>\n",
              "    <tr>\n",
              "      <th>4</th>\n",
              "      <td>-119.67</td>\n",
              "      <td>36.33</td>\n",
              "      <td>19.0</td>\n",
              "      <td>1241.0</td>\n",
              "      <td>244.0</td>\n",
              "      <td>850.0</td>\n",
              "      <td>237.0</td>\n",
              "      <td>2.9375</td>\n",
              "      <td>81700.0</td>\n",
              "    </tr>\n",
              "    <tr>\n",
              "      <th>...</th>\n",
              "      <td>...</td>\n",
              "      <td>...</td>\n",
              "      <td>...</td>\n",
              "      <td>...</td>\n",
              "      <td>...</td>\n",
              "      <td>...</td>\n",
              "      <td>...</td>\n",
              "      <td>...</td>\n",
              "      <td>...</td>\n",
              "    </tr>\n",
              "    <tr>\n",
              "      <th>2995</th>\n",
              "      <td>-119.86</td>\n",
              "      <td>34.42</td>\n",
              "      <td>23.0</td>\n",
              "      <td>1450.0</td>\n",
              "      <td>642.0</td>\n",
              "      <td>1258.0</td>\n",
              "      <td>607.0</td>\n",
              "      <td>1.1790</td>\n",
              "      <td>225000.0</td>\n",
              "    </tr>\n",
              "    <tr>\n",
              "      <th>2996</th>\n",
              "      <td>-118.14</td>\n",
              "      <td>34.06</td>\n",
              "      <td>27.0</td>\n",
              "      <td>5257.0</td>\n",
              "      <td>1082.0</td>\n",
              "      <td>3496.0</td>\n",
              "      <td>1036.0</td>\n",
              "      <td>3.3906</td>\n",
              "      <td>237200.0</td>\n",
              "    </tr>\n",
              "    <tr>\n",
              "      <th>2997</th>\n",
              "      <td>-119.70</td>\n",
              "      <td>36.30</td>\n",
              "      <td>10.0</td>\n",
              "      <td>956.0</td>\n",
              "      <td>201.0</td>\n",
              "      <td>693.0</td>\n",
              "      <td>220.0</td>\n",
              "      <td>2.2895</td>\n",
              "      <td>62000.0</td>\n",
              "    </tr>\n",
              "    <tr>\n",
              "      <th>2998</th>\n",
              "      <td>-117.12</td>\n",
              "      <td>34.10</td>\n",
              "      <td>40.0</td>\n",
              "      <td>96.0</td>\n",
              "      <td>14.0</td>\n",
              "      <td>46.0</td>\n",
              "      <td>14.0</td>\n",
              "      <td>3.2708</td>\n",
              "      <td>162500.0</td>\n",
              "    </tr>\n",
              "    <tr>\n",
              "      <th>2999</th>\n",
              "      <td>-119.63</td>\n",
              "      <td>34.42</td>\n",
              "      <td>42.0</td>\n",
              "      <td>1765.0</td>\n",
              "      <td>263.0</td>\n",
              "      <td>753.0</td>\n",
              "      <td>260.0</td>\n",
              "      <td>8.5608</td>\n",
              "      <td>500001.0</td>\n",
              "    </tr>\n",
              "  </tbody>\n",
              "</table>\n",
              "<p>3000 rows × 9 columns</p>\n",
              "</div>\n",
              "      <button class=\"colab-df-convert\" onclick=\"convertToInteractive('df-7f782aac-e91f-41ea-aa53-e846abff8bd9')\"\n",
              "              title=\"Convert this dataframe to an interactive table.\"\n",
              "              style=\"display:none;\">\n",
              "        \n",
              "  <svg xmlns=\"http://www.w3.org/2000/svg\" height=\"24px\"viewBox=\"0 0 24 24\"\n",
              "       width=\"24px\">\n",
              "    <path d=\"M0 0h24v24H0V0z\" fill=\"none\"/>\n",
              "    <path d=\"M18.56 5.44l.94 2.06.94-2.06 2.06-.94-2.06-.94-.94-2.06-.94 2.06-2.06.94zm-11 1L8.5 8.5l.94-2.06 2.06-.94-2.06-.94L8.5 2.5l-.94 2.06-2.06.94zm10 10l.94 2.06.94-2.06 2.06-.94-2.06-.94-.94-2.06-.94 2.06-2.06.94z\"/><path d=\"M17.41 7.96l-1.37-1.37c-.4-.4-.92-.59-1.43-.59-.52 0-1.04.2-1.43.59L10.3 9.45l-7.72 7.72c-.78.78-.78 2.05 0 2.83L4 21.41c.39.39.9.59 1.41.59.51 0 1.02-.2 1.41-.59l7.78-7.78 2.81-2.81c.8-.78.8-2.07 0-2.86zM5.41 20L4 18.59l7.72-7.72 1.47 1.35L5.41 20z\"/>\n",
              "  </svg>\n",
              "      </button>\n",
              "      \n",
              "  <style>\n",
              "    .colab-df-container {\n",
              "      display:flex;\n",
              "      flex-wrap:wrap;\n",
              "      gap: 12px;\n",
              "    }\n",
              "\n",
              "    .colab-df-convert {\n",
              "      background-color: #E8F0FE;\n",
              "      border: none;\n",
              "      border-radius: 50%;\n",
              "      cursor: pointer;\n",
              "      display: none;\n",
              "      fill: #1967D2;\n",
              "      height: 32px;\n",
              "      padding: 0 0 0 0;\n",
              "      width: 32px;\n",
              "    }\n",
              "\n",
              "    .colab-df-convert:hover {\n",
              "      background-color: #E2EBFA;\n",
              "      box-shadow: 0px 1px 2px rgba(60, 64, 67, 0.3), 0px 1px 3px 1px rgba(60, 64, 67, 0.15);\n",
              "      fill: #174EA6;\n",
              "    }\n",
              "\n",
              "    [theme=dark] .colab-df-convert {\n",
              "      background-color: #3B4455;\n",
              "      fill: #D2E3FC;\n",
              "    }\n",
              "\n",
              "    [theme=dark] .colab-df-convert:hover {\n",
              "      background-color: #434B5C;\n",
              "      box-shadow: 0px 1px 3px 1px rgba(0, 0, 0, 0.15);\n",
              "      filter: drop-shadow(0px 1px 2px rgba(0, 0, 0, 0.3));\n",
              "      fill: #FFFFFF;\n",
              "    }\n",
              "  </style>\n",
              "\n",
              "      <script>\n",
              "        const buttonEl =\n",
              "          document.querySelector('#df-7f782aac-e91f-41ea-aa53-e846abff8bd9 button.colab-df-convert');\n",
              "        buttonEl.style.display =\n",
              "          google.colab.kernel.accessAllowed ? 'block' : 'none';\n",
              "\n",
              "        async function convertToInteractive(key) {\n",
              "          const element = document.querySelector('#df-7f782aac-e91f-41ea-aa53-e846abff8bd9');\n",
              "          const dataTable =\n",
              "            await google.colab.kernel.invokeFunction('convertToInteractive',\n",
              "                                                     [key], {});\n",
              "          if (!dataTable) return;\n",
              "\n",
              "          const docLinkHtml = 'Like what you see? Visit the ' +\n",
              "            '<a target=\"_blank\" href=https://colab.research.google.com/notebooks/data_table.ipynb>data table notebook</a>'\n",
              "            + ' to learn more about interactive tables.';\n",
              "          element.innerHTML = '';\n",
              "          dataTable['output_type'] = 'display_data';\n",
              "          await google.colab.output.renderOutput(dataTable, element);\n",
              "          const docLink = document.createElement('div');\n",
              "          docLink.innerHTML = docLinkHtml;\n",
              "          element.appendChild(docLink);\n",
              "        }\n",
              "      </script>\n",
              "    </div>\n",
              "  </div>\n",
              "  "
            ]
          },
          "metadata": {},
          "execution_count": 17
        }
      ]
    },
    {
      "cell_type": "code",
      "source": [
        "import pandas as pd\n",
        "df_train = pd.read_csv('/content/sample_data/california_housing_train.csv')\n",
        "df_train"
      ],
      "metadata": {
        "colab": {
          "base_uri": "https://localhost:8080/",
          "height": 488
        },
        "id": "7XYRuH5l16wM",
        "outputId": "82cbccc1-e8bd-4aa5-a31b-bb42adc84b2b"
      },
      "execution_count": null,
      "outputs": [
        {
          "output_type": "execute_result",
          "data": {
            "text/plain": [
              "       longitude  latitude  housing_median_age  total_rooms  total_bedrooms  \\\n",
              "0        -114.31     34.19                15.0       5612.0          1283.0   \n",
              "1        -114.47     34.40                19.0       7650.0          1901.0   \n",
              "2        -114.56     33.69                17.0        720.0           174.0   \n",
              "3        -114.57     33.64                14.0       1501.0           337.0   \n",
              "4        -114.57     33.57                20.0       1454.0           326.0   \n",
              "...          ...       ...                 ...          ...             ...   \n",
              "16995    -124.26     40.58                52.0       2217.0           394.0   \n",
              "16996    -124.27     40.69                36.0       2349.0           528.0   \n",
              "16997    -124.30     41.84                17.0       2677.0           531.0   \n",
              "16998    -124.30     41.80                19.0       2672.0           552.0   \n",
              "16999    -124.35     40.54                52.0       1820.0           300.0   \n",
              "\n",
              "       population  households  median_income  median_house_value  \n",
              "0          1015.0       472.0         1.4936             66900.0  \n",
              "1          1129.0       463.0         1.8200             80100.0  \n",
              "2           333.0       117.0         1.6509             85700.0  \n",
              "3           515.0       226.0         3.1917             73400.0  \n",
              "4           624.0       262.0         1.9250             65500.0  \n",
              "...           ...         ...            ...                 ...  \n",
              "16995       907.0       369.0         2.3571            111400.0  \n",
              "16996      1194.0       465.0         2.5179             79000.0  \n",
              "16997      1244.0       456.0         3.0313            103600.0  \n",
              "16998      1298.0       478.0         1.9797             85800.0  \n",
              "16999       806.0       270.0         3.0147             94600.0  \n",
              "\n",
              "[17000 rows x 9 columns]"
            ],
            "text/html": [
              "\n",
              "  <div id=\"df-be5ed9e5-72d3-41f9-96cc-16cc6e84289b\">\n",
              "    <div class=\"colab-df-container\">\n",
              "      <div>\n",
              "<style scoped>\n",
              "    .dataframe tbody tr th:only-of-type {\n",
              "        vertical-align: middle;\n",
              "    }\n",
              "\n",
              "    .dataframe tbody tr th {\n",
              "        vertical-align: top;\n",
              "    }\n",
              "\n",
              "    .dataframe thead th {\n",
              "        text-align: right;\n",
              "    }\n",
              "</style>\n",
              "<table border=\"1\" class=\"dataframe\">\n",
              "  <thead>\n",
              "    <tr style=\"text-align: right;\">\n",
              "      <th></th>\n",
              "      <th>longitude</th>\n",
              "      <th>latitude</th>\n",
              "      <th>housing_median_age</th>\n",
              "      <th>total_rooms</th>\n",
              "      <th>total_bedrooms</th>\n",
              "      <th>population</th>\n",
              "      <th>households</th>\n",
              "      <th>median_income</th>\n",
              "      <th>median_house_value</th>\n",
              "    </tr>\n",
              "  </thead>\n",
              "  <tbody>\n",
              "    <tr>\n",
              "      <th>0</th>\n",
              "      <td>-114.31</td>\n",
              "      <td>34.19</td>\n",
              "      <td>15.0</td>\n",
              "      <td>5612.0</td>\n",
              "      <td>1283.0</td>\n",
              "      <td>1015.0</td>\n",
              "      <td>472.0</td>\n",
              "      <td>1.4936</td>\n",
              "      <td>66900.0</td>\n",
              "    </tr>\n",
              "    <tr>\n",
              "      <th>1</th>\n",
              "      <td>-114.47</td>\n",
              "      <td>34.40</td>\n",
              "      <td>19.0</td>\n",
              "      <td>7650.0</td>\n",
              "      <td>1901.0</td>\n",
              "      <td>1129.0</td>\n",
              "      <td>463.0</td>\n",
              "      <td>1.8200</td>\n",
              "      <td>80100.0</td>\n",
              "    </tr>\n",
              "    <tr>\n",
              "      <th>2</th>\n",
              "      <td>-114.56</td>\n",
              "      <td>33.69</td>\n",
              "      <td>17.0</td>\n",
              "      <td>720.0</td>\n",
              "      <td>174.0</td>\n",
              "      <td>333.0</td>\n",
              "      <td>117.0</td>\n",
              "      <td>1.6509</td>\n",
              "      <td>85700.0</td>\n",
              "    </tr>\n",
              "    <tr>\n",
              "      <th>3</th>\n",
              "      <td>-114.57</td>\n",
              "      <td>33.64</td>\n",
              "      <td>14.0</td>\n",
              "      <td>1501.0</td>\n",
              "      <td>337.0</td>\n",
              "      <td>515.0</td>\n",
              "      <td>226.0</td>\n",
              "      <td>3.1917</td>\n",
              "      <td>73400.0</td>\n",
              "    </tr>\n",
              "    <tr>\n",
              "      <th>4</th>\n",
              "      <td>-114.57</td>\n",
              "      <td>33.57</td>\n",
              "      <td>20.0</td>\n",
              "      <td>1454.0</td>\n",
              "      <td>326.0</td>\n",
              "      <td>624.0</td>\n",
              "      <td>262.0</td>\n",
              "      <td>1.9250</td>\n",
              "      <td>65500.0</td>\n",
              "    </tr>\n",
              "    <tr>\n",
              "      <th>...</th>\n",
              "      <td>...</td>\n",
              "      <td>...</td>\n",
              "      <td>...</td>\n",
              "      <td>...</td>\n",
              "      <td>...</td>\n",
              "      <td>...</td>\n",
              "      <td>...</td>\n",
              "      <td>...</td>\n",
              "      <td>...</td>\n",
              "    </tr>\n",
              "    <tr>\n",
              "      <th>16995</th>\n",
              "      <td>-124.26</td>\n",
              "      <td>40.58</td>\n",
              "      <td>52.0</td>\n",
              "      <td>2217.0</td>\n",
              "      <td>394.0</td>\n",
              "      <td>907.0</td>\n",
              "      <td>369.0</td>\n",
              "      <td>2.3571</td>\n",
              "      <td>111400.0</td>\n",
              "    </tr>\n",
              "    <tr>\n",
              "      <th>16996</th>\n",
              "      <td>-124.27</td>\n",
              "      <td>40.69</td>\n",
              "      <td>36.0</td>\n",
              "      <td>2349.0</td>\n",
              "      <td>528.0</td>\n",
              "      <td>1194.0</td>\n",
              "      <td>465.0</td>\n",
              "      <td>2.5179</td>\n",
              "      <td>79000.0</td>\n",
              "    </tr>\n",
              "    <tr>\n",
              "      <th>16997</th>\n",
              "      <td>-124.30</td>\n",
              "      <td>41.84</td>\n",
              "      <td>17.0</td>\n",
              "      <td>2677.0</td>\n",
              "      <td>531.0</td>\n",
              "      <td>1244.0</td>\n",
              "      <td>456.0</td>\n",
              "      <td>3.0313</td>\n",
              "      <td>103600.0</td>\n",
              "    </tr>\n",
              "    <tr>\n",
              "      <th>16998</th>\n",
              "      <td>-124.30</td>\n",
              "      <td>41.80</td>\n",
              "      <td>19.0</td>\n",
              "      <td>2672.0</td>\n",
              "      <td>552.0</td>\n",
              "      <td>1298.0</td>\n",
              "      <td>478.0</td>\n",
              "      <td>1.9797</td>\n",
              "      <td>85800.0</td>\n",
              "    </tr>\n",
              "    <tr>\n",
              "      <th>16999</th>\n",
              "      <td>-124.35</td>\n",
              "      <td>40.54</td>\n",
              "      <td>52.0</td>\n",
              "      <td>1820.0</td>\n",
              "      <td>300.0</td>\n",
              "      <td>806.0</td>\n",
              "      <td>270.0</td>\n",
              "      <td>3.0147</td>\n",
              "      <td>94600.0</td>\n",
              "    </tr>\n",
              "  </tbody>\n",
              "</table>\n",
              "<p>17000 rows × 9 columns</p>\n",
              "</div>\n",
              "      <button class=\"colab-df-convert\" onclick=\"convertToInteractive('df-be5ed9e5-72d3-41f9-96cc-16cc6e84289b')\"\n",
              "              title=\"Convert this dataframe to an interactive table.\"\n",
              "              style=\"display:none;\">\n",
              "        \n",
              "  <svg xmlns=\"http://www.w3.org/2000/svg\" height=\"24px\"viewBox=\"0 0 24 24\"\n",
              "       width=\"24px\">\n",
              "    <path d=\"M0 0h24v24H0V0z\" fill=\"none\"/>\n",
              "    <path d=\"M18.56 5.44l.94 2.06.94-2.06 2.06-.94-2.06-.94-.94-2.06-.94 2.06-2.06.94zm-11 1L8.5 8.5l.94-2.06 2.06-.94-2.06-.94L8.5 2.5l-.94 2.06-2.06.94zm10 10l.94 2.06.94-2.06 2.06-.94-2.06-.94-.94-2.06-.94 2.06-2.06.94z\"/><path d=\"M17.41 7.96l-1.37-1.37c-.4-.4-.92-.59-1.43-.59-.52 0-1.04.2-1.43.59L10.3 9.45l-7.72 7.72c-.78.78-.78 2.05 0 2.83L4 21.41c.39.39.9.59 1.41.59.51 0 1.02-.2 1.41-.59l7.78-7.78 2.81-2.81c.8-.78.8-2.07 0-2.86zM5.41 20L4 18.59l7.72-7.72 1.47 1.35L5.41 20z\"/>\n",
              "  </svg>\n",
              "      </button>\n",
              "      \n",
              "  <style>\n",
              "    .colab-df-container {\n",
              "      display:flex;\n",
              "      flex-wrap:wrap;\n",
              "      gap: 12px;\n",
              "    }\n",
              "\n",
              "    .colab-df-convert {\n",
              "      background-color: #E8F0FE;\n",
              "      border: none;\n",
              "      border-radius: 50%;\n",
              "      cursor: pointer;\n",
              "      display: none;\n",
              "      fill: #1967D2;\n",
              "      height: 32px;\n",
              "      padding: 0 0 0 0;\n",
              "      width: 32px;\n",
              "    }\n",
              "\n",
              "    .colab-df-convert:hover {\n",
              "      background-color: #E2EBFA;\n",
              "      box-shadow: 0px 1px 2px rgba(60, 64, 67, 0.3), 0px 1px 3px 1px rgba(60, 64, 67, 0.15);\n",
              "      fill: #174EA6;\n",
              "    }\n",
              "\n",
              "    [theme=dark] .colab-df-convert {\n",
              "      background-color: #3B4455;\n",
              "      fill: #D2E3FC;\n",
              "    }\n",
              "\n",
              "    [theme=dark] .colab-df-convert:hover {\n",
              "      background-color: #434B5C;\n",
              "      box-shadow: 0px 1px 3px 1px rgba(0, 0, 0, 0.15);\n",
              "      filter: drop-shadow(0px 1px 2px rgba(0, 0, 0, 0.3));\n",
              "      fill: #FFFFFF;\n",
              "    }\n",
              "  </style>\n",
              "\n",
              "      <script>\n",
              "        const buttonEl =\n",
              "          document.querySelector('#df-be5ed9e5-72d3-41f9-96cc-16cc6e84289b button.colab-df-convert');\n",
              "        buttonEl.style.display =\n",
              "          google.colab.kernel.accessAllowed ? 'block' : 'none';\n",
              "\n",
              "        async function convertToInteractive(key) {\n",
              "          const element = document.querySelector('#df-be5ed9e5-72d3-41f9-96cc-16cc6e84289b');\n",
              "          const dataTable =\n",
              "            await google.colab.kernel.invokeFunction('convertToInteractive',\n",
              "                                                     [key], {});\n",
              "          if (!dataTable) return;\n",
              "\n",
              "          const docLinkHtml = 'Like what you see? Visit the ' +\n",
              "            '<a target=\"_blank\" href=https://colab.research.google.com/notebooks/data_table.ipynb>data table notebook</a>'\n",
              "            + ' to learn more about interactive tables.';\n",
              "          element.innerHTML = '';\n",
              "          dataTable['output_type'] = 'display_data';\n",
              "          await google.colab.output.renderOutput(dataTable, element);\n",
              "          const docLink = document.createElement('div');\n",
              "          docLink.innerHTML = docLinkHtml;\n",
              "          element.appendChild(docLink);\n",
              "        }\n",
              "      </script>\n",
              "    </div>\n",
              "  </div>\n",
              "  "
            ]
          },
          "metadata": {},
          "execution_count": 18
        }
      ]
    },
    {
      "cell_type": "code",
      "source": [
        "import pandas as pd\n",
        "df_mnist_teste = pd.read_csv('/content/sample_data/mnist_test.csv')\n",
        "df_mnist_teste"
      ],
      "metadata": {
        "colab": {
          "base_uri": "https://localhost:8080/",
          "height": 488
        },
        "id": "boXTCKyl1-j6",
        "outputId": "6e97ec3c-d4c5-4825-ae0a-8ba392592855"
      },
      "execution_count": null,
      "outputs": [
        {
          "output_type": "execute_result",
          "data": {
            "text/plain": [
              "      7  0  0.1  0.2  0.3  0.4  0.5  0.6  0.7  0.8  ...  0.658  0.659  0.660  \\\n",
              "0     2  0    0    0    0    0    0    0    0    0  ...      0      0      0   \n",
              "1     1  0    0    0    0    0    0    0    0    0  ...      0      0      0   \n",
              "2     0  0    0    0    0    0    0    0    0    0  ...      0      0      0   \n",
              "3     4  0    0    0    0    0    0    0    0    0  ...      0      0      0   \n",
              "4     1  0    0    0    0    0    0    0    0    0  ...      0      0      0   \n",
              "...  .. ..  ...  ...  ...  ...  ...  ...  ...  ...  ...    ...    ...    ...   \n",
              "9994  2  0    0    0    0    0    0    0    0    0  ...      0      0      0   \n",
              "9995  3  0    0    0    0    0    0    0    0    0  ...      0      0      0   \n",
              "9996  4  0    0    0    0    0    0    0    0    0  ...      0      0      0   \n",
              "9997  5  0    0    0    0    0    0    0    0    0  ...      0      0      0   \n",
              "9998  6  0    0    0    0    0    0    0    0    0  ...      0      0      0   \n",
              "\n",
              "      0.661  0.662  0.663  0.664  0.665  0.666  0.667  \n",
              "0         0      0      0      0      0      0      0  \n",
              "1         0      0      0      0      0      0      0  \n",
              "2         0      0      0      0      0      0      0  \n",
              "3         0      0      0      0      0      0      0  \n",
              "4         0      0      0      0      0      0      0  \n",
              "...     ...    ...    ...    ...    ...    ...    ...  \n",
              "9994      0      0      0      0      0      0      0  \n",
              "9995      0      0      0      0      0      0      0  \n",
              "9996      0      0      0      0      0      0      0  \n",
              "9997      0      0      0      0      0      0      0  \n",
              "9998      0      0      0      0      0      0      0  \n",
              "\n",
              "[9999 rows x 785 columns]"
            ],
            "text/html": [
              "\n",
              "  <div id=\"df-81649d98-f6ac-499a-92ff-587c194e6af5\">\n",
              "    <div class=\"colab-df-container\">\n",
              "      <div>\n",
              "<style scoped>\n",
              "    .dataframe tbody tr th:only-of-type {\n",
              "        vertical-align: middle;\n",
              "    }\n",
              "\n",
              "    .dataframe tbody tr th {\n",
              "        vertical-align: top;\n",
              "    }\n",
              "\n",
              "    .dataframe thead th {\n",
              "        text-align: right;\n",
              "    }\n",
              "</style>\n",
              "<table border=\"1\" class=\"dataframe\">\n",
              "  <thead>\n",
              "    <tr style=\"text-align: right;\">\n",
              "      <th></th>\n",
              "      <th>7</th>\n",
              "      <th>0</th>\n",
              "      <th>0.1</th>\n",
              "      <th>0.2</th>\n",
              "      <th>0.3</th>\n",
              "      <th>0.4</th>\n",
              "      <th>0.5</th>\n",
              "      <th>0.6</th>\n",
              "      <th>0.7</th>\n",
              "      <th>0.8</th>\n",
              "      <th>...</th>\n",
              "      <th>0.658</th>\n",
              "      <th>0.659</th>\n",
              "      <th>0.660</th>\n",
              "      <th>0.661</th>\n",
              "      <th>0.662</th>\n",
              "      <th>0.663</th>\n",
              "      <th>0.664</th>\n",
              "      <th>0.665</th>\n",
              "      <th>0.666</th>\n",
              "      <th>0.667</th>\n",
              "    </tr>\n",
              "  </thead>\n",
              "  <tbody>\n",
              "    <tr>\n",
              "      <th>0</th>\n",
              "      <td>2</td>\n",
              "      <td>0</td>\n",
              "      <td>0</td>\n",
              "      <td>0</td>\n",
              "      <td>0</td>\n",
              "      <td>0</td>\n",
              "      <td>0</td>\n",
              "      <td>0</td>\n",
              "      <td>0</td>\n",
              "      <td>0</td>\n",
              "      <td>...</td>\n",
              "      <td>0</td>\n",
              "      <td>0</td>\n",
              "      <td>0</td>\n",
              "      <td>0</td>\n",
              "      <td>0</td>\n",
              "      <td>0</td>\n",
              "      <td>0</td>\n",
              "      <td>0</td>\n",
              "      <td>0</td>\n",
              "      <td>0</td>\n",
              "    </tr>\n",
              "    <tr>\n",
              "      <th>1</th>\n",
              "      <td>1</td>\n",
              "      <td>0</td>\n",
              "      <td>0</td>\n",
              "      <td>0</td>\n",
              "      <td>0</td>\n",
              "      <td>0</td>\n",
              "      <td>0</td>\n",
              "      <td>0</td>\n",
              "      <td>0</td>\n",
              "      <td>0</td>\n",
              "      <td>...</td>\n",
              "      <td>0</td>\n",
              "      <td>0</td>\n",
              "      <td>0</td>\n",
              "      <td>0</td>\n",
              "      <td>0</td>\n",
              "      <td>0</td>\n",
              "      <td>0</td>\n",
              "      <td>0</td>\n",
              "      <td>0</td>\n",
              "      <td>0</td>\n",
              "    </tr>\n",
              "    <tr>\n",
              "      <th>2</th>\n",
              "      <td>0</td>\n",
              "      <td>0</td>\n",
              "      <td>0</td>\n",
              "      <td>0</td>\n",
              "      <td>0</td>\n",
              "      <td>0</td>\n",
              "      <td>0</td>\n",
              "      <td>0</td>\n",
              "      <td>0</td>\n",
              "      <td>0</td>\n",
              "      <td>...</td>\n",
              "      <td>0</td>\n",
              "      <td>0</td>\n",
              "      <td>0</td>\n",
              "      <td>0</td>\n",
              "      <td>0</td>\n",
              "      <td>0</td>\n",
              "      <td>0</td>\n",
              "      <td>0</td>\n",
              "      <td>0</td>\n",
              "      <td>0</td>\n",
              "    </tr>\n",
              "    <tr>\n",
              "      <th>3</th>\n",
              "      <td>4</td>\n",
              "      <td>0</td>\n",
              "      <td>0</td>\n",
              "      <td>0</td>\n",
              "      <td>0</td>\n",
              "      <td>0</td>\n",
              "      <td>0</td>\n",
              "      <td>0</td>\n",
              "      <td>0</td>\n",
              "      <td>0</td>\n",
              "      <td>...</td>\n",
              "      <td>0</td>\n",
              "      <td>0</td>\n",
              "      <td>0</td>\n",
              "      <td>0</td>\n",
              "      <td>0</td>\n",
              "      <td>0</td>\n",
              "      <td>0</td>\n",
              "      <td>0</td>\n",
              "      <td>0</td>\n",
              "      <td>0</td>\n",
              "    </tr>\n",
              "    <tr>\n",
              "      <th>4</th>\n",
              "      <td>1</td>\n",
              "      <td>0</td>\n",
              "      <td>0</td>\n",
              "      <td>0</td>\n",
              "      <td>0</td>\n",
              "      <td>0</td>\n",
              "      <td>0</td>\n",
              "      <td>0</td>\n",
              "      <td>0</td>\n",
              "      <td>0</td>\n",
              "      <td>...</td>\n",
              "      <td>0</td>\n",
              "      <td>0</td>\n",
              "      <td>0</td>\n",
              "      <td>0</td>\n",
              "      <td>0</td>\n",
              "      <td>0</td>\n",
              "      <td>0</td>\n",
              "      <td>0</td>\n",
              "      <td>0</td>\n",
              "      <td>0</td>\n",
              "    </tr>\n",
              "    <tr>\n",
              "      <th>...</th>\n",
              "      <td>...</td>\n",
              "      <td>...</td>\n",
              "      <td>...</td>\n",
              "      <td>...</td>\n",
              "      <td>...</td>\n",
              "      <td>...</td>\n",
              "      <td>...</td>\n",
              "      <td>...</td>\n",
              "      <td>...</td>\n",
              "      <td>...</td>\n",
              "      <td>...</td>\n",
              "      <td>...</td>\n",
              "      <td>...</td>\n",
              "      <td>...</td>\n",
              "      <td>...</td>\n",
              "      <td>...</td>\n",
              "      <td>...</td>\n",
              "      <td>...</td>\n",
              "      <td>...</td>\n",
              "      <td>...</td>\n",
              "      <td>...</td>\n",
              "    </tr>\n",
              "    <tr>\n",
              "      <th>9994</th>\n",
              "      <td>2</td>\n",
              "      <td>0</td>\n",
              "      <td>0</td>\n",
              "      <td>0</td>\n",
              "      <td>0</td>\n",
              "      <td>0</td>\n",
              "      <td>0</td>\n",
              "      <td>0</td>\n",
              "      <td>0</td>\n",
              "      <td>0</td>\n",
              "      <td>...</td>\n",
              "      <td>0</td>\n",
              "      <td>0</td>\n",
              "      <td>0</td>\n",
              "      <td>0</td>\n",
              "      <td>0</td>\n",
              "      <td>0</td>\n",
              "      <td>0</td>\n",
              "      <td>0</td>\n",
              "      <td>0</td>\n",
              "      <td>0</td>\n",
              "    </tr>\n",
              "    <tr>\n",
              "      <th>9995</th>\n",
              "      <td>3</td>\n",
              "      <td>0</td>\n",
              "      <td>0</td>\n",
              "      <td>0</td>\n",
              "      <td>0</td>\n",
              "      <td>0</td>\n",
              "      <td>0</td>\n",
              "      <td>0</td>\n",
              "      <td>0</td>\n",
              "      <td>0</td>\n",
              "      <td>...</td>\n",
              "      <td>0</td>\n",
              "      <td>0</td>\n",
              "      <td>0</td>\n",
              "      <td>0</td>\n",
              "      <td>0</td>\n",
              "      <td>0</td>\n",
              "      <td>0</td>\n",
              "      <td>0</td>\n",
              "      <td>0</td>\n",
              "      <td>0</td>\n",
              "    </tr>\n",
              "    <tr>\n",
              "      <th>9996</th>\n",
              "      <td>4</td>\n",
              "      <td>0</td>\n",
              "      <td>0</td>\n",
              "      <td>0</td>\n",
              "      <td>0</td>\n",
              "      <td>0</td>\n",
              "      <td>0</td>\n",
              "      <td>0</td>\n",
              "      <td>0</td>\n",
              "      <td>0</td>\n",
              "      <td>...</td>\n",
              "      <td>0</td>\n",
              "      <td>0</td>\n",
              "      <td>0</td>\n",
              "      <td>0</td>\n",
              "      <td>0</td>\n",
              "      <td>0</td>\n",
              "      <td>0</td>\n",
              "      <td>0</td>\n",
              "      <td>0</td>\n",
              "      <td>0</td>\n",
              "    </tr>\n",
              "    <tr>\n",
              "      <th>9997</th>\n",
              "      <td>5</td>\n",
              "      <td>0</td>\n",
              "      <td>0</td>\n",
              "      <td>0</td>\n",
              "      <td>0</td>\n",
              "      <td>0</td>\n",
              "      <td>0</td>\n",
              "      <td>0</td>\n",
              "      <td>0</td>\n",
              "      <td>0</td>\n",
              "      <td>...</td>\n",
              "      <td>0</td>\n",
              "      <td>0</td>\n",
              "      <td>0</td>\n",
              "      <td>0</td>\n",
              "      <td>0</td>\n",
              "      <td>0</td>\n",
              "      <td>0</td>\n",
              "      <td>0</td>\n",
              "      <td>0</td>\n",
              "      <td>0</td>\n",
              "    </tr>\n",
              "    <tr>\n",
              "      <th>9998</th>\n",
              "      <td>6</td>\n",
              "      <td>0</td>\n",
              "      <td>0</td>\n",
              "      <td>0</td>\n",
              "      <td>0</td>\n",
              "      <td>0</td>\n",
              "      <td>0</td>\n",
              "      <td>0</td>\n",
              "      <td>0</td>\n",
              "      <td>0</td>\n",
              "      <td>...</td>\n",
              "      <td>0</td>\n",
              "      <td>0</td>\n",
              "      <td>0</td>\n",
              "      <td>0</td>\n",
              "      <td>0</td>\n",
              "      <td>0</td>\n",
              "      <td>0</td>\n",
              "      <td>0</td>\n",
              "      <td>0</td>\n",
              "      <td>0</td>\n",
              "    </tr>\n",
              "  </tbody>\n",
              "</table>\n",
              "<p>9999 rows × 785 columns</p>\n",
              "</div>\n",
              "      <button class=\"colab-df-convert\" onclick=\"convertToInteractive('df-81649d98-f6ac-499a-92ff-587c194e6af5')\"\n",
              "              title=\"Convert this dataframe to an interactive table.\"\n",
              "              style=\"display:none;\">\n",
              "        \n",
              "  <svg xmlns=\"http://www.w3.org/2000/svg\" height=\"24px\"viewBox=\"0 0 24 24\"\n",
              "       width=\"24px\">\n",
              "    <path d=\"M0 0h24v24H0V0z\" fill=\"none\"/>\n",
              "    <path d=\"M18.56 5.44l.94 2.06.94-2.06 2.06-.94-2.06-.94-.94-2.06-.94 2.06-2.06.94zm-11 1L8.5 8.5l.94-2.06 2.06-.94-2.06-.94L8.5 2.5l-.94 2.06-2.06.94zm10 10l.94 2.06.94-2.06 2.06-.94-2.06-.94-.94-2.06-.94 2.06-2.06.94z\"/><path d=\"M17.41 7.96l-1.37-1.37c-.4-.4-.92-.59-1.43-.59-.52 0-1.04.2-1.43.59L10.3 9.45l-7.72 7.72c-.78.78-.78 2.05 0 2.83L4 21.41c.39.39.9.59 1.41.59.51 0 1.02-.2 1.41-.59l7.78-7.78 2.81-2.81c.8-.78.8-2.07 0-2.86zM5.41 20L4 18.59l7.72-7.72 1.47 1.35L5.41 20z\"/>\n",
              "  </svg>\n",
              "      </button>\n",
              "      \n",
              "  <style>\n",
              "    .colab-df-container {\n",
              "      display:flex;\n",
              "      flex-wrap:wrap;\n",
              "      gap: 12px;\n",
              "    }\n",
              "\n",
              "    .colab-df-convert {\n",
              "      background-color: #E8F0FE;\n",
              "      border: none;\n",
              "      border-radius: 50%;\n",
              "      cursor: pointer;\n",
              "      display: none;\n",
              "      fill: #1967D2;\n",
              "      height: 32px;\n",
              "      padding: 0 0 0 0;\n",
              "      width: 32px;\n",
              "    }\n",
              "\n",
              "    .colab-df-convert:hover {\n",
              "      background-color: #E2EBFA;\n",
              "      box-shadow: 0px 1px 2px rgba(60, 64, 67, 0.3), 0px 1px 3px 1px rgba(60, 64, 67, 0.15);\n",
              "      fill: #174EA6;\n",
              "    }\n",
              "\n",
              "    [theme=dark] .colab-df-convert {\n",
              "      background-color: #3B4455;\n",
              "      fill: #D2E3FC;\n",
              "    }\n",
              "\n",
              "    [theme=dark] .colab-df-convert:hover {\n",
              "      background-color: #434B5C;\n",
              "      box-shadow: 0px 1px 3px 1px rgba(0, 0, 0, 0.15);\n",
              "      filter: drop-shadow(0px 1px 2px rgba(0, 0, 0, 0.3));\n",
              "      fill: #FFFFFF;\n",
              "    }\n",
              "  </style>\n",
              "\n",
              "      <script>\n",
              "        const buttonEl =\n",
              "          document.querySelector('#df-81649d98-f6ac-499a-92ff-587c194e6af5 button.colab-df-convert');\n",
              "        buttonEl.style.display =\n",
              "          google.colab.kernel.accessAllowed ? 'block' : 'none';\n",
              "\n",
              "        async function convertToInteractive(key) {\n",
              "          const element = document.querySelector('#df-81649d98-f6ac-499a-92ff-587c194e6af5');\n",
              "          const dataTable =\n",
              "            await google.colab.kernel.invokeFunction('convertToInteractive',\n",
              "                                                     [key], {});\n",
              "          if (!dataTable) return;\n",
              "\n",
              "          const docLinkHtml = 'Like what you see? Visit the ' +\n",
              "            '<a target=\"_blank\" href=https://colab.research.google.com/notebooks/data_table.ipynb>data table notebook</a>'\n",
              "            + ' to learn more about interactive tables.';\n",
              "          element.innerHTML = '';\n",
              "          dataTable['output_type'] = 'display_data';\n",
              "          await google.colab.output.renderOutput(dataTable, element);\n",
              "          const docLink = document.createElement('div');\n",
              "          docLink.innerHTML = docLinkHtml;\n",
              "          element.appendChild(docLink);\n",
              "        }\n",
              "      </script>\n",
              "    </div>\n",
              "  </div>\n",
              "  "
            ]
          },
          "metadata": {},
          "execution_count": 19
        }
      ]
    },
    {
      "cell_type": "code",
      "source": [
        "import pandas as pd\n",
        "df_mnist_train_small = pd.read_csv('/content/sample_data/mnist_train_small.csv')\n",
        "df_mnist_train_small"
      ],
      "metadata": {
        "colab": {
          "base_uri": "https://localhost:8080/",
          "height": 488
        },
        "id": "43OpUH1E2PBn",
        "outputId": "d05dd1a4-d690-4c8e-ac86-d976a9ef4301"
      },
      "execution_count": null,
      "outputs": [
        {
          "output_type": "execute_result",
          "data": {
            "text/plain": [
              "       6  0  0.1  0.2  0.3  0.4  0.5  0.6  0.7  0.8  ...  0.581  0.582  0.583  \\\n",
              "0      5  0    0    0    0    0    0    0    0    0  ...      0      0      0   \n",
              "1      7  0    0    0    0    0    0    0    0    0  ...      0      0      0   \n",
              "2      9  0    0    0    0    0    0    0    0    0  ...      0      0      0   \n",
              "3      5  0    0    0    0    0    0    0    0    0  ...      0      0      0   \n",
              "4      2  0    0    0    0    0    0    0    0    0  ...      0      0      0   \n",
              "...   .. ..  ...  ...  ...  ...  ...  ...  ...  ...  ...    ...    ...    ...   \n",
              "19994  0  0    0    0    0    0    0    0    0    0  ...      0      0      0   \n",
              "19995  1  0    0    0    0    0    0    0    0    0  ...      0      0      0   \n",
              "19996  2  0    0    0    0    0    0    0    0    0  ...      0      0      0   \n",
              "19997  9  0    0    0    0    0    0    0    0    0  ...      0      0      0   \n",
              "19998  5  0    0    0    0    0    0    0    0    0  ...      0      0      0   \n",
              "\n",
              "       0.584  0.585  0.586  0.587  0.588  0.589  0.590  \n",
              "0          0      0      0      0      0      0      0  \n",
              "1          0      0      0      0      0      0      0  \n",
              "2          0      0      0      0      0      0      0  \n",
              "3          0      0      0      0      0      0      0  \n",
              "4          0      0      0      0      0      0      0  \n",
              "...      ...    ...    ...    ...    ...    ...    ...  \n",
              "19994      0      0      0      0      0      0      0  \n",
              "19995      0      0      0      0      0      0      0  \n",
              "19996      0      0      0      0      0      0      0  \n",
              "19997      0      0      0      0      0      0      0  \n",
              "19998      0      0      0      0      0      0      0  \n",
              "\n",
              "[19999 rows x 785 columns]"
            ],
            "text/html": [
              "\n",
              "  <div id=\"df-5551fbe6-dce1-403b-8304-13153e7eff44\">\n",
              "    <div class=\"colab-df-container\">\n",
              "      <div>\n",
              "<style scoped>\n",
              "    .dataframe tbody tr th:only-of-type {\n",
              "        vertical-align: middle;\n",
              "    }\n",
              "\n",
              "    .dataframe tbody tr th {\n",
              "        vertical-align: top;\n",
              "    }\n",
              "\n",
              "    .dataframe thead th {\n",
              "        text-align: right;\n",
              "    }\n",
              "</style>\n",
              "<table border=\"1\" class=\"dataframe\">\n",
              "  <thead>\n",
              "    <tr style=\"text-align: right;\">\n",
              "      <th></th>\n",
              "      <th>6</th>\n",
              "      <th>0</th>\n",
              "      <th>0.1</th>\n",
              "      <th>0.2</th>\n",
              "      <th>0.3</th>\n",
              "      <th>0.4</th>\n",
              "      <th>0.5</th>\n",
              "      <th>0.6</th>\n",
              "      <th>0.7</th>\n",
              "      <th>0.8</th>\n",
              "      <th>...</th>\n",
              "      <th>0.581</th>\n",
              "      <th>0.582</th>\n",
              "      <th>0.583</th>\n",
              "      <th>0.584</th>\n",
              "      <th>0.585</th>\n",
              "      <th>0.586</th>\n",
              "      <th>0.587</th>\n",
              "      <th>0.588</th>\n",
              "      <th>0.589</th>\n",
              "      <th>0.590</th>\n",
              "    </tr>\n",
              "  </thead>\n",
              "  <tbody>\n",
              "    <tr>\n",
              "      <th>0</th>\n",
              "      <td>5</td>\n",
              "      <td>0</td>\n",
              "      <td>0</td>\n",
              "      <td>0</td>\n",
              "      <td>0</td>\n",
              "      <td>0</td>\n",
              "      <td>0</td>\n",
              "      <td>0</td>\n",
              "      <td>0</td>\n",
              "      <td>0</td>\n",
              "      <td>...</td>\n",
              "      <td>0</td>\n",
              "      <td>0</td>\n",
              "      <td>0</td>\n",
              "      <td>0</td>\n",
              "      <td>0</td>\n",
              "      <td>0</td>\n",
              "      <td>0</td>\n",
              "      <td>0</td>\n",
              "      <td>0</td>\n",
              "      <td>0</td>\n",
              "    </tr>\n",
              "    <tr>\n",
              "      <th>1</th>\n",
              "      <td>7</td>\n",
              "      <td>0</td>\n",
              "      <td>0</td>\n",
              "      <td>0</td>\n",
              "      <td>0</td>\n",
              "      <td>0</td>\n",
              "      <td>0</td>\n",
              "      <td>0</td>\n",
              "      <td>0</td>\n",
              "      <td>0</td>\n",
              "      <td>...</td>\n",
              "      <td>0</td>\n",
              "      <td>0</td>\n",
              "      <td>0</td>\n",
              "      <td>0</td>\n",
              "      <td>0</td>\n",
              "      <td>0</td>\n",
              "      <td>0</td>\n",
              "      <td>0</td>\n",
              "      <td>0</td>\n",
              "      <td>0</td>\n",
              "    </tr>\n",
              "    <tr>\n",
              "      <th>2</th>\n",
              "      <td>9</td>\n",
              "      <td>0</td>\n",
              "      <td>0</td>\n",
              "      <td>0</td>\n",
              "      <td>0</td>\n",
              "      <td>0</td>\n",
              "      <td>0</td>\n",
              "      <td>0</td>\n",
              "      <td>0</td>\n",
              "      <td>0</td>\n",
              "      <td>...</td>\n",
              "      <td>0</td>\n",
              "      <td>0</td>\n",
              "      <td>0</td>\n",
              "      <td>0</td>\n",
              "      <td>0</td>\n",
              "      <td>0</td>\n",
              "      <td>0</td>\n",
              "      <td>0</td>\n",
              "      <td>0</td>\n",
              "      <td>0</td>\n",
              "    </tr>\n",
              "    <tr>\n",
              "      <th>3</th>\n",
              "      <td>5</td>\n",
              "      <td>0</td>\n",
              "      <td>0</td>\n",
              "      <td>0</td>\n",
              "      <td>0</td>\n",
              "      <td>0</td>\n",
              "      <td>0</td>\n",
              "      <td>0</td>\n",
              "      <td>0</td>\n",
              "      <td>0</td>\n",
              "      <td>...</td>\n",
              "      <td>0</td>\n",
              "      <td>0</td>\n",
              "      <td>0</td>\n",
              "      <td>0</td>\n",
              "      <td>0</td>\n",
              "      <td>0</td>\n",
              "      <td>0</td>\n",
              "      <td>0</td>\n",
              "      <td>0</td>\n",
              "      <td>0</td>\n",
              "    </tr>\n",
              "    <tr>\n",
              "      <th>4</th>\n",
              "      <td>2</td>\n",
              "      <td>0</td>\n",
              "      <td>0</td>\n",
              "      <td>0</td>\n",
              "      <td>0</td>\n",
              "      <td>0</td>\n",
              "      <td>0</td>\n",
              "      <td>0</td>\n",
              "      <td>0</td>\n",
              "      <td>0</td>\n",
              "      <td>...</td>\n",
              "      <td>0</td>\n",
              "      <td>0</td>\n",
              "      <td>0</td>\n",
              "      <td>0</td>\n",
              "      <td>0</td>\n",
              "      <td>0</td>\n",
              "      <td>0</td>\n",
              "      <td>0</td>\n",
              "      <td>0</td>\n",
              "      <td>0</td>\n",
              "    </tr>\n",
              "    <tr>\n",
              "      <th>...</th>\n",
              "      <td>...</td>\n",
              "      <td>...</td>\n",
              "      <td>...</td>\n",
              "      <td>...</td>\n",
              "      <td>...</td>\n",
              "      <td>...</td>\n",
              "      <td>...</td>\n",
              "      <td>...</td>\n",
              "      <td>...</td>\n",
              "      <td>...</td>\n",
              "      <td>...</td>\n",
              "      <td>...</td>\n",
              "      <td>...</td>\n",
              "      <td>...</td>\n",
              "      <td>...</td>\n",
              "      <td>...</td>\n",
              "      <td>...</td>\n",
              "      <td>...</td>\n",
              "      <td>...</td>\n",
              "      <td>...</td>\n",
              "      <td>...</td>\n",
              "    </tr>\n",
              "    <tr>\n",
              "      <th>19994</th>\n",
              "      <td>0</td>\n",
              "      <td>0</td>\n",
              "      <td>0</td>\n",
              "      <td>0</td>\n",
              "      <td>0</td>\n",
              "      <td>0</td>\n",
              "      <td>0</td>\n",
              "      <td>0</td>\n",
              "      <td>0</td>\n",
              "      <td>0</td>\n",
              "      <td>...</td>\n",
              "      <td>0</td>\n",
              "      <td>0</td>\n",
              "      <td>0</td>\n",
              "      <td>0</td>\n",
              "      <td>0</td>\n",
              "      <td>0</td>\n",
              "      <td>0</td>\n",
              "      <td>0</td>\n",
              "      <td>0</td>\n",
              "      <td>0</td>\n",
              "    </tr>\n",
              "    <tr>\n",
              "      <th>19995</th>\n",
              "      <td>1</td>\n",
              "      <td>0</td>\n",
              "      <td>0</td>\n",
              "      <td>0</td>\n",
              "      <td>0</td>\n",
              "      <td>0</td>\n",
              "      <td>0</td>\n",
              "      <td>0</td>\n",
              "      <td>0</td>\n",
              "      <td>0</td>\n",
              "      <td>...</td>\n",
              "      <td>0</td>\n",
              "      <td>0</td>\n",
              "      <td>0</td>\n",
              "      <td>0</td>\n",
              "      <td>0</td>\n",
              "      <td>0</td>\n",
              "      <td>0</td>\n",
              "      <td>0</td>\n",
              "      <td>0</td>\n",
              "      <td>0</td>\n",
              "    </tr>\n",
              "    <tr>\n",
              "      <th>19996</th>\n",
              "      <td>2</td>\n",
              "      <td>0</td>\n",
              "      <td>0</td>\n",
              "      <td>0</td>\n",
              "      <td>0</td>\n",
              "      <td>0</td>\n",
              "      <td>0</td>\n",
              "      <td>0</td>\n",
              "      <td>0</td>\n",
              "      <td>0</td>\n",
              "      <td>...</td>\n",
              "      <td>0</td>\n",
              "      <td>0</td>\n",
              "      <td>0</td>\n",
              "      <td>0</td>\n",
              "      <td>0</td>\n",
              "      <td>0</td>\n",
              "      <td>0</td>\n",
              "      <td>0</td>\n",
              "      <td>0</td>\n",
              "      <td>0</td>\n",
              "    </tr>\n",
              "    <tr>\n",
              "      <th>19997</th>\n",
              "      <td>9</td>\n",
              "      <td>0</td>\n",
              "      <td>0</td>\n",
              "      <td>0</td>\n",
              "      <td>0</td>\n",
              "      <td>0</td>\n",
              "      <td>0</td>\n",
              "      <td>0</td>\n",
              "      <td>0</td>\n",
              "      <td>0</td>\n",
              "      <td>...</td>\n",
              "      <td>0</td>\n",
              "      <td>0</td>\n",
              "      <td>0</td>\n",
              "      <td>0</td>\n",
              "      <td>0</td>\n",
              "      <td>0</td>\n",
              "      <td>0</td>\n",
              "      <td>0</td>\n",
              "      <td>0</td>\n",
              "      <td>0</td>\n",
              "    </tr>\n",
              "    <tr>\n",
              "      <th>19998</th>\n",
              "      <td>5</td>\n",
              "      <td>0</td>\n",
              "      <td>0</td>\n",
              "      <td>0</td>\n",
              "      <td>0</td>\n",
              "      <td>0</td>\n",
              "      <td>0</td>\n",
              "      <td>0</td>\n",
              "      <td>0</td>\n",
              "      <td>0</td>\n",
              "      <td>...</td>\n",
              "      <td>0</td>\n",
              "      <td>0</td>\n",
              "      <td>0</td>\n",
              "      <td>0</td>\n",
              "      <td>0</td>\n",
              "      <td>0</td>\n",
              "      <td>0</td>\n",
              "      <td>0</td>\n",
              "      <td>0</td>\n",
              "      <td>0</td>\n",
              "    </tr>\n",
              "  </tbody>\n",
              "</table>\n",
              "<p>19999 rows × 785 columns</p>\n",
              "</div>\n",
              "      <button class=\"colab-df-convert\" onclick=\"convertToInteractive('df-5551fbe6-dce1-403b-8304-13153e7eff44')\"\n",
              "              title=\"Convert this dataframe to an interactive table.\"\n",
              "              style=\"display:none;\">\n",
              "        \n",
              "  <svg xmlns=\"http://www.w3.org/2000/svg\" height=\"24px\"viewBox=\"0 0 24 24\"\n",
              "       width=\"24px\">\n",
              "    <path d=\"M0 0h24v24H0V0z\" fill=\"none\"/>\n",
              "    <path d=\"M18.56 5.44l.94 2.06.94-2.06 2.06-.94-2.06-.94-.94-2.06-.94 2.06-2.06.94zm-11 1L8.5 8.5l.94-2.06 2.06-.94-2.06-.94L8.5 2.5l-.94 2.06-2.06.94zm10 10l.94 2.06.94-2.06 2.06-.94-2.06-.94-.94-2.06-.94 2.06-2.06.94z\"/><path d=\"M17.41 7.96l-1.37-1.37c-.4-.4-.92-.59-1.43-.59-.52 0-1.04.2-1.43.59L10.3 9.45l-7.72 7.72c-.78.78-.78 2.05 0 2.83L4 21.41c.39.39.9.59 1.41.59.51 0 1.02-.2 1.41-.59l7.78-7.78 2.81-2.81c.8-.78.8-2.07 0-2.86zM5.41 20L4 18.59l7.72-7.72 1.47 1.35L5.41 20z\"/>\n",
              "  </svg>\n",
              "      </button>\n",
              "      \n",
              "  <style>\n",
              "    .colab-df-container {\n",
              "      display:flex;\n",
              "      flex-wrap:wrap;\n",
              "      gap: 12px;\n",
              "    }\n",
              "\n",
              "    .colab-df-convert {\n",
              "      background-color: #E8F0FE;\n",
              "      border: none;\n",
              "      border-radius: 50%;\n",
              "      cursor: pointer;\n",
              "      display: none;\n",
              "      fill: #1967D2;\n",
              "      height: 32px;\n",
              "      padding: 0 0 0 0;\n",
              "      width: 32px;\n",
              "    }\n",
              "\n",
              "    .colab-df-convert:hover {\n",
              "      background-color: #E2EBFA;\n",
              "      box-shadow: 0px 1px 2px rgba(60, 64, 67, 0.3), 0px 1px 3px 1px rgba(60, 64, 67, 0.15);\n",
              "      fill: #174EA6;\n",
              "    }\n",
              "\n",
              "    [theme=dark] .colab-df-convert {\n",
              "      background-color: #3B4455;\n",
              "      fill: #D2E3FC;\n",
              "    }\n",
              "\n",
              "    [theme=dark] .colab-df-convert:hover {\n",
              "      background-color: #434B5C;\n",
              "      box-shadow: 0px 1px 3px 1px rgba(0, 0, 0, 0.15);\n",
              "      filter: drop-shadow(0px 1px 2px rgba(0, 0, 0, 0.3));\n",
              "      fill: #FFFFFF;\n",
              "    }\n",
              "  </style>\n",
              "\n",
              "      <script>\n",
              "        const buttonEl =\n",
              "          document.querySelector('#df-5551fbe6-dce1-403b-8304-13153e7eff44 button.colab-df-convert');\n",
              "        buttonEl.style.display =\n",
              "          google.colab.kernel.accessAllowed ? 'block' : 'none';\n",
              "\n",
              "        async function convertToInteractive(key) {\n",
              "          const element = document.querySelector('#df-5551fbe6-dce1-403b-8304-13153e7eff44');\n",
              "          const dataTable =\n",
              "            await google.colab.kernel.invokeFunction('convertToInteractive',\n",
              "                                                     [key], {});\n",
              "          if (!dataTable) return;\n",
              "\n",
              "          const docLinkHtml = 'Like what you see? Visit the ' +\n",
              "            '<a target=\"_blank\" href=https://colab.research.google.com/notebooks/data_table.ipynb>data table notebook</a>'\n",
              "            + ' to learn more about interactive tables.';\n",
              "          element.innerHTML = '';\n",
              "          dataTable['output_type'] = 'display_data';\n",
              "          await google.colab.output.renderOutput(dataTable, element);\n",
              "          const docLink = document.createElement('div');\n",
              "          docLink.innerHTML = docLinkHtml;\n",
              "          element.appendChild(docLink);\n",
              "        }\n",
              "      </script>\n",
              "    </div>\n",
              "  </div>\n",
              "  "
            ]
          },
          "metadata": {},
          "execution_count": 20
        }
      ]
    },
    {
      "cell_type": "markdown",
      "source": [
        "3. utilizando a mesma função, leia o CSV \n",
        "dica: leia a documentação do pandas para ver como é sugerido lidar com links\n",
        "- link do csv: https://perso.telecom-paristech.fr/eagan/class/igr204/data/factbook.csv\n",
        "- dica: atenção para a propriedade `delimiter` do `read_csv`\n"
      ],
      "metadata": {
        "id": "geON7hpbY5X_"
      }
    },
    {
      "cell_type": "code",
      "source": [
        "import pandas as pd\n",
        "\n",
        "url = 'https://perso.telecom-paristech.fr/eagan/class/igr204/data/factbook.csv'\n",
        "df_factbook = pd.read_csv(url, sep=';')\n",
        "\n",
        "df_factbook"
      ],
      "metadata": {
        "id": "BjrCIl0kX2hI",
        "colab": {
          "base_uri": "https://localhost:8080/",
          "height": 557
        },
        "outputId": "cea2d9df-cfc8-4d61-f567-d9d2044a73dd"
      },
      "execution_count": null,
      "outputs": [
        {
          "output_type": "execute_result",
          "data": {
            "text/plain": [
              "            Country Area(sq km) Birth rate(births/1000 population)  \\\n",
              "0            String      double                             double   \n",
              "1       Afghanistan      647500                              47.02   \n",
              "2          Akrotiri         123                                NaN   \n",
              "3           Albania       28748                              15.08   \n",
              "4           Algeria     2381740                              17.13   \n",
              "..              ...         ...                                ...   \n",
              "259       West Bank        5860                              32.37   \n",
              "260  Western Sahara      266000                                NaN   \n",
              "261           Yemen      527970                              43.07   \n",
              "262          Zambia      752614                              41.38   \n",
              "263        Zimbabwe      390580                              29.74   \n",
              "\n",
              "    Current account balance Death rate(deaths/1000 population)  \\\n",
              "0                    double                             double   \n",
              "1                       NaN                              20.75   \n",
              "2                       NaN                                NaN   \n",
              "3                -504000000                               5.12   \n",
              "4               11900000000                               4.60   \n",
              "..                      ...                                ...   \n",
              "259                     NaN                               3.99   \n",
              "260                     NaN                                NaN   \n",
              "261               369900000                               8.53   \n",
              "262              -181400000                              20.23   \n",
              "263              -230300000                              24.66   \n",
              "\n",
              "    Debt - external Electricity - consumption(kWh)  \\\n",
              "0            double                         double   \n",
              "1        8000000000                      652200000   \n",
              "2               NaN                            NaN   \n",
              "3        1410000000                     6760000000   \n",
              "4       21900000000                    23610000000   \n",
              "..              ...                            ...   \n",
              "259       108000000                            NaN   \n",
              "260             NaN                       83700000   \n",
              "261      5400000000                     2827000000   \n",
              "262      5353000000                     5345000000   \n",
              "263      4086000000                    11220000000   \n",
              "\n",
              "    Electricity - production(kWh)      Exports           GDP  ...  \\\n",
              "0                          double       double        double  ...   \n",
              "1                       540000000    446000000   21500000000  ...   \n",
              "2                             NaN          NaN           NaN  ...   \n",
              "3                      5680000000    552400000   17460000000  ...   \n",
              "4                     25760000000  32160000000  212300000000  ...   \n",
              "..                            ...          ...           ...  ...   \n",
              "259                           NaN    205000000    1800000000  ...   \n",
              "260                      90000000          NaN           NaN  ...   \n",
              "261                    3040000000   4468000000   16250000000  ...   \n",
              "262                    8167000000   1548000000    9409000000  ...   \n",
              "263                    8839000000   1409000000   24370000000  ...   \n",
              "\n",
              "    Oil - production(bbl/day) Oil - proved reserves(bbl) Population  \\\n",
              "0                      double                     double     double   \n",
              "1                           0                          0   29928987   \n",
              "2                         NaN                        NaN        NaN   \n",
              "3                        2000                  185500000    3563112   \n",
              "4                     1200000                11870000000   32531853   \n",
              "..                        ...                        ...        ...   \n",
              "259                       NaN                        NaN    2385615   \n",
              "260                         0                        NaN     273008   \n",
              "261                    417500                 4000000000   20727063   \n",
              "262                         0                        NaN   11261795   \n",
              "263                         0                        NaN   12746990   \n",
              "\n",
              "    Public debt(% of GDP) Railways(km) Reserves of foreign exchange & gold  \\\n",
              "0                  double       double                              double   \n",
              "1                     NaN          NaN                                 NaN   \n",
              "2                     NaN          NaN                                 NaN   \n",
              "3                     NaN          447                          1206000000   \n",
              "4                   37.40         3973                         43550000000   \n",
              "..                    ...          ...                                 ...   \n",
              "259                   NaN          NaN                                 NaN   \n",
              "260                   NaN          NaN                                 NaN   \n",
              "261                 46.40          NaN                          5300000000   \n",
              "262                127.50         2173                           345000000   \n",
              "263                 52.30         3077                            57000000   \n",
              "\n",
              "    Telephones - main lines in use Telephones - mobile cellular  \\\n",
              "0                           double                       double   \n",
              "1                            33100                        15000   \n",
              "2                              NaN                          NaN   \n",
              "3                           255000                      1100000   \n",
              "4                          2199600                      1447310   \n",
              "..                             ...                          ...   \n",
              "259                         301600                       480000   \n",
              "260                            NaN                            0   \n",
              "261                         542200                       411100   \n",
              "262                          88400                       241000   \n",
              "263                         300900                       379100   \n",
              "\n",
              "    Total fertility rate(children born/woman) Unemployment rate(%)  \n",
              "0                                      double               double  \n",
              "1                                        6.75                  NaN  \n",
              "2                                         NaN                  NaN  \n",
              "3                                        2.04                14.80  \n",
              "4                                        1.92                25.40  \n",
              "..                                        ...                  ...  \n",
              "259                                      4.40                27.20  \n",
              "260                                       NaN                  NaN  \n",
              "261                                      6.67                35.00  \n",
              "262                                      5.47                50.00  \n",
              "263                                      3.54                70.00  \n",
              "\n",
              "[264 rows x 45 columns]"
            ],
            "text/html": [
              "\n",
              "  <div id=\"df-b8c2eee6-d396-4ade-be38-57d77ee50c34\">\n",
              "    <div class=\"colab-df-container\">\n",
              "      <div>\n",
              "<style scoped>\n",
              "    .dataframe tbody tr th:only-of-type {\n",
              "        vertical-align: middle;\n",
              "    }\n",
              "\n",
              "    .dataframe tbody tr th {\n",
              "        vertical-align: top;\n",
              "    }\n",
              "\n",
              "    .dataframe thead th {\n",
              "        text-align: right;\n",
              "    }\n",
              "</style>\n",
              "<table border=\"1\" class=\"dataframe\">\n",
              "  <thead>\n",
              "    <tr style=\"text-align: right;\">\n",
              "      <th></th>\n",
              "      <th>Country</th>\n",
              "      <th>Area(sq km)</th>\n",
              "      <th>Birth rate(births/1000 population)</th>\n",
              "      <th>Current account balance</th>\n",
              "      <th>Death rate(deaths/1000 population)</th>\n",
              "      <th>Debt - external</th>\n",
              "      <th>Electricity - consumption(kWh)</th>\n",
              "      <th>Electricity - production(kWh)</th>\n",
              "      <th>Exports</th>\n",
              "      <th>GDP</th>\n",
              "      <th>...</th>\n",
              "      <th>Oil - production(bbl/day)</th>\n",
              "      <th>Oil - proved reserves(bbl)</th>\n",
              "      <th>Population</th>\n",
              "      <th>Public debt(% of GDP)</th>\n",
              "      <th>Railways(km)</th>\n",
              "      <th>Reserves of foreign exchange &amp; gold</th>\n",
              "      <th>Telephones - main lines in use</th>\n",
              "      <th>Telephones - mobile cellular</th>\n",
              "      <th>Total fertility rate(children born/woman)</th>\n",
              "      <th>Unemployment rate(%)</th>\n",
              "    </tr>\n",
              "  </thead>\n",
              "  <tbody>\n",
              "    <tr>\n",
              "      <th>0</th>\n",
              "      <td>String</td>\n",
              "      <td>double</td>\n",
              "      <td>double</td>\n",
              "      <td>double</td>\n",
              "      <td>double</td>\n",
              "      <td>double</td>\n",
              "      <td>double</td>\n",
              "      <td>double</td>\n",
              "      <td>double</td>\n",
              "      <td>double</td>\n",
              "      <td>...</td>\n",
              "      <td>double</td>\n",
              "      <td>double</td>\n",
              "      <td>double</td>\n",
              "      <td>double</td>\n",
              "      <td>double</td>\n",
              "      <td>double</td>\n",
              "      <td>double</td>\n",
              "      <td>double</td>\n",
              "      <td>double</td>\n",
              "      <td>double</td>\n",
              "    </tr>\n",
              "    <tr>\n",
              "      <th>1</th>\n",
              "      <td>Afghanistan</td>\n",
              "      <td>647500</td>\n",
              "      <td>47.02</td>\n",
              "      <td>NaN</td>\n",
              "      <td>20.75</td>\n",
              "      <td>8000000000</td>\n",
              "      <td>652200000</td>\n",
              "      <td>540000000</td>\n",
              "      <td>446000000</td>\n",
              "      <td>21500000000</td>\n",
              "      <td>...</td>\n",
              "      <td>0</td>\n",
              "      <td>0</td>\n",
              "      <td>29928987</td>\n",
              "      <td>NaN</td>\n",
              "      <td>NaN</td>\n",
              "      <td>NaN</td>\n",
              "      <td>33100</td>\n",
              "      <td>15000</td>\n",
              "      <td>6.75</td>\n",
              "      <td>NaN</td>\n",
              "    </tr>\n",
              "    <tr>\n",
              "      <th>2</th>\n",
              "      <td>Akrotiri</td>\n",
              "      <td>123</td>\n",
              "      <td>NaN</td>\n",
              "      <td>NaN</td>\n",
              "      <td>NaN</td>\n",
              "      <td>NaN</td>\n",
              "      <td>NaN</td>\n",
              "      <td>NaN</td>\n",
              "      <td>NaN</td>\n",
              "      <td>NaN</td>\n",
              "      <td>...</td>\n",
              "      <td>NaN</td>\n",
              "      <td>NaN</td>\n",
              "      <td>NaN</td>\n",
              "      <td>NaN</td>\n",
              "      <td>NaN</td>\n",
              "      <td>NaN</td>\n",
              "      <td>NaN</td>\n",
              "      <td>NaN</td>\n",
              "      <td>NaN</td>\n",
              "      <td>NaN</td>\n",
              "    </tr>\n",
              "    <tr>\n",
              "      <th>3</th>\n",
              "      <td>Albania</td>\n",
              "      <td>28748</td>\n",
              "      <td>15.08</td>\n",
              "      <td>-504000000</td>\n",
              "      <td>5.12</td>\n",
              "      <td>1410000000</td>\n",
              "      <td>6760000000</td>\n",
              "      <td>5680000000</td>\n",
              "      <td>552400000</td>\n",
              "      <td>17460000000</td>\n",
              "      <td>...</td>\n",
              "      <td>2000</td>\n",
              "      <td>185500000</td>\n",
              "      <td>3563112</td>\n",
              "      <td>NaN</td>\n",
              "      <td>447</td>\n",
              "      <td>1206000000</td>\n",
              "      <td>255000</td>\n",
              "      <td>1100000</td>\n",
              "      <td>2.04</td>\n",
              "      <td>14.80</td>\n",
              "    </tr>\n",
              "    <tr>\n",
              "      <th>4</th>\n",
              "      <td>Algeria</td>\n",
              "      <td>2381740</td>\n",
              "      <td>17.13</td>\n",
              "      <td>11900000000</td>\n",
              "      <td>4.60</td>\n",
              "      <td>21900000000</td>\n",
              "      <td>23610000000</td>\n",
              "      <td>25760000000</td>\n",
              "      <td>32160000000</td>\n",
              "      <td>212300000000</td>\n",
              "      <td>...</td>\n",
              "      <td>1200000</td>\n",
              "      <td>11870000000</td>\n",
              "      <td>32531853</td>\n",
              "      <td>37.40</td>\n",
              "      <td>3973</td>\n",
              "      <td>43550000000</td>\n",
              "      <td>2199600</td>\n",
              "      <td>1447310</td>\n",
              "      <td>1.92</td>\n",
              "      <td>25.40</td>\n",
              "    </tr>\n",
              "    <tr>\n",
              "      <th>...</th>\n",
              "      <td>...</td>\n",
              "      <td>...</td>\n",
              "      <td>...</td>\n",
              "      <td>...</td>\n",
              "      <td>...</td>\n",
              "      <td>...</td>\n",
              "      <td>...</td>\n",
              "      <td>...</td>\n",
              "      <td>...</td>\n",
              "      <td>...</td>\n",
              "      <td>...</td>\n",
              "      <td>...</td>\n",
              "      <td>...</td>\n",
              "      <td>...</td>\n",
              "      <td>...</td>\n",
              "      <td>...</td>\n",
              "      <td>...</td>\n",
              "      <td>...</td>\n",
              "      <td>...</td>\n",
              "      <td>...</td>\n",
              "      <td>...</td>\n",
              "    </tr>\n",
              "    <tr>\n",
              "      <th>259</th>\n",
              "      <td>West Bank</td>\n",
              "      <td>5860</td>\n",
              "      <td>32.37</td>\n",
              "      <td>NaN</td>\n",
              "      <td>3.99</td>\n",
              "      <td>108000000</td>\n",
              "      <td>NaN</td>\n",
              "      <td>NaN</td>\n",
              "      <td>205000000</td>\n",
              "      <td>1800000000</td>\n",
              "      <td>...</td>\n",
              "      <td>NaN</td>\n",
              "      <td>NaN</td>\n",
              "      <td>2385615</td>\n",
              "      <td>NaN</td>\n",
              "      <td>NaN</td>\n",
              "      <td>NaN</td>\n",
              "      <td>301600</td>\n",
              "      <td>480000</td>\n",
              "      <td>4.40</td>\n",
              "      <td>27.20</td>\n",
              "    </tr>\n",
              "    <tr>\n",
              "      <th>260</th>\n",
              "      <td>Western Sahara</td>\n",
              "      <td>266000</td>\n",
              "      <td>NaN</td>\n",
              "      <td>NaN</td>\n",
              "      <td>NaN</td>\n",
              "      <td>NaN</td>\n",
              "      <td>83700000</td>\n",
              "      <td>90000000</td>\n",
              "      <td>NaN</td>\n",
              "      <td>NaN</td>\n",
              "      <td>...</td>\n",
              "      <td>0</td>\n",
              "      <td>NaN</td>\n",
              "      <td>273008</td>\n",
              "      <td>NaN</td>\n",
              "      <td>NaN</td>\n",
              "      <td>NaN</td>\n",
              "      <td>NaN</td>\n",
              "      <td>0</td>\n",
              "      <td>NaN</td>\n",
              "      <td>NaN</td>\n",
              "    </tr>\n",
              "    <tr>\n",
              "      <th>261</th>\n",
              "      <td>Yemen</td>\n",
              "      <td>527970</td>\n",
              "      <td>43.07</td>\n",
              "      <td>369900000</td>\n",
              "      <td>8.53</td>\n",
              "      <td>5400000000</td>\n",
              "      <td>2827000000</td>\n",
              "      <td>3040000000</td>\n",
              "      <td>4468000000</td>\n",
              "      <td>16250000000</td>\n",
              "      <td>...</td>\n",
              "      <td>417500</td>\n",
              "      <td>4000000000</td>\n",
              "      <td>20727063</td>\n",
              "      <td>46.40</td>\n",
              "      <td>NaN</td>\n",
              "      <td>5300000000</td>\n",
              "      <td>542200</td>\n",
              "      <td>411100</td>\n",
              "      <td>6.67</td>\n",
              "      <td>35.00</td>\n",
              "    </tr>\n",
              "    <tr>\n",
              "      <th>262</th>\n",
              "      <td>Zambia</td>\n",
              "      <td>752614</td>\n",
              "      <td>41.38</td>\n",
              "      <td>-181400000</td>\n",
              "      <td>20.23</td>\n",
              "      <td>5353000000</td>\n",
              "      <td>5345000000</td>\n",
              "      <td>8167000000</td>\n",
              "      <td>1548000000</td>\n",
              "      <td>9409000000</td>\n",
              "      <td>...</td>\n",
              "      <td>0</td>\n",
              "      <td>NaN</td>\n",
              "      <td>11261795</td>\n",
              "      <td>127.50</td>\n",
              "      <td>2173</td>\n",
              "      <td>345000000</td>\n",
              "      <td>88400</td>\n",
              "      <td>241000</td>\n",
              "      <td>5.47</td>\n",
              "      <td>50.00</td>\n",
              "    </tr>\n",
              "    <tr>\n",
              "      <th>263</th>\n",
              "      <td>Zimbabwe</td>\n",
              "      <td>390580</td>\n",
              "      <td>29.74</td>\n",
              "      <td>-230300000</td>\n",
              "      <td>24.66</td>\n",
              "      <td>4086000000</td>\n",
              "      <td>11220000000</td>\n",
              "      <td>8839000000</td>\n",
              "      <td>1409000000</td>\n",
              "      <td>24370000000</td>\n",
              "      <td>...</td>\n",
              "      <td>0</td>\n",
              "      <td>NaN</td>\n",
              "      <td>12746990</td>\n",
              "      <td>52.30</td>\n",
              "      <td>3077</td>\n",
              "      <td>57000000</td>\n",
              "      <td>300900</td>\n",
              "      <td>379100</td>\n",
              "      <td>3.54</td>\n",
              "      <td>70.00</td>\n",
              "    </tr>\n",
              "  </tbody>\n",
              "</table>\n",
              "<p>264 rows × 45 columns</p>\n",
              "</div>\n",
              "      <button class=\"colab-df-convert\" onclick=\"convertToInteractive('df-b8c2eee6-d396-4ade-be38-57d77ee50c34')\"\n",
              "              title=\"Convert this dataframe to an interactive table.\"\n",
              "              style=\"display:none;\">\n",
              "        \n",
              "  <svg xmlns=\"http://www.w3.org/2000/svg\" height=\"24px\"viewBox=\"0 0 24 24\"\n",
              "       width=\"24px\">\n",
              "    <path d=\"M0 0h24v24H0V0z\" fill=\"none\"/>\n",
              "    <path d=\"M18.56 5.44l.94 2.06.94-2.06 2.06-.94-2.06-.94-.94-2.06-.94 2.06-2.06.94zm-11 1L8.5 8.5l.94-2.06 2.06-.94-2.06-.94L8.5 2.5l-.94 2.06-2.06.94zm10 10l.94 2.06.94-2.06 2.06-.94-2.06-.94-.94-2.06-.94 2.06-2.06.94z\"/><path d=\"M17.41 7.96l-1.37-1.37c-.4-.4-.92-.59-1.43-.59-.52 0-1.04.2-1.43.59L10.3 9.45l-7.72 7.72c-.78.78-.78 2.05 0 2.83L4 21.41c.39.39.9.59 1.41.59.51 0 1.02-.2 1.41-.59l7.78-7.78 2.81-2.81c.8-.78.8-2.07 0-2.86zM5.41 20L4 18.59l7.72-7.72 1.47 1.35L5.41 20z\"/>\n",
              "  </svg>\n",
              "      </button>\n",
              "      \n",
              "  <style>\n",
              "    .colab-df-container {\n",
              "      display:flex;\n",
              "      flex-wrap:wrap;\n",
              "      gap: 12px;\n",
              "    }\n",
              "\n",
              "    .colab-df-convert {\n",
              "      background-color: #E8F0FE;\n",
              "      border: none;\n",
              "      border-radius: 50%;\n",
              "      cursor: pointer;\n",
              "      display: none;\n",
              "      fill: #1967D2;\n",
              "      height: 32px;\n",
              "      padding: 0 0 0 0;\n",
              "      width: 32px;\n",
              "    }\n",
              "\n",
              "    .colab-df-convert:hover {\n",
              "      background-color: #E2EBFA;\n",
              "      box-shadow: 0px 1px 2px rgba(60, 64, 67, 0.3), 0px 1px 3px 1px rgba(60, 64, 67, 0.15);\n",
              "      fill: #174EA6;\n",
              "    }\n",
              "\n",
              "    [theme=dark] .colab-df-convert {\n",
              "      background-color: #3B4455;\n",
              "      fill: #D2E3FC;\n",
              "    }\n",
              "\n",
              "    [theme=dark] .colab-df-convert:hover {\n",
              "      background-color: #434B5C;\n",
              "      box-shadow: 0px 1px 3px 1px rgba(0, 0, 0, 0.15);\n",
              "      filter: drop-shadow(0px 1px 2px rgba(0, 0, 0, 0.3));\n",
              "      fill: #FFFFFF;\n",
              "    }\n",
              "  </style>\n",
              "\n",
              "      <script>\n",
              "        const buttonEl =\n",
              "          document.querySelector('#df-b8c2eee6-d396-4ade-be38-57d77ee50c34 button.colab-df-convert');\n",
              "        buttonEl.style.display =\n",
              "          google.colab.kernel.accessAllowed ? 'block' : 'none';\n",
              "\n",
              "        async function convertToInteractive(key) {\n",
              "          const element = document.querySelector('#df-b8c2eee6-d396-4ade-be38-57d77ee50c34');\n",
              "          const dataTable =\n",
              "            await google.colab.kernel.invokeFunction('convertToInteractive',\n",
              "                                                     [key], {});\n",
              "          if (!dataTable) return;\n",
              "\n",
              "          const docLinkHtml = 'Like what you see? Visit the ' +\n",
              "            '<a target=\"_blank\" href=https://colab.research.google.com/notebooks/data_table.ipynb>data table notebook</a>'\n",
              "            + ' to learn more about interactive tables.';\n",
              "          element.innerHTML = '';\n",
              "          dataTable['output_type'] = 'display_data';\n",
              "          await google.colab.output.renderOutput(dataTable, element);\n",
              "          const docLink = document.createElement('div');\n",
              "          docLink.innerHTML = docLinkHtml;\n",
              "          element.appendChild(docLink);\n",
              "        }\n",
              "      </script>\n",
              "    </div>\n",
              "  </div>\n",
              "  "
            ]
          },
          "metadata": {},
          "execution_count": 28
        }
      ]
    },
    {
      "cell_type": "markdown",
      "source": [
        "**[EXTRA]** A partir da a ultilizaçao do dataframe da última questão, que informações é possível obter além do próprio [dataframe](https://pandas.pydata.org/docs/reference/api/pandas.DataFrame.html) fornecido? "
      ],
      "metadata": {
        "id": "E7BvHWctcO60"
      }
    },
    {
      "cell_type": "code",
      "source": [
        "import pandas as pd\n",
        "url = 'https://perso.telecom-paristech.fr/eagan/class/igr204/data/factbook.csv'\n",
        "df_factbook = pd.read_csv(url, sep=';')\n",
        "\n",
        "### visualiza as primeiras 6 linhas do conjunto de dados: \n",
        "df_factbook.head(n=6)\n",
        "\n",
        "### visualiza as últimas 5 linhas do conjunto de dados:\n",
        "df_factbook.tail()\n",
        "\n",
        "### resumo das informações das colunas\n",
        "df_factbook.describe()\n",
        "\n",
        "### tipos de dados em cada coluna\n",
        "df_factbook.dtypes\n",
        "\n",
        "### quantidade total de linhas e colunas\n",
        "df_factbook.shape\n",
        "\n",
        "### resumo conciso do conjunto de dados\n",
        "df_factbook.info()\n",
        "\n",
        "\n"
      ],
      "metadata": {
        "id": "uzUdBbuRb-dr",
        "colab": {
          "base_uri": "https://localhost:8080/"
        },
        "outputId": "d23c32da-8493-4019-a5a6-9bf75def6097"
      },
      "execution_count": null,
      "outputs": [
        {
          "output_type": "stream",
          "name": "stdout",
          "text": [
            "<class 'pandas.core.frame.DataFrame'>\n",
            "RangeIndex: 264 entries, 0 to 263\n",
            "Data columns (total 45 columns):\n",
            " #   Column                                          Non-Null Count  Dtype \n",
            "---  ------                                          --------------  ----- \n",
            " 0   Country                                         264 non-null    object\n",
            " 1   Area(sq km)                                     264 non-null    object\n",
            " 2   Birth rate(births/1000 population)              226 non-null    object\n",
            " 3   Current account balance                         150 non-null    object\n",
            " 4   Death rate(deaths/1000 population)              226 non-null    object\n",
            " 5   Debt - external                                 202 non-null    object\n",
            " 6   Electricity - consumption(kWh)                  216 non-null    object\n",
            " 7   Electricity - production(kWh)                   214 non-null    object\n",
            " 8   Exports                                         225 non-null    object\n",
            " 9   GDP                                             231 non-null    object\n",
            " 10  GDP - per capita                                231 non-null    object\n",
            " 11  GDP - real growth rate(%)                       213 non-null    object\n",
            " 12  HIV/AIDS - adult prevalence rate(%)             169 non-null    object\n",
            " 13  HIV/AIDS - deaths                               149 non-null    object\n",
            " 14  HIV/AIDS - people living with HIV/AIDS          165 non-null    object\n",
            " 15  Highways(km)                                    231 non-null    object\n",
            " 16  Imports                                         225 non-null    object\n",
            " 17  Industrial production growth rate(%)            165 non-null    object\n",
            " 18  Infant mortality rate(deaths/1000 live births)  226 non-null    object\n",
            " 19  Inflation rate (consumer prices)(%)             223 non-null    object\n",
            " 20  Internet hosts                                  192 non-null    object\n",
            " 21  Internet users                                  217 non-null    object\n",
            " 22  Investment (gross fixed)(% of GDP)              147 non-null    object\n",
            " 23  Labor force                                     215 non-null    object\n",
            " 24  Life expectancy at birth(years)                 226 non-null    object\n",
            " 25  Military expenditures - dollar figure           171 non-null    object\n",
            " 26  Military expenditures - percent of GDP(%)       166 non-null    object\n",
            " 27  Natural gas - consumption(cu m)                 109 non-null    object\n",
            " 28  Natural gas - exports(cu m)                     109 non-null    object\n",
            " 29  Natural gas - imports(cu m)                     109 non-null    object\n",
            " 30  Natural gas - production(cu m)                  108 non-null    object\n",
            " 31  Natural gas - proved reserves(cu m)             98 non-null     object\n",
            " 32  Oil - consumption(bbl/day)                      213 non-null    object\n",
            " 33  Oil - exports(bbl/day)                          59 non-null     object\n",
            " 34  Oil - imports(bbl/day)                          47 non-null     object\n",
            " 35  Oil - production(bbl/day)                       213 non-null    object\n",
            " 36  Oil - proved reserves(bbl)                      98 non-null     object\n",
            " 37  Population                                      239 non-null    object\n",
            " 38  Public debt(% of GDP)                           109 non-null    object\n",
            " 39  Railways(km)                                    135 non-null    object\n",
            " 40  Reserves of foreign exchange & gold             148 non-null    object\n",
            " 41  Telephones - main lines in use                  233 non-null    object\n",
            " 42  Telephones - mobile cellular                    229 non-null    object\n",
            " 43  Total fertility rate(children born/woman)       226 non-null    object\n",
            " 44  Unemployment rate(%)                            193 non-null    object\n",
            "dtypes: object(45)\n",
            "memory usage: 92.9+ KB\n"
          ]
        }
      ]
    }
  ]
}